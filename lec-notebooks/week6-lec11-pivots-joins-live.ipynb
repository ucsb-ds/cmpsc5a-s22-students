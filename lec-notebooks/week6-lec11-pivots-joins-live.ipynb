{
 "cells": [
  {
   "cell_type": "code",
   "execution_count": 3,
   "metadata": {},
   "outputs": [],
   "source": [
    "from datascience import *\n",
    "import numpy as np\n",
    "\n",
    "%matplotlib inline\n",
    "import matplotlib.pyplot as plots\n",
    "plots.style.use('fivethirtyeight')"
   ]
  },
  {
   "cell_type": "markdown",
   "metadata": {},
   "source": [
    "# Lecture 11 #"
   ]
  },
  {
   "cell_type": "markdown",
   "metadata": {},
   "source": [
    "## Lists"
   ]
  },
  {
   "cell_type": "code",
   "execution_count": 4,
   "metadata": {},
   "outputs": [
    {
     "data": {
      "text/plain": [
       "['hello', 7, 3.14, True]"
      ]
     },
     "execution_count": 4,
     "metadata": {},
     "output_type": "execute_result"
    }
   ],
   "source": [
    "simple_list = ['hello', 7, 3.14, True] #multiple data types within a list\n",
    "simple_list"
   ]
  },
  {
   "cell_type": "code",
   "execution_count": 7,
   "metadata": {},
   "outputs": [
    {
     "data": {
      "text/plain": [
       "str"
      ]
     },
     "execution_count": 7,
     "metadata": {},
     "output_type": "execute_result"
    }
   ],
   "source": [
    "my_array = make_array('hello', 7, 3.14, True)\n",
    "type(my_array.item(1)) # arrays want all elements to be of the same data type\n",
    "# all integers, all floats, all strings, etc.\n",
    "#all my elements were converted to strings (one data type)"
   ]
  },
  {
   "cell_type": "code",
   "execution_count": 18,
   "metadata": {},
   "outputs": [
    {
     "data": {
      "text/plain": [
       "array([1, 2, 3])"
      ]
     },
     "execution_count": 18,
     "metadata": {},
     "output_type": "execute_result"
    }
   ],
   "source": [
    "my_array = make_array(1, 2, 3)\n",
    "\n",
    "crowded_list = [my_array, 'what is going on', -10]\n",
    "crowded_list[0]"
   ]
  },
  {
   "cell_type": "code",
   "execution_count": 12,
   "metadata": {},
   "outputs": [
    {
     "name": "stdout",
     "output_type": "stream",
     "text": [
      "Help on class list in module builtins:\n",
      "\n",
      "class list(object)\n",
      " |  list(iterable=(), /)\n",
      " |  \n",
      " |  Built-in mutable sequence.\n",
      " |  \n",
      " |  If no argument is given, the constructor creates a new empty list.\n",
      " |  The argument must be an iterable if specified.\n",
      " |  \n",
      " |  Methods defined here:\n",
      " |  \n",
      " |  __add__(self, value, /)\n",
      " |      Return self+value.\n",
      " |  \n",
      " |  __contains__(self, key, /)\n",
      " |      Return key in self.\n",
      " |  \n",
      " |  __delitem__(self, key, /)\n",
      " |      Delete self[key].\n",
      " |  \n",
      " |  __eq__(self, value, /)\n",
      " |      Return self==value.\n",
      " |  \n",
      " |  __ge__(self, value, /)\n",
      " |      Return self>=value.\n",
      " |  \n",
      " |  __getattribute__(self, name, /)\n",
      " |      Return getattr(self, name).\n",
      " |  \n",
      " |  __getitem__(...)\n",
      " |      x.__getitem__(y) <==> x[y]\n",
      " |  \n",
      " |  __gt__(self, value, /)\n",
      " |      Return self>value.\n",
      " |  \n",
      " |  __iadd__(self, value, /)\n",
      " |      Implement self+=value.\n",
      " |  \n",
      " |  __imul__(self, value, /)\n",
      " |      Implement self*=value.\n",
      " |  \n",
      " |  __init__(self, /, *args, **kwargs)\n",
      " |      Initialize self.  See help(type(self)) for accurate signature.\n",
      " |  \n",
      " |  __iter__(self, /)\n",
      " |      Implement iter(self).\n",
      " |  \n",
      " |  __le__(self, value, /)\n",
      " |      Return self<=value.\n",
      " |  \n",
      " |  __len__(self, /)\n",
      " |      Return len(self).\n",
      " |  \n",
      " |  __lt__(self, value, /)\n",
      " |      Return self<value.\n",
      " |  \n",
      " |  __mul__(self, value, /)\n",
      " |      Return self*value.\n",
      " |  \n",
      " |  __ne__(self, value, /)\n",
      " |      Return self!=value.\n",
      " |  \n",
      " |  __repr__(self, /)\n",
      " |      Return repr(self).\n",
      " |  \n",
      " |  __reversed__(self, /)\n",
      " |      Return a reverse iterator over the list.\n",
      " |  \n",
      " |  __rmul__(self, value, /)\n",
      " |      Return value*self.\n",
      " |  \n",
      " |  __setitem__(self, key, value, /)\n",
      " |      Set self[key] to value.\n",
      " |  \n",
      " |  __sizeof__(self, /)\n",
      " |      Return the size of the list in memory, in bytes.\n",
      " |  \n",
      " |  append(self, object, /)\n",
      " |      Append object to the end of the list.\n",
      " |  \n",
      " |  clear(self, /)\n",
      " |      Remove all items from list.\n",
      " |  \n",
      " |  copy(self, /)\n",
      " |      Return a shallow copy of the list.\n",
      " |  \n",
      " |  count(self, value, /)\n",
      " |      Return number of occurrences of value.\n",
      " |  \n",
      " |  extend(self, iterable, /)\n",
      " |      Extend list by appending elements from the iterable.\n",
      " |  \n",
      " |  index(self, value, start=0, stop=9223372036854775807, /)\n",
      " |      Return first index of value.\n",
      " |      \n",
      " |      Raises ValueError if the value is not present.\n",
      " |  \n",
      " |  insert(self, index, object, /)\n",
      " |      Insert object before index.\n",
      " |  \n",
      " |  pop(self, index=-1, /)\n",
      " |      Remove and return item at index (default last).\n",
      " |      \n",
      " |      Raises IndexError if list is empty or index is out of range.\n",
      " |  \n",
      " |  remove(self, value, /)\n",
      " |      Remove first occurrence of value.\n",
      " |      \n",
      " |      Raises ValueError if the value is not present.\n",
      " |  \n",
      " |  reverse(self, /)\n",
      " |      Reverse *IN PLACE*.\n",
      " |  \n",
      " |  sort(self, /, *, key=None, reverse=False)\n",
      " |      Stable sort *IN PLACE*.\n",
      " |  \n",
      " |  ----------------------------------------------------------------------\n",
      " |  Static methods defined here:\n",
      " |  \n",
      " |  __new__(*args, **kwargs) from builtins.type\n",
      " |      Create and return a new object.  See help(type) for accurate signature.\n",
      " |  \n",
      " |  ----------------------------------------------------------------------\n",
      " |  Data and other attributes defined here:\n",
      " |  \n",
      " |  __hash__ = None\n",
      "\n"
     ]
    }
   ],
   "source": [
    "help(list)"
   ]
  },
  {
   "cell_type": "code",
   "execution_count": 26,
   "metadata": {},
   "outputs": [
    {
     "data": {
      "text/html": [
       "<table border=\"1\" class=\"dataframe\">\n",
       "    <thead>\n",
       "        <tr>\n",
       "            <th>Numbers</th>\n",
       "        </tr>\n",
       "    </thead>\n",
       "    <tbody>\n",
       "        <tr>\n",
       "            <td>1      </td>\n",
       "        </tr>\n",
       "        <tr>\n",
       "            <td>dog    </td>\n",
       "        </tr>\n",
       "        <tr>\n",
       "            <td>3      </td>\n",
       "        </tr>\n",
       "    </tbody>\n",
       "</table>"
      ],
      "text/plain": [
       "Numbers\n",
       "1\n",
       "dog\n",
       "3"
      ]
     },
     "execution_count": 26,
     "metadata": {},
     "output_type": "execute_result"
    }
   ],
   "source": [
    "my_table = Table().with_columns('Numbers', [1, 'dog', 3])\n",
    "#Table() initializes an  empty table\n",
    "# .with_column adds a new column, called 'Numbers'\n",
    "# and we're populating this new column Numbers, with our a list [1,2,3]\n",
    "my_table"
   ]
  },
  {
   "cell_type": "code",
   "execution_count": 34,
   "metadata": {},
   "outputs": [
    {
     "data": {
      "text/plain": [
       "datascience.tables.Table"
      ]
     },
     "execution_count": 34,
     "metadata": {},
     "output_type": "execute_result"
    }
   ],
   "source": [
    "# what would be the data type of dog, after we use a .column to extract the Numbers column\n",
    "type(my_table.take(1))\n",
    "\n",
    "# if we want to inspect a particular element's data type, we want to extract as an array first\n",
    "# think arrays -- think I am more able to manipulate elements when they are stored in an array\n",
    "# versus a table column/format\n",
    "\n",
    "# what is the data type below?\n",
    "# Table"
   ]
  },
  {
   "cell_type": "code",
   "execution_count": 35,
   "metadata": {},
   "outputs": [
    {
     "data": {
      "text/plain": [
       "{'1': [Row(Numbers='1')], 'dog': [Row(Numbers='dog')], '3': [Row(Numbers='3')]}"
      ]
     },
     "execution_count": 35,
     "metadata": {},
     "output_type": "execute_result"
    }
   ],
   "source": [
    "my_table.index_by('Numbers')\n",
    "# returns a dict or dictionary\n",
    "#out of scope for CMPSC 5a class\n",
    "\n",
    "my_table.column('Numbers') # returns an array"
   ]
  },
  {
   "cell_type": "code",
   "execution_count": 36,
   "metadata": {},
   "outputs": [
    {
     "data": {
      "text/html": [
       "<table border=\"1\" class=\"dataframe\">\n",
       "    <thead>\n",
       "        <tr>\n",
       "            <th>Drink</th> <th>Cafe</th> <th>Price</th>\n",
       "        </tr>\n",
       "    </thead>\n",
       "    <tbody>\n",
       "    </tbody>\n",
       "</table>"
      ],
      "text/plain": [
       "Drink | Cafe | Price"
      ]
     },
     "execution_count": 36,
     "metadata": {},
     "output_type": "execute_result"
    }
   ],
   "source": [
    "drinks = Table(['Drink', 'Cafe', 'Price']) # column headings, using a list\n",
    "drinks"
   ]
  },
  {
   "cell_type": "code",
   "execution_count": 37,
   "metadata": {},
   "outputs": [
    {
     "data": {
      "text/html": [
       "<table border=\"1\" class=\"dataframe\">\n",
       "    <thead>\n",
       "        <tr>\n",
       "            <th>Drink</th> <th>Cafe</th> <th>Price</th>\n",
       "        </tr>\n",
       "    </thead>\n",
       "    <tbody>\n",
       "        <tr>\n",
       "            <td>Milk Tea</td> <td>Asha  </td> <td>5.5  </td>\n",
       "        </tr>\n",
       "        <tr>\n",
       "            <td>Espresso</td> <td>Strada</td> <td>1.75 </td>\n",
       "        </tr>\n",
       "        <tr>\n",
       "            <td>Latte   </td> <td>Strada</td> <td>3.25 </td>\n",
       "        </tr>\n",
       "        <tr>\n",
       "            <td>Espresso</td> <td>FSM   </td> <td>2    </td>\n",
       "        </tr>\n",
       "    </tbody>\n",
       "</table>"
      ],
      "text/plain": [
       "Drink    | Cafe   | Price\n",
       "Milk Tea | Asha   | 5.5\n",
       "Espresso | Strada | 1.75\n",
       "Latte    | Strada | 3.25\n",
       "Espresso | FSM    | 2"
      ]
     },
     "execution_count": 37,
     "metadata": {},
     "output_type": "execute_result"
    }
   ],
   "source": [
    "drinks = drinks.with_rows([\n",
    "    ['Milk Tea', 'Asha', 5.50],\n",
    "    ['Espresso', 'Strada',  1.75],\n",
    "    ['Latte',    'Strada',  3.25],\n",
    "    ['Espresso', \"FSM\",   2]\n",
    "])\n",
    "drinks"
   ]
  },
  {
   "cell_type": "markdown",
   "metadata": {},
   "source": [
    "## Challenge Question ##"
   ]
  },
  {
   "cell_type": "code",
   "execution_count": 50,
   "metadata": {},
   "outputs": [
    {
     "data": {
      "text/html": [
       "<table border=\"1\" class=\"dataframe\">\n",
       "    <thead>\n",
       "        <tr>\n",
       "            <th>name</th> <th>material</th> <th>city</th> <th>height</th> <th>age</th>\n",
       "        </tr>\n",
       "    </thead>\n",
       "    <tbody>\n",
       "        <tr>\n",
       "            <td>The Austonian                       </td> <td>concrete</td> <td>Austin</td> <td>208.15</td> <td>12  </td>\n",
       "        </tr>\n",
       "        <tr>\n",
       "            <td>360 Condominiums                    </td> <td>concrete</td> <td>Austin</td> <td>177.1 </td> <td>14  </td>\n",
       "        </tr>\n",
       "        <tr>\n",
       "            <td>Frost Bank Tower                    </td> <td>concrete</td> <td>Austin</td> <td>157.2 </td> <td>18  </td>\n",
       "        </tr>\n",
       "        <tr>\n",
       "            <td>W Austin Hotel & Residences         </td> <td>concrete</td> <td>Austin</td> <td>145.27</td> <td>12  </td>\n",
       "        </tr>\n",
       "        <tr>\n",
       "            <td>Spring                              </td> <td>concrete</td> <td>Austin</td> <td>132.29</td> <td>13  </td>\n",
       "        </tr>\n",
       "        <tr>\n",
       "            <td>The Bowie                           </td> <td>concrete</td> <td>Austin</td> <td>128.9 </td> <td>7   </td>\n",
       "        </tr>\n",
       "        <tr>\n",
       "            <td>Ashton                              </td> <td>concrete</td> <td>Austin</td> <td>125.5 </td> <td>13  </td>\n",
       "        </tr>\n",
       "        <tr>\n",
       "            <td>JW Marriott Convention Hotel        </td> <td>concrete</td> <td>Austin</td> <td>124.4 </td> <td>7   </td>\n",
       "        </tr>\n",
       "        <tr>\n",
       "            <td>Four Seasons Residences Austin      </td> <td>concrete</td> <td>Austin</td> <td>122.25</td> <td>12  </td>\n",
       "        </tr>\n",
       "        <tr>\n",
       "            <td>One American Center                 </td> <td>concrete</td> <td>Austin</td> <td>122.22</td> <td>38  </td>\n",
       "        </tr>\n",
       "        <tr>\n",
       "            <td>One Congress Plaza                  </td> <td>concrete</td> <td>Austin</td> <td>121.31</td> <td>35  </td>\n",
       "        </tr>\n",
       "        <tr>\n",
       "            <td>Austin Hilton Covention Center Hotel</td> <td>concrete</td> <td>Austin</td> <td>114.91</td> <td>18  </td>\n",
       "        </tr>\n",
       "        <tr>\n",
       "            <td>Windsor on the Lake                 </td> <td>concrete</td> <td>Austin</td> <td>103.33</td> <td>14  </td>\n",
       "        </tr>\n",
       "        <tr>\n",
       "            <td>300 West 6th Street                 </td> <td>concrete</td> <td>Austin</td> <td>99.97 </td> <td>20  </td>\n",
       "        </tr>\n",
       "        <tr>\n",
       "            <td>University of Texas Tower           </td> <td>steel   </td> <td>Austin</td> <td>93.6  </td> <td>85  </td>\n",
       "        </tr>\n",
       "        <tr>\n",
       "            <td>SkyHouse Austin                     </td> <td>concrete</td> <td>Austin</td> <td>80.47 </td> <td>8   </td>\n",
       "        </tr>\n",
       "        <tr>\n",
       "            <td>Seven                               </td> <td>concrete</td> <td>Austin</td> <td>80.16 </td> <td>7   </td>\n",
       "        </tr>\n",
       "    </tbody>\n",
       "</table>"
      ],
      "text/plain": [
       "<IPython.core.display.HTML object>"
      ]
     },
     "metadata": {},
     "output_type": "display_data"
    }
   ],
   "source": [
    "sky = Table.read_table('data/skyscrapers_v2.csv')\n",
    "sky = (sky.with_column('age', 2022 - sky.column('completed'))\n",
    "          .drop('completed'))\n",
    "sky.where('city', 'Austin').show()"
   ]
  },
  {
   "cell_type": "code",
   "execution_count": 75,
   "metadata": {},
   "outputs": [
    {
     "data": {
      "text/html": [
       "<table border=\"1\" class=\"dataframe\">\n",
       "    <thead>\n",
       "        <tr>\n",
       "            <th>letters</th>\n",
       "        </tr>\n",
       "    </thead>\n",
       "    <tbody>\n",
       "        <tr>\n",
       "            <td>c      </td>\n",
       "        </tr>\n",
       "        <tr>\n",
       "            <td>b      </td>\n",
       "        </tr>\n",
       "        <tr>\n",
       "            <td>a      </td>\n",
       "        </tr>\n",
       "    </tbody>\n",
       "</table>"
      ],
      "text/plain": [
       "letters\n",
       "c\n",
       "b\n",
       "a"
      ]
     },
     "execution_count": 75,
     "metadata": {},
     "output_type": "execute_result"
    }
   ],
   "source": [
    "abc_array = make_array('a','b','c')\n",
    "Table().with_column('letters', abc_array).sort('letters', descending = True)"
   ]
  },
  {
   "cell_type": "code",
   "execution_count": 70,
   "metadata": {},
   "outputs": [
    {
     "data": {
      "text/html": [
       "<table border=\"1\" class=\"dataframe\">\n",
       "    <thead>\n",
       "        <tr>\n",
       "            <th>material</th> <th>name max</th> <th>city max</th> <th>height max</th> <th>age max</th>\n",
       "        </tr>\n",
       "    </thead>\n",
       "    <tbody>\n",
       "        <tr>\n",
       "            <td>concrete       </td> <td>theWit Hotel            </td> <td>Sunny Isles Beach</td> <td>425.5     </td> <td>109    </td>\n",
       "        </tr>\n",
       "        <tr>\n",
       "            <td>mixed/composite</td> <td>Westin Bonaventure Hotel</td> <td>St. Louis        </td> <td>541.3     </td> <td>96     </td>\n",
       "        </tr>\n",
       "        <tr>\n",
       "            <td>steel          </td> <td>Wyndham New Yorker Hotel</td> <td>St. Louis        </td> <td>442.14    </td> <td>136    </td>\n",
       "        </tr>\n",
       "    </tbody>\n",
       "</table>"
      ],
      "text/plain": [
       "material        | name max                 | city max          | height max | age max\n",
       "concrete        | theWit Hotel             | Sunny Isles Beach | 425.5      | 109\n",
       "mixed/composite | Westin Bonaventure Hotel | St. Louis         | 541.3      | 96\n",
       "steel           | Wyndham New Yorker Hotel | St. Louis         | 442.14     | 136"
      ]
     },
     "execution_count": 70,
     "metadata": {},
     "output_type": "execute_result"
    }
   ],
   "source": [
    "# 1. For each city, what’s the tallest building for each material?\n",
    "#sky.where('material','concrete').sort('height', descending = True).item(0)\n",
    "#sky.select('material','height')#.group('material',max)\n",
    "sky.group('material', max)\n",
    "# the tallest building for concrete\n",
    "# tallest building for mixed/composite\n",
    "# tallest building for steel\n",
    "\n",
    "# can you provide all three information above in one table?"
   ]
  },
  {
   "cell_type": "code",
   "execution_count": 46,
   "metadata": {},
   "outputs": [
    {
     "data": {
      "text/html": [
       "<table border=\"1\" class=\"dataframe\">\n",
       "    <thead>\n",
       "        <tr>\n",
       "            <th>city</th> <th>material</th> <th>height max</th>\n",
       "        </tr>\n",
       "    </thead>\n",
       "    <tbody>\n",
       "        <tr>\n",
       "            <td>Atlanta  </td> <td>concrete       </td> <td>264.25    </td>\n",
       "        </tr>\n",
       "        <tr>\n",
       "            <td>Atlanta  </td> <td>mixed/composite</td> <td>311.8     </td>\n",
       "        </tr>\n",
       "        <tr>\n",
       "            <td>Atlanta  </td> <td>steel          </td> <td>169.47    </td>\n",
       "        </tr>\n",
       "        <tr>\n",
       "            <td>Austin   </td> <td>concrete       </td> <td>208.15    </td>\n",
       "        </tr>\n",
       "        <tr>\n",
       "            <td>Austin   </td> <td>steel          </td> <td>93.6      </td>\n",
       "        </tr>\n",
       "        <tr>\n",
       "            <td>Baltimore</td> <td>concrete       </td> <td>161.24    </td>\n",
       "        </tr>\n",
       "        <tr>\n",
       "            <td>Baltimore</td> <td>steel          </td> <td>155.15    </td>\n",
       "        </tr>\n",
       "        <tr>\n",
       "            <td>Boston   </td> <td>concrete       </td> <td>121.92    </td>\n",
       "        </tr>\n",
       "        <tr>\n",
       "            <td>Boston   </td> <td>mixed/composite</td> <td>139       </td>\n",
       "        </tr>\n",
       "        <tr>\n",
       "            <td>Boston   </td> <td>steel          </td> <td>240.79    </td>\n",
       "        </tr>\n",
       "    </tbody>\n",
       "</table>\n",
       "<p>... (81 rows omitted)</p>"
      ],
      "text/plain": [
       "city      | material        | height max\n",
       "Atlanta   | concrete        | 264.25\n",
       "Atlanta   | mixed/composite | 311.8\n",
       "Atlanta   | steel           | 169.47\n",
       "Austin    | concrete        | 208.15\n",
       "Austin    | steel           | 93.6\n",
       "Baltimore | concrete        | 161.24\n",
       "Baltimore | steel           | 155.15\n",
       "Boston    | concrete        | 121.92\n",
       "Boston    | mixed/composite | 139\n",
       "Boston    | steel           | 240.79\n",
       "... (81 rows omitted)"
      ]
     },
     "execution_count": 46,
     "metadata": {},
     "output_type": "execute_result"
    }
   ],
   "source": [
    "sky.select('material', 'city', 'height').group(['city', 'material'], max)"
   ]
  },
  {
   "cell_type": "code",
   "execution_count": 79,
   "metadata": {},
   "outputs": [
    {
     "data": {
      "text/html": [
       "<table border=\"1\" class=\"dataframe\">\n",
       "    <thead>\n",
       "        <tr>\n",
       "            <th>city</th> <th>concrete</th> <th>mixed/composite</th> <th>steel</th>\n",
       "        </tr>\n",
       "    </thead>\n",
       "    <tbody>\n",
       "        <tr>\n",
       "            <td>Atlanta   </td> <td>264.25  </td> <td>311.8          </td> <td>169.47</td>\n",
       "        </tr>\n",
       "        <tr>\n",
       "            <td>Austin    </td> <td>208.15  </td> <td>0              </td> <td>93.6  </td>\n",
       "        </tr>\n",
       "        <tr>\n",
       "            <td>Baltimore </td> <td>161.24  </td> <td>0              </td> <td>155.15</td>\n",
       "        </tr>\n",
       "        <tr>\n",
       "            <td>Boston    </td> <td>121.92  </td> <td>139            </td> <td>240.79</td>\n",
       "        </tr>\n",
       "        <tr>\n",
       "            <td>Charlotte </td> <td>265.48  </td> <td>239.7          </td> <td>179.23</td>\n",
       "        </tr>\n",
       "        <tr>\n",
       "            <td>Chicago   </td> <td>423.22  </td> <td>306.94         </td> <td>442.14</td>\n",
       "        </tr>\n",
       "        <tr>\n",
       "            <td>Cincinnati</td> <td>125     </td> <td>202.69         </td> <td>175   </td>\n",
       "        </tr>\n",
       "        <tr>\n",
       "            <td>Cleveland </td> <td>125     </td> <td>288.65         </td> <td>215.8 </td>\n",
       "        </tr>\n",
       "        <tr>\n",
       "            <td>Columbus  </td> <td>79.25   </td> <td>0              </td> <td>169.3 </td>\n",
       "        </tr>\n",
       "        <tr>\n",
       "            <td>Dallas    </td> <td>176.48  </td> <td>280.72         </td> <td>270.06</td>\n",
       "        </tr>\n",
       "    </tbody>\n",
       "</table>\n",
       "<p>... (25 rows omitted)</p>"
      ],
      "text/plain": [
       "city       | concrete | mixed/composite | steel\n",
       "Atlanta    | 264.25   | 311.8           | 169.47\n",
       "Austin     | 208.15   | 0               | 93.6\n",
       "Baltimore  | 161.24   | 0               | 155.15\n",
       "Boston     | 121.92   | 139             | 240.79\n",
       "Charlotte  | 265.48   | 239.7           | 179.23\n",
       "Chicago    | 423.22   | 306.94          | 442.14\n",
       "Cincinnati | 125      | 202.69          | 175\n",
       "Cleveland  | 125      | 288.65          | 215.8\n",
       "Columbus   | 79.25    | 0               | 169.3\n",
       "Dallas     | 176.48   | 280.72          | 270.06\n",
       "... (25 rows omitted)"
      ]
     },
     "execution_count": 79,
     "metadata": {},
     "output_type": "execute_result"
    }
   ],
   "source": [
    "sky_pivot = sky.pivot('material', 'city','height',max)\n",
    "sky_pivot\n",
    "# what other functions can i pass into pivot?\n",
    "# min, sum, average, list\n",
    "# age instead of height\n"
   ]
  },
  {
   "cell_type": "code",
   "execution_count": 62,
   "metadata": {},
   "outputs": [
    {
     "data": {
      "text/html": [
       "<table border=\"1\" class=\"dataframe\">\n",
       "    <thead>\n",
       "        <tr>\n",
       "            <th>city</th> <th>concrete</th> <th>mixed/composite</th> <th>steel</th> <th>height difference concrete steel</th>\n",
       "        </tr>\n",
       "    </thead>\n",
       "    <tbody>\n",
       "        <tr>\n",
       "            <td>Atlanta   </td> <td>264.25  </td> <td>311.8          </td> <td>169.47</td> <td>-94.78                          </td>\n",
       "        </tr>\n",
       "        <tr>\n",
       "            <td>Austin    </td> <td>208.15  </td> <td>0              </td> <td>93.6  </td> <td>-114.55                         </td>\n",
       "        </tr>\n",
       "        <tr>\n",
       "            <td>Baltimore </td> <td>161.24  </td> <td>0              </td> <td>155.15</td> <td>-6.09001                        </td>\n",
       "        </tr>\n",
       "        <tr>\n",
       "            <td>Boston    </td> <td>121.92  </td> <td>139            </td> <td>240.79</td> <td>118.87                          </td>\n",
       "        </tr>\n",
       "        <tr>\n",
       "            <td>Charlotte </td> <td>265.48  </td> <td>239.7          </td> <td>179.23</td> <td>-86.25                          </td>\n",
       "        </tr>\n",
       "        <tr>\n",
       "            <td>Chicago   </td> <td>423.22  </td> <td>306.94         </td> <td>442.14</td> <td>18.92                           </td>\n",
       "        </tr>\n",
       "        <tr>\n",
       "            <td>Cincinnati</td> <td>125     </td> <td>202.69         </td> <td>175   </td> <td>50                              </td>\n",
       "        </tr>\n",
       "        <tr>\n",
       "            <td>Cleveland </td> <td>125     </td> <td>288.65         </td> <td>215.8 </td> <td>90.8                            </td>\n",
       "        </tr>\n",
       "        <tr>\n",
       "            <td>Columbus  </td> <td>79.25   </td> <td>0              </td> <td>169.3 </td> <td>90.05                           </td>\n",
       "        </tr>\n",
       "        <tr>\n",
       "            <td>Dallas    </td> <td>176.48  </td> <td>280.72         </td> <td>270.06</td> <td>93.58                           </td>\n",
       "        </tr>\n",
       "    </tbody>\n",
       "</table>\n",
       "<p>... (25 rows omitted)</p>"
      ],
      "text/plain": [
       "city       | concrete | mixed/composite | steel  | height difference concrete steel\n",
       "Atlanta    | 264.25   | 311.8           | 169.47 | -94.78\n",
       "Austin     | 208.15   | 0               | 93.6   | -114.55\n",
       "Baltimore  | 161.24   | 0               | 155.15 | -6.09001\n",
       "Boston     | 121.92   | 139             | 240.79 | 118.87\n",
       "Charlotte  | 265.48   | 239.7           | 179.23 | -86.25\n",
       "Chicago    | 423.22   | 306.94          | 442.14 | 18.92\n",
       "Cincinnati | 125      | 202.69          | 175    | 50\n",
       "Cleveland  | 125      | 288.65          | 215.8  | 90.8\n",
       "Columbus   | 79.25    | 0               | 169.3  | 90.05\n",
       "Dallas     | 176.48   | 280.72          | 270.06 | 93.58\n",
       "... (25 rows omitted)"
      ]
     },
     "execution_count": 62,
     "metadata": {},
     "output_type": "execute_result"
    }
   ],
   "source": [
    "# 2. For each city, what’s the height difference between the tallest \n",
    "#    steel building and the tallest concrete building?\n",
    "\n",
    "# For example, the tallest steel building in Atlanta is 169.47 ft \n",
    "# the tallest concrete building in Atlanta is #264.25 ft\n",
    "# abs(169.47 - 264.25)\n",
    "\n",
    "\n",
    "\n",
    "\n",
    "\n",
    "#sky.pivot('city','material') # default, is to give # of things in city, for material (count)\n",
    "sky_pivot = sky.pivot('material', 'city','height',max)\n",
    "sky_pivot\n",
    "#sky.pivot('material','city','age',max) \n",
    "# oldest building for each material, in each city\n",
    "# atlanta - oldest building for concrete, composite, steel\n",
    "\n",
    "\n",
    "\n",
    "tallest_concrete_by_city = sky_pivot.column('concrete')\n",
    "tallest_steel_by_city = sky_pivot.column('steel')\n",
    "tallest_steel_by_city\n",
    "height_differences = tallest_steel_by_city - tallest_concrete_by_city\n",
    "sky_height_differences_concrete_steel = sky_pivot.with_column('height difference concrete steel', height_differences)\n",
    "sky_height_differences_concrete_steel "
   ]
  },
  {
   "cell_type": "markdown",
   "metadata": {},
   "source": [
    "Don't read ahead until you try the challenge questions yourself first!"
   ]
  },
  {
   "cell_type": "markdown",
   "metadata": {},
   "source": [
    "### Take-home question: try it here!"
   ]
  },
  {
   "cell_type": "code",
   "execution_count": null,
   "metadata": {},
   "outputs": [],
   "source": [
    "# Generate a table of the names of the oldest buildings for each \n",
    "# material for each city: (requires join)\n",
    "\n",
    "\n",
    "# generate a table of the average ages of buildings, by material, for each city:\n"
   ]
  },
  {
   "cell_type": "markdown",
   "metadata": {},
   "source": [
    "## Joins ##"
   ]
  },
  {
   "cell_type": "code",
   "execution_count": 63,
   "metadata": {},
   "outputs": [
    {
     "data": {
      "text/html": [
       "<table border=\"1\" class=\"dataframe\">\n",
       "    <thead>\n",
       "        <tr>\n",
       "            <th>Drink</th> <th>Cafe</th> <th>Price</th>\n",
       "        </tr>\n",
       "    </thead>\n",
       "    <tbody>\n",
       "        <tr>\n",
       "            <td>Milk Tea</td> <td>Asha  </td> <td>5.5  </td>\n",
       "        </tr>\n",
       "        <tr>\n",
       "            <td>Espresso</td> <td>Strada</td> <td>1.75 </td>\n",
       "        </tr>\n",
       "        <tr>\n",
       "            <td>Latte   </td> <td>Strada</td> <td>3.25 </td>\n",
       "        </tr>\n",
       "        <tr>\n",
       "            <td>Espresso</td> <td>FSM   </td> <td>2    </td>\n",
       "        </tr>\n",
       "    </tbody>\n",
       "</table>"
      ],
      "text/plain": [
       "Drink    | Cafe   | Price\n",
       "Milk Tea | Asha   | 5.5\n",
       "Espresso | Strada | 1.75\n",
       "Latte    | Strada | 3.25\n",
       "Espresso | FSM    | 2"
      ]
     },
     "execution_count": 63,
     "metadata": {},
     "output_type": "execute_result"
    }
   ],
   "source": [
    "drinks"
   ]
  },
  {
   "cell_type": "code",
   "execution_count": 64,
   "metadata": {},
   "outputs": [
    {
     "data": {
      "text/html": [
       "<table border=\"1\" class=\"dataframe\">\n",
       "    <thead>\n",
       "        <tr>\n",
       "            <th>Coupon % off</th> <th>Location</th>\n",
       "        </tr>\n",
       "    </thead>\n",
       "    <tbody>\n",
       "        <tr>\n",
       "            <td>10          </td> <td>Asha    </td>\n",
       "        </tr>\n",
       "        <tr>\n",
       "            <td>25          </td> <td>Strada  </td>\n",
       "        </tr>\n",
       "        <tr>\n",
       "            <td>5           </td> <td>Asha    </td>\n",
       "        </tr>\n",
       "    </tbody>\n",
       "</table>"
      ],
      "text/plain": [
       "Coupon % off | Location\n",
       "10           | Asha\n",
       "25           | Strada\n",
       "5            | Asha"
      ]
     },
     "execution_count": 64,
     "metadata": {},
     "output_type": "execute_result"
    }
   ],
   "source": [
    "discounts = Table().with_columns(\n",
    "    'Coupon % off', make_array(10, 25, 5),\n",
    "    'Location', make_array('Asha', 'Strada', 'Asha')\n",
    ")\n",
    "discounts"
   ]
  },
  {
   "cell_type": "code",
   "execution_count": 65,
   "metadata": {
    "scrolled": true
   },
   "outputs": [
    {
     "data": {
      "text/html": [
       "<table border=\"1\" class=\"dataframe\">\n",
       "    <thead>\n",
       "        <tr>\n",
       "            <th>Cafe</th> <th>Drink</th> <th>Price</th> <th>Coupon % off</th>\n",
       "        </tr>\n",
       "    </thead>\n",
       "    <tbody>\n",
       "        <tr>\n",
       "            <td>Asha  </td> <td>Milk Tea</td> <td>5.5  </td> <td>10          </td>\n",
       "        </tr>\n",
       "        <tr>\n",
       "            <td>Asha  </td> <td>Milk Tea</td> <td>5.5  </td> <td>5           </td>\n",
       "        </tr>\n",
       "        <tr>\n",
       "            <td>Strada</td> <td>Espresso</td> <td>1.75 </td> <td>25          </td>\n",
       "        </tr>\n",
       "        <tr>\n",
       "            <td>Strada</td> <td>Latte   </td> <td>3.25 </td> <td>25          </td>\n",
       "        </tr>\n",
       "    </tbody>\n",
       "</table>"
      ],
      "text/plain": [
       "Cafe   | Drink    | Price | Coupon % off\n",
       "Asha   | Milk Tea | 5.5   | 10\n",
       "Asha   | Milk Tea | 5.5   | 5\n",
       "Strada | Espresso | 1.75  | 25\n",
       "Strada | Latte    | 3.25  | 25"
      ]
     },
     "execution_count": 65,
     "metadata": {},
     "output_type": "execute_result"
    }
   ],
   "source": [
    "combined = drinks.join('Cafe', discounts, 'Location')\n",
    "combined"
   ]
  },
  {
   "cell_type": "code",
   "execution_count": 67,
   "metadata": {},
   "outputs": [
    {
     "data": {
      "text/html": [
       "<table border=\"1\" class=\"dataframe\">\n",
       "    <thead>\n",
       "        <tr>\n",
       "            <th>Cafe</th> <th>Drink</th> <th>Price</th> <th>Coupon % off</th> <th>Discounted Price</th>\n",
       "        </tr>\n",
       "    </thead>\n",
       "    <tbody>\n",
       "        <tr>\n",
       "            <td>Asha  </td> <td>Milk Tea</td> <td>5.5  </td> <td>10          </td> <td>4.95            </td>\n",
       "        </tr>\n",
       "        <tr>\n",
       "            <td>Asha  </td> <td>Milk Tea</td> <td>5.5  </td> <td>5           </td> <td>5.225           </td>\n",
       "        </tr>\n",
       "        <tr>\n",
       "            <td>Strada</td> <td>Espresso</td> <td>1.75 </td> <td>25          </td> <td>1.3125          </td>\n",
       "        </tr>\n",
       "        <tr>\n",
       "            <td>Strada</td> <td>Latte   </td> <td>3.25 </td> <td>25          </td> <td>2.4375          </td>\n",
       "        </tr>\n",
       "    </tbody>\n",
       "</table>"
      ],
      "text/plain": [
       "Cafe   | Drink    | Price | Coupon % off | Discounted Price\n",
       "Asha   | Milk Tea | 5.5   | 10           | 4.95\n",
       "Asha   | Milk Tea | 5.5   | 5            | 5.225\n",
       "Strada | Espresso | 1.75  | 25           | 1.3125\n",
       "Strada | Latte    | 3.25  | 25           | 2.4375"
      ]
     },
     "execution_count": 67,
     "metadata": {},
     "output_type": "execute_result"
    }
   ],
   "source": [
    "discounted_frac = 1 - combined.column('Coupon % off') / 100\n",
    "combined.with_column(\n",
    "    'Discounted Price', \n",
    "    combined.column('Price') * discounted_frac\n",
    ")\n",
    "# how would you round the discounted price to two decimal places?\n"
   ]
  },
  {
   "cell_type": "code",
   "execution_count": 68,
   "metadata": {},
   "outputs": [
    {
     "data": {
      "text/html": [
       "<table border=\"1\" class=\"dataframe\">\n",
       "    <thead>\n",
       "        <tr>\n",
       "            <th>Cafe</th> <th>Drink</th> <th>Price</th> <th>Drink_2</th> <th>Price_2</th>\n",
       "        </tr>\n",
       "    </thead>\n",
       "    <tbody>\n",
       "        <tr>\n",
       "            <td>Asha  </td> <td>Milk Tea</td> <td>5.5  </td> <td>Milk Tea</td> <td>5.5    </td>\n",
       "        </tr>\n",
       "        <tr>\n",
       "            <td>FSM   </td> <td>Espresso</td> <td>2    </td> <td>Espresso</td> <td>2      </td>\n",
       "        </tr>\n",
       "        <tr>\n",
       "            <td>Strada</td> <td>Espresso</td> <td>1.75 </td> <td>Espresso</td> <td>1.75   </td>\n",
       "        </tr>\n",
       "        <tr>\n",
       "            <td>Strada</td> <td>Espresso</td> <td>1.75 </td> <td>Latte   </td> <td>3.25   </td>\n",
       "        </tr>\n",
       "        <tr>\n",
       "            <td>Strada</td> <td>Latte   </td> <td>3.25 </td> <td>Espresso</td> <td>1.75   </td>\n",
       "        </tr>\n",
       "        <tr>\n",
       "            <td>Strada</td> <td>Latte   </td> <td>3.25 </td> <td>Latte   </td> <td>3.25   </td>\n",
       "        </tr>\n",
       "    </tbody>\n",
       "</table>"
      ],
      "text/plain": [
       "Cafe   | Drink    | Price | Drink_2  | Price_2\n",
       "Asha   | Milk Tea | 5.5   | Milk Tea | 5.5\n",
       "FSM    | Espresso | 2     | Espresso | 2\n",
       "Strada | Espresso | 1.75  | Espresso | 1.75\n",
       "Strada | Espresso | 1.75  | Latte    | 3.25\n",
       "Strada | Latte    | 3.25  | Espresso | 1.75\n",
       "Strada | Latte    | 3.25  | Latte    | 3.25"
      ]
     },
     "execution_count": 68,
     "metadata": {},
     "output_type": "execute_result"
    }
   ],
   "source": [
    "drinks.join('Cafe', drinks, 'Cafe')"
   ]
  },
  {
   "cell_type": "code",
   "execution_count": null,
   "metadata": {},
   "outputs": [],
   "source": []
  }
 ],
 "metadata": {
  "kernelspec": {
   "display_name": "Python 3",
   "language": "python",
   "name": "python3"
  },
  "language_info": {
   "codemirror_mode": {
    "name": "ipython",
    "version": 3
   },
   "file_extension": ".py",
   "mimetype": "text/x-python",
   "name": "python",
   "nbconvert_exporter": "python",
   "pygments_lexer": "ipython3",
   "version": "3.7.6"
  },
  "toc": {
   "base_numbering": 1,
   "nav_menu": {},
   "number_sections": false,
   "sideBar": true,
   "skip_h1_title": false,
   "title_cell": "Table of Contents",
   "title_sidebar": "Contents",
   "toc_cell": false,
   "toc_position": {},
   "toc_section_display": true,
   "toc_window_display": false
  }
 },
 "nbformat": 4,
 "nbformat_minor": 2
}
