{
 "cells": [
  {
   "cell_type": "code",
   "execution_count": 1,
   "metadata": {
    "hideCode": false,
    "hidePrompt": false
   },
   "outputs": [],
   "source": [
    "from datascience import *\n",
    "import numpy as np\n",
    "\n",
    "%matplotlib inline\n",
    "import matplotlib.pyplot as plots\n",
    "plots.style.use('fivethirtyeight')\n",
    "\n",
    "import warnings\n",
    "warnings.simplefilter('ignore')"
   ]
  },
  {
   "cell_type": "markdown",
   "metadata": {
    "hideCode": false,
    "hidePrompt": false
   },
   "source": [
    "## Grouping By One Column: Class Data Survey ##"
   ]
  },
  {
   "cell_type": "code",
   "execution_count": 2,
   "metadata": {
    "hideCode": false,
    "hidePrompt": false
   },
   "outputs": [
    {
     "data": {
      "text/html": [
       "<table border=\"1\" class=\"dataframe\">\n",
       "    <thead>\n",
       "        <tr>\n",
       "            <th>1. What is the area code of your phone number?</th> <th>2. What is your major?</th> <th>3. What is your height in inches? (e.g., 5'6\" = 66 inches)</th> <th>4. How often have you eaten out this week?</th> <th>5. Are you left-handed, right-handed or both?</th> <th>6. How many siblings do you have?</th> <th>7. What is your birth order? (1 = oldest/only child, 2 = second oldest, etc)</th> <th>8. How many hours of exercise do you get in a typical week?</th> <th>9. How many pets do you have?</th> <th>10. How many hours of television or media do you watch in a typical week?</th> <th>11. Make up a very random 4-digit number:</th> <th>12. Which award would you rather win:</th> <th>13. Do you have a tattoo?</th> <th>14. How many hours of sleep do you get in a typical day?</th> <th>15. What is your favorite color?</th> <th>16. Coffee or bagel?</th> <th>17. Have you ever tie-dyed?</th> <th>18. How many minutes does it usually take you to commute to school or work?</th> <th>19. How do you get to work or school?</th> <th>21. How many words a minute can you type?</th> <th>22. How many people do you follow on Instagram?</th> <th>23. How many social media accounts do you have?</th> <th>24. What is your favorite social media platform?</th> <th>25. How many hours of household chores do you do in a typical week?</th> <th>26. Do you know how to write in cursive?</th>\n",
       "        </tr>\n",
       "    </thead>\n",
       "    <tbody>\n",
       "        <tr>\n",
       "            <td>707                                           </td> <td>Econ                       </td> <td>73                                                        </td> <td>2                                         </td> <td>Right-handed                                 </td> <td>1                                </td> <td>1                                                                           </td> <td>10                                                         </td> <td>4                            </td> <td>7                                                                        </td> <td>8483                                     </td> <td>Olympic Medal                        </td> <td>No                       </td> <td>8                                                       </td> <td>Blue                            </td> <td>Coffee              </td> <td>Yes                        </td> <td>10                                                                         </td> <td>bike                                 </td> <td>50                                       </td> <td>750                                            </td> <td>3                                              </td> <td>Instagram                                       </td> <td>6                                                                  </td> <td>Yes                                     </td>\n",
       "        </tr>\n",
       "        <tr>\n",
       "            <td>408                                           </td> <td>Economics                  </td> <td>70                                                        </td> <td>3                                         </td> <td>Right-handed                                 </td> <td>1                                </td> <td>2                                                                           </td> <td>7                                                          </td> <td>2                            </td> <td>5                                                                        </td> <td>1118                                     </td> <td>Nobel Prize                          </td> <td>No                       </td> <td>8                                                       </td> <td>Yellow                          </td> <td>Coffee              </td> <td>Yes                        </td> <td>10                                                                         </td> <td>bike                                 </td> <td>70                                       </td> <td>1400                                           </td> <td>4                                              </td> <td>YouTube                                         </td> <td>4                                                                  </td> <td>Yes                                     </td>\n",
       "        </tr>\n",
       "        <tr>\n",
       "            <td>858                                           </td> <td>stats and data science     </td> <td>72                                                        </td> <td>2                                         </td> <td>Right-handed                                 </td> <td>1                                </td> <td>2                                                                           </td> <td>5                                                          </td> <td>0                            </td> <td>10                                                                       </td> <td>1738                                     </td> <td>Nobel Prize                          </td> <td>No                       </td> <td>8                                                       </td> <td>orange                          </td> <td>Bagel               </td> <td>Yes                        </td> <td>10                                                                         </td> <td>bike                                 </td> <td>41                                       </td> <td>530                                            </td> <td>3                                              </td> <td>instagram                                       </td> <td>0                                                                  </td> <td>Yes                                     </td>\n",
       "        </tr>\n",
       "        <tr>\n",
       "            <td>541                                           </td> <td>econ                       </td> <td>78                                                        </td> <td>2                                         </td> <td>Right-handed                                 </td> <td>1                                </td> <td>2                                                                           </td> <td>14                                                         </td> <td>2                            </td> <td>14                                                                       </td> <td>1221                                     </td> <td>Nobel Prize                          </td> <td>Yes                      </td> <td>8                                                       </td> <td>green                           </td> <td>Coffee              </td> <td>Yes                        </td> <td>5                                                                          </td> <td>bike                                 </td> <td>40                                       </td> <td>551                                            </td> <td>2                                              </td> <td>insta                                           </td> <td>4                                                                  </td> <td>Yes                                     </td>\n",
       "        </tr>\n",
       "        <tr>\n",
       "            <td>925                                           </td> <td>pre financial math and stat</td> <td>71                                                        </td> <td>4                                         </td> <td>Left-handed                                  </td> <td>8                                </td> <td>6                                                                           </td> <td>5                                                          </td> <td>2                            </td> <td>3                                                                        </td> <td>5567                                     </td> <td>Nobel Prize                          </td> <td>No                       </td> <td>7                                                       </td> <td>orange                          </td> <td>Coffee              </td> <td>No                         </td> <td>2                                                                          </td> <td>walk                                 </td> <td>50                                       </td> <td>541                                            </td> <td>nan                                            </td> <td>YouTube                                         </td> <td>3                                                                  </td> <td>No                                      </td>\n",
       "        </tr>\n",
       "        <tr>\n",
       "            <td>760                                           </td> <td>Economics & Accounting     </td> <td>71                                                        </td> <td>1                                         </td> <td>Right-handed                                 </td> <td>2                                </td> <td>1                                                                           </td> <td>5                                                          </td> <td>1                            </td> <td>10                                                                       </td> <td>1234                                     </td> <td>Nobel Prize                          </td> <td>No                       </td> <td>7                                                       </td> <td>Blue                            </td> <td>Bagel               </td> <td>No                         </td> <td>15                                                                         </td> <td>bike                                 </td> <td>100                                      </td> <td>900                                            </td> <td>5                                              </td> <td>Instagram                                       </td> <td>10                                                                 </td> <td>No                                      </td>\n",
       "        </tr>\n",
       "        <tr>\n",
       "            <td>831                                           </td> <td>Economics                  </td> <td>75                                                        </td> <td>0                                         </td> <td>Right-handed                                 </td> <td>0                                </td> <td>1                                                                           </td> <td>5                                                          </td> <td>1                            </td> <td>4                                                                        </td> <td>1212                                     </td> <td>Nobel Prize                          </td> <td>No                       </td> <td>6                                                       </td> <td>Blue                            </td> <td>Bagel               </td> <td>No                         </td> <td>10                                                                         </td> <td>car                                  </td> <td>nan                                      </td> <td>0                                              </td> <td>2                                              </td> <td>Discord                                         </td> <td>4                                                                  </td> <td>Yes                                     </td>\n",
       "        </tr>\n",
       "        <tr>\n",
       "            <td>925                                           </td> <td>Math                       </td> <td>72                                                        </td> <td>0                                         </td> <td>Right-handed                                 </td> <td>1                                </td> <td>1                                                                           </td> <td>9                                                          </td> <td>1                            </td> <td>14                                                                       </td> <td>6745                                     </td> <td>Academy Award                        </td> <td>No                       </td> <td>9                                                       </td> <td>Purple                          </td> <td>Bagel               </td> <td>Yes                        </td> <td>10                                                                         </td> <td>bus                                  </td> <td>49                                       </td> <td>895                                            </td> <td>3                                              </td> <td>Instagram                                       </td> <td>2                                                                  </td> <td>No                                      </td>\n",
       "        </tr>\n",
       "        <tr>\n",
       "            <td>805                                           </td> <td>communication              </td> <td>68                                                        </td> <td>1                                         </td> <td>Right-handed                                 </td> <td>0                                </td> <td>1                                                                           </td> <td>nan                                                        </td> <td>0                            </td> <td>10                                                                       </td> <td>6665                                     </td> <td>Pultizer Prize                       </td> <td>No                       </td> <td>7                                                       </td> <td>blue                            </td> <td>Coffee              </td> <td>No                         </td> <td>20                                                                         </td> <td>bike                                 </td> <td>50                                       </td> <td>54                                             </td> <td>7                                              </td> <td>nan                                             </td> <td>3                                                                  </td> <td>No                                      </td>\n",
       "        </tr>\n",
       "        <tr>\n",
       "            <td>820                                           </td> <td>Statistics & Data Science  </td> <td>64                                                        </td> <td>3                                         </td> <td>Right-handed                                 </td> <td>1                                </td> <td>2                                                                           </td> <td>2                                                          </td> <td>0                            </td> <td>4                                                                        </td> <td>2022                                     </td> <td>Pultizer Prize                       </td> <td>No                       </td> <td>8                                                       </td> <td>Black                           </td> <td>Coffee              </td> <td>Yes                        </td> <td>2                                                                          </td> <td>walk                                 </td> <td>6                                        </td> <td>113                                            </td> <td>5                                              </td> <td>instagram                                       </td> <td>1                                                                  </td> <td>Yes                                     </td>\n",
       "        </tr>\n",
       "    </tbody>\n",
       "</table>\n",
       "<p>... (58 rows omitted)</p>"
      ],
      "text/plain": [
       "1. What is the area code of your phone number? | 2. What is your major?      | 3. What is your height in inches? (e.g., 5'6\" = 66 inches) | 4. How often have you eaten out this week? | 5. Are you left-handed, right-handed or both? | 6. How many siblings do you have? | 7. What is your birth order? (1 = oldest/only child, 2 = second oldest, etc) | 8. How many hours of exercise do you get in a typical week? | 9. How many pets do you have? | 10. How many hours of television or media do you watch in a typical week? | 11. Make up a very random 4-digit number: | 12. Which award would you rather win: | 13. Do you have a tattoo? | 14. How many hours of sleep do you get in a typical day? | 15. What is your favorite color? | 16. Coffee or bagel? | 17. Have you ever tie-dyed? | 18. How many minutes does it usually take you to commute to school or work? | 19. How do you get to work or school? | 21. How many words a minute can you type? | 22. How many people do you follow on Instagram? | 23. How many social media accounts do you have? | 24. What is your favorite social media platform? | 25. How many hours of household chores do you do in a typical week? | 26. Do you know how to write in cursive?\n",
       "707                                            | Econ                        | 73                                                         | 2                                          | Right-handed                                  | 1                                 | 1                                                                            | 10                                                          | 4                             | 7                                                                         | 8483                                      | Olympic Medal                         | No                        | 8                                                        | Blue                             | Coffee               | Yes                         | 10                                                                          | bike                                  | 50                                        | 750                                             | 3                                               | Instagram                                        | 6                                                                   | Yes\n",
       "408                                            | Economics                   | 70                                                         | 3                                          | Right-handed                                  | 1                                 | 2                                                                            | 7                                                           | 2                             | 5                                                                         | 1118                                      | Nobel Prize                           | No                        | 8                                                        | Yellow                           | Coffee               | Yes                         | 10                                                                          | bike                                  | 70                                        | 1400                                            | 4                                               | YouTube                                          | 4                                                                   | Yes\n",
       "858                                            | stats and data science      | 72                                                         | 2                                          | Right-handed                                  | 1                                 | 2                                                                            | 5                                                           | 0                             | 10                                                                        | 1738                                      | Nobel Prize                           | No                        | 8                                                        | orange                           | Bagel                | Yes                         | 10                                                                          | bike                                  | 41                                        | 530                                             | 3                                               | instagram                                        | 0                                                                   | Yes\n",
       "541                                            | econ                        | 78                                                         | 2                                          | Right-handed                                  | 1                                 | 2                                                                            | 14                                                          | 2                             | 14                                                                        | 1221                                      | Nobel Prize                           | Yes                       | 8                                                        | green                            | Coffee               | Yes                         | 5                                                                           | bike                                  | 40                                        | 551                                             | 2                                               | insta                                            | 4                                                                   | Yes\n",
       "925                                            | pre financial math and stat | 71                                                         | 4                                          | Left-handed                                   | 8                                 | 6                                                                            | 5                                                           | 2                             | 3                                                                         | 5567                                      | Nobel Prize                           | No                        | 7                                                        | orange                           | Coffee               | No                          | 2                                                                           | walk                                  | 50                                        | 541                                             | nan                                             | YouTube                                          | 3                                                                   | No\n",
       "760                                            | Economics & Accounting      | 71                                                         | 1                                          | Right-handed                                  | 2                                 | 1                                                                            | 5                                                           | 1                             | 10                                                                        | 1234                                      | Nobel Prize                           | No                        | 7                                                        | Blue                             | Bagel                | No                          | 15                                                                          | bike                                  | 100                                       | 900                                             | 5                                               | Instagram                                        | 10                                                                  | No\n",
       "831                                            | Economics                   | 75                                                         | 0                                          | Right-handed                                  | 0                                 | 1                                                                            | 5                                                           | 1                             | 4                                                                         | 1212                                      | Nobel Prize                           | No                        | 6                                                        | Blue                             | Bagel                | No                          | 10                                                                          | car                                   | nan                                       | 0                                               | 2                                               | Discord                                          | 4                                                                   | Yes\n",
       "925                                            | Math                        | 72                                                         | 0                                          | Right-handed                                  | 1                                 | 1                                                                            | 9                                                           | 1                             | 14                                                                        | 6745                                      | Academy Award                         | No                        | 9                                                        | Purple                           | Bagel                | Yes                         | 10                                                                          | bus                                   | 49                                        | 895                                             | 3                                               | Instagram                                        | 2                                                                   | No\n",
       "805                                            | communication               | 68                                                         | 1                                          | Right-handed                                  | 0                                 | 1                                                                            | nan                                                         | 0                             | 10                                                                        | 6665                                      | Pultizer Prize                        | No                        | 7                                                        | blue                             | Coffee               | No                          | 20                                                                          | bike                                  | 50                                        | 54                                              | 7                                               | nan                                              | 3                                                                   | No\n",
       "820                                            | Statistics & Data Science   | 64                                                         | 3                                          | Right-handed                                  | 1                                 | 2                                                                            | 2                                                           | 0                             | 4                                                                         | 2022                                      | Pultizer Prize                        | No                        | 8                                                        | Black                            | Coffee               | Yes                         | 2                                                                           | walk                                  | 6                                         | 113                                             | 5                                               | instagram                                        | 1                                                                   | Yes\n",
       "... (58 rows omitted)"
      ]
     },
     "execution_count": 2,
     "metadata": {},
     "output_type": "execute_result"
    }
   ],
   "source": [
    "survey = Table.read_table('data/w22-cmpsc5a-class-data.csv')\n",
    "survey\n"
   ]
  },
  {
   "cell_type": "code",
   "execution_count": 3,
   "metadata": {
    "hideCode": false,
    "hidePrompt": false
   },
   "outputs": [
    {
     "data": {
      "text/html": [
       "<table border=\"1\" class=\"dataframe\">\n",
       "    <thead>\n",
       "        <tr>\n",
       "            <th>Area Code</th> <th>2. What is your major?</th> <th>3. What is your height in inches? (e.g., 5'6\" = 66 inches)</th> <th>4. How often have you eaten out this week?</th> <th>5. Are you left-handed, right-handed or both?</th> <th>6. How many siblings do you have?</th> <th>7. What is your birth order? (1 = oldest/only child, 2 = second oldest, etc)</th> <th>8. How many hours of exercise do you get in a typical week?</th> <th>9. How many pets do you have?</th> <th>10. How many hours of television or media do you watch in a typical week?</th> <th>11. Make up a very random 4-digit number:</th> <th>12. Which award would you rather win:</th> <th>13. Do you have a tattoo?</th> <th>14. How many hours of sleep do you get in a typical day?</th> <th>15. What is your favorite color?</th> <th>16. Coffee or bagel?</th> <th>17. Have you ever tie-dyed?</th> <th>18. How many minutes does it usually take you to commute to school or work?</th> <th>19. How do you get to work or school?</th> <th>21. How many words a minute can you type?</th> <th>22. How many people do you follow on Instagram?</th> <th>23. How many social media accounts do you have?</th> <th>24. What is your favorite social media platform?</th> <th>25. How many hours of household chores do you do in a typical week?</th> <th>26. Do you know how to write in cursive?</th>\n",
       "        </tr>\n",
       "    </thead>\n",
       "    <tbody>\n",
       "        <tr>\n",
       "            <td>707      </td> <td>Econ                       </td> <td>73                                                        </td> <td>2                                         </td> <td>Right-handed                                 </td> <td>1                                </td> <td>1                                                                           </td> <td>10                                                         </td> <td>4                            </td> <td>7                                                                        </td> <td>8483                                     </td> <td>Olympic Medal                        </td> <td>No                       </td> <td>8                                                       </td> <td>Blue                            </td> <td>Coffee              </td> <td>Yes                        </td> <td>10                                                                         </td> <td>bike                                 </td> <td>50                                       </td> <td>750                                            </td> <td>3                                              </td> <td>Instagram                                       </td> <td>6                                                                  </td> <td>Yes                                     </td>\n",
       "        </tr>\n",
       "        <tr>\n",
       "            <td>408      </td> <td>Economics                  </td> <td>70                                                        </td> <td>3                                         </td> <td>Right-handed                                 </td> <td>1                                </td> <td>2                                                                           </td> <td>7                                                          </td> <td>2                            </td> <td>5                                                                        </td> <td>1118                                     </td> <td>Nobel Prize                          </td> <td>No                       </td> <td>8                                                       </td> <td>Yellow                          </td> <td>Coffee              </td> <td>Yes                        </td> <td>10                                                                         </td> <td>bike                                 </td> <td>70                                       </td> <td>1400                                           </td> <td>4                                              </td> <td>YouTube                                         </td> <td>4                                                                  </td> <td>Yes                                     </td>\n",
       "        </tr>\n",
       "        <tr>\n",
       "            <td>858      </td> <td>stats and data science     </td> <td>72                                                        </td> <td>2                                         </td> <td>Right-handed                                 </td> <td>1                                </td> <td>2                                                                           </td> <td>5                                                          </td> <td>0                            </td> <td>10                                                                       </td> <td>1738                                     </td> <td>Nobel Prize                          </td> <td>No                       </td> <td>8                                                       </td> <td>orange                          </td> <td>Bagel               </td> <td>Yes                        </td> <td>10                                                                         </td> <td>bike                                 </td> <td>41                                       </td> <td>530                                            </td> <td>3                                              </td> <td>instagram                                       </td> <td>0                                                                  </td> <td>Yes                                     </td>\n",
       "        </tr>\n",
       "        <tr>\n",
       "            <td>541      </td> <td>econ                       </td> <td>78                                                        </td> <td>2                                         </td> <td>Right-handed                                 </td> <td>1                                </td> <td>2                                                                           </td> <td>14                                                         </td> <td>2                            </td> <td>14                                                                       </td> <td>1221                                     </td> <td>Nobel Prize                          </td> <td>Yes                      </td> <td>8                                                       </td> <td>green                           </td> <td>Coffee              </td> <td>Yes                        </td> <td>5                                                                          </td> <td>bike                                 </td> <td>40                                       </td> <td>551                                            </td> <td>2                                              </td> <td>insta                                           </td> <td>4                                                                  </td> <td>Yes                                     </td>\n",
       "        </tr>\n",
       "        <tr>\n",
       "            <td>925      </td> <td>pre financial math and stat</td> <td>71                                                        </td> <td>4                                         </td> <td>Left-handed                                  </td> <td>8                                </td> <td>6                                                                           </td> <td>5                                                          </td> <td>2                            </td> <td>3                                                                        </td> <td>5567                                     </td> <td>Nobel Prize                          </td> <td>No                       </td> <td>7                                                       </td> <td>orange                          </td> <td>Coffee              </td> <td>No                         </td> <td>2                                                                          </td> <td>walk                                 </td> <td>50                                       </td> <td>541                                            </td> <td>nan                                            </td> <td>YouTube                                         </td> <td>3                                                                  </td> <td>No                                      </td>\n",
       "        </tr>\n",
       "        <tr>\n",
       "            <td>760      </td> <td>Economics & Accounting     </td> <td>71                                                        </td> <td>1                                         </td> <td>Right-handed                                 </td> <td>2                                </td> <td>1                                                                           </td> <td>5                                                          </td> <td>1                            </td> <td>10                                                                       </td> <td>1234                                     </td> <td>Nobel Prize                          </td> <td>No                       </td> <td>7                                                       </td> <td>Blue                            </td> <td>Bagel               </td> <td>No                         </td> <td>15                                                                         </td> <td>bike                                 </td> <td>100                                      </td> <td>900                                            </td> <td>5                                              </td> <td>Instagram                                       </td> <td>10                                                                 </td> <td>No                                      </td>\n",
       "        </tr>\n",
       "        <tr>\n",
       "            <td>831      </td> <td>Economics                  </td> <td>75                                                        </td> <td>0                                         </td> <td>Right-handed                                 </td> <td>0                                </td> <td>1                                                                           </td> <td>5                                                          </td> <td>1                            </td> <td>4                                                                        </td> <td>1212                                     </td> <td>Nobel Prize                          </td> <td>No                       </td> <td>6                                                       </td> <td>Blue                            </td> <td>Bagel               </td> <td>No                         </td> <td>10                                                                         </td> <td>car                                  </td> <td>nan                                      </td> <td>0                                              </td> <td>2                                              </td> <td>Discord                                         </td> <td>4                                                                  </td> <td>Yes                                     </td>\n",
       "        </tr>\n",
       "        <tr>\n",
       "            <td>925      </td> <td>Math                       </td> <td>72                                                        </td> <td>0                                         </td> <td>Right-handed                                 </td> <td>1                                </td> <td>1                                                                           </td> <td>9                                                          </td> <td>1                            </td> <td>14                                                                       </td> <td>6745                                     </td> <td>Academy Award                        </td> <td>No                       </td> <td>9                                                       </td> <td>Purple                          </td> <td>Bagel               </td> <td>Yes                        </td> <td>10                                                                         </td> <td>bus                                  </td> <td>49                                       </td> <td>895                                            </td> <td>3                                              </td> <td>Instagram                                       </td> <td>2                                                                  </td> <td>No                                      </td>\n",
       "        </tr>\n",
       "        <tr>\n",
       "            <td>805      </td> <td>communication              </td> <td>68                                                        </td> <td>1                                         </td> <td>Right-handed                                 </td> <td>0                                </td> <td>1                                                                           </td> <td>nan                                                        </td> <td>0                            </td> <td>10                                                                       </td> <td>6665                                     </td> <td>Pultizer Prize                       </td> <td>No                       </td> <td>7                                                       </td> <td>blue                            </td> <td>Coffee              </td> <td>No                         </td> <td>20                                                                         </td> <td>bike                                 </td> <td>50                                       </td> <td>54                                             </td> <td>7                                              </td> <td>nan                                             </td> <td>3                                                                  </td> <td>No                                      </td>\n",
       "        </tr>\n",
       "        <tr>\n",
       "            <td>820      </td> <td>Statistics & Data Science  </td> <td>64                                                        </td> <td>3                                         </td> <td>Right-handed                                 </td> <td>1                                </td> <td>2                                                                           </td> <td>2                                                          </td> <td>0                            </td> <td>4                                                                        </td> <td>2022                                     </td> <td>Pultizer Prize                       </td> <td>No                       </td> <td>8                                                       </td> <td>Black                           </td> <td>Coffee              </td> <td>Yes                        </td> <td>2                                                                          </td> <td>walk                                 </td> <td>6                                        </td> <td>113                                            </td> <td>5                                              </td> <td>instagram                                       </td> <td>1                                                                  </td> <td>Yes                                     </td>\n",
       "        </tr>\n",
       "    </tbody>\n",
       "</table>\n",
       "<p>... (58 rows omitted)</p>"
      ],
      "text/plain": [
       "Area Code | 2. What is your major?      | 3. What is your height in inches? (e.g., 5'6\" = 66 inches) | 4. How often have you eaten out this week? | 5. Are you left-handed, right-handed or both? | 6. How many siblings do you have? | 7. What is your birth order? (1 = oldest/only child, 2 = second oldest, etc) | 8. How many hours of exercise do you get in a typical week? | 9. How many pets do you have? | 10. How many hours of television or media do you watch in a typical week? | 11. Make up a very random 4-digit number: | 12. Which award would you rather win: | 13. Do you have a tattoo? | 14. How many hours of sleep do you get in a typical day? | 15. What is your favorite color? | 16. Coffee or bagel? | 17. Have you ever tie-dyed? | 18. How many minutes does it usually take you to commute to school or work? | 19. How do you get to work or school? | 21. How many words a minute can you type? | 22. How many people do you follow on Instagram? | 23. How many social media accounts do you have? | 24. What is your favorite social media platform? | 25. How many hours of household chores do you do in a typical week? | 26. Do you know how to write in cursive?\n",
       "707       | Econ                        | 73                                                         | 2                                          | Right-handed                                  | 1                                 | 1                                                                            | 10                                                          | 4                             | 7                                                                         | 8483                                      | Olympic Medal                         | No                        | 8                                                        | Blue                             | Coffee               | Yes                         | 10                                                                          | bike                                  | 50                                        | 750                                             | 3                                               | Instagram                                        | 6                                                                   | Yes\n",
       "408       | Economics                   | 70                                                         | 3                                          | Right-handed                                  | 1                                 | 2                                                                            | 7                                                           | 2                             | 5                                                                         | 1118                                      | Nobel Prize                           | No                        | 8                                                        | Yellow                           | Coffee               | Yes                         | 10                                                                          | bike                                  | 70                                        | 1400                                            | 4                                               | YouTube                                          | 4                                                                   | Yes\n",
       "858       | stats and data science      | 72                                                         | 2                                          | Right-handed                                  | 1                                 | 2                                                                            | 5                                                           | 0                             | 10                                                                        | 1738                                      | Nobel Prize                           | No                        | 8                                                        | orange                           | Bagel                | Yes                         | 10                                                                          | bike                                  | 41                                        | 530                                             | 3                                               | instagram                                        | 0                                                                   | Yes\n",
       "541       | econ                        | 78                                                         | 2                                          | Right-handed                                  | 1                                 | 2                                                                            | 14                                                          | 2                             | 14                                                                        | 1221                                      | Nobel Prize                           | Yes                       | 8                                                        | green                            | Coffee               | Yes                         | 5                                                                           | bike                                  | 40                                        | 551                                             | 2                                               | insta                                            | 4                                                                   | Yes\n",
       "925       | pre financial math and stat | 71                                                         | 4                                          | Left-handed                                   | 8                                 | 6                                                                            | 5                                                           | 2                             | 3                                                                         | 5567                                      | Nobel Prize                           | No                        | 7                                                        | orange                           | Coffee               | No                          | 2                                                                           | walk                                  | 50                                        | 541                                             | nan                                             | YouTube                                          | 3                                                                   | No\n",
       "760       | Economics & Accounting      | 71                                                         | 1                                          | Right-handed                                  | 2                                 | 1                                                                            | 5                                                           | 1                             | 10                                                                        | 1234                                      | Nobel Prize                           | No                        | 7                                                        | Blue                             | Bagel                | No                          | 15                                                                          | bike                                  | 100                                       | 900                                             | 5                                               | Instagram                                        | 10                                                                  | No\n",
       "831       | Economics                   | 75                                                         | 0                                          | Right-handed                                  | 0                                 | 1                                                                            | 5                                                           | 1                             | 4                                                                         | 1212                                      | Nobel Prize                           | No                        | 6                                                        | Blue                             | Bagel                | No                          | 10                                                                          | car                                   | nan                                       | 0                                               | 2                                               | Discord                                          | 4                                                                   | Yes\n",
       "925       | Math                        | 72                                                         | 0                                          | Right-handed                                  | 1                                 | 1                                                                            | 9                                                           | 1                             | 14                                                                        | 6745                                      | Academy Award                         | No                        | 9                                                        | Purple                           | Bagel                | Yes                         | 10                                                                          | bus                                   | 49                                        | 895                                             | 3                                               | Instagram                                        | 2                                                                   | No\n",
       "805       | communication               | 68                                                         | 1                                          | Right-handed                                  | 0                                 | 1                                                                            | nan                                                         | 0                             | 10                                                                        | 6665                                      | Pultizer Prize                        | No                        | 7                                                        | blue                             | Coffee               | No                          | 20                                                                          | bike                                  | 50                                        | 54                                              | 7                                               | nan                                              | 3                                                                   | No\n",
       "820       | Statistics & Data Science   | 64                                                         | 3                                          | Right-handed                                  | 1                                 | 2                                                                            | 2                                                           | 0                             | 4                                                                         | 2022                                      | Pultizer Prize                        | No                        | 8                                                        | Black                            | Coffee               | Yes                         | 2                                                                           | walk                                  | 6                                         | 113                                             | 5                                               | instagram                                        | 1                                                                   | Yes\n",
       "... (58 rows omitted)"
      ]
     },
     "execution_count": 3,
     "metadata": {},
     "output_type": "execute_result"
    }
   ],
   "source": [
    "survey.relabeled('1. What is the area code of your phone number?', 'Area Code')"
   ]
  },
  {
   "cell_type": "code",
   "execution_count": 4,
   "metadata": {
    "hideCode": false,
    "hidePrompt": false
   },
   "outputs": [
    {
     "data": {
      "text/plain": [
       "('1. What is the area code of your phone number?',\n",
       " '2. What is your major?',\n",
       " '3. What is your height in inches? (e.g., 5\\'6\" = 66 inches)',\n",
       " '4. How often have you eaten out this week?',\n",
       " '5. Are you left-handed, right-handed or both?',\n",
       " '6. How many siblings do you have?',\n",
       " '7. What is your birth order? (1 = oldest/only child, 2 = second oldest, etc)',\n",
       " '8. How many hours of exercise do you get in a typical week?',\n",
       " '9. How many pets do you have?',\n",
       " '10. How many hours of television or media do you watch in a typical week?',\n",
       " '11. Make up a very random 4-digit number:',\n",
       " '12. Which award would you rather win:',\n",
       " '13. Do you have a tattoo?',\n",
       " '14. How many hours of sleep do you get in a typical day?',\n",
       " '15. What is your favorite color?',\n",
       " '16. Coffee or bagel?',\n",
       " '17. Have you ever tie-dyed?',\n",
       " '18. How many minutes does it usually take you to commute to school or work?',\n",
       " '19. How do you get to work or school?',\n",
       " '21. How many words a minute can you type?',\n",
       " '22. How many people do you follow on Instagram?',\n",
       " '23. How many social media accounts do you have?',\n",
       " '24. What is your favorite social media platform?',\n",
       " '25. How many hours of household chores do you do in a typical week?',\n",
       " '26. Do you know how to write in cursive?')"
      ]
     },
     "execution_count": 4,
     "metadata": {},
     "output_type": "execute_result"
    }
   ],
   "source": [
    "survey.labels"
   ]
  },
  {
   "cell_type": "code",
   "execution_count": 5,
   "metadata": {
    "hideCode": false,
    "hidePrompt": false
   },
   "outputs": [
    {
     "data": {
      "text/html": [
       "<table border=\"1\" class=\"dataframe\">\n",
       "    <thead>\n",
       "        <tr>\n",
       "            <th>Area Code</th> <th>Major</th> <th>3. What is your height in inches? (e.g., 5'6\" = 66 inches)</th> <th>4. How often have you eaten out this week?</th> <th>5. Are you left-handed, right-handed or both?</th> <th>6. How many siblings do you have?</th> <th>7. What is your birth order? (1 = oldest/only child, 2 = second oldest, etc)</th> <th>8. How many hours of exercise do you get in a typical week?</th> <th>9. How many pets do you have?</th> <th>10. How many hours of television or media do you watch in a typical week?</th> <th>11. Make up a very random 4-digit number:</th> <th>12. Which award would you rather win:</th> <th>13. Do you have a tattoo?</th> <th>14. How many hours of sleep do you get in a typical day?</th> <th>15. What is your favorite color?</th> <th>16. Coffee or bagel?</th> <th>17. Have you ever tie-dyed?</th> <th>18. How many minutes does it usually take you to commute to school or work?</th> <th>19. How do you get to work or school?</th> <th>21. How many words a minute can you type?</th> <th>22. How many people do you follow on Instagram?</th> <th>23. How many social media accounts do you have?</th> <th>24. What is your favorite social media platform?</th> <th>25. How many hours of household chores do you do in a typical week?</th> <th>26. Do you know how to write in cursive?</th>\n",
       "        </tr>\n",
       "    </thead>\n",
       "    <tbody>\n",
       "        <tr>\n",
       "            <td>707      </td> <td>Econ                       </td> <td>73                                                        </td> <td>2                                         </td> <td>Right-handed                                 </td> <td>1                                </td> <td>1                                                                           </td> <td>10                                                         </td> <td>4                            </td> <td>7                                                                        </td> <td>8483                                     </td> <td>Olympic Medal                        </td> <td>No                       </td> <td>8                                                       </td> <td>Blue                            </td> <td>Coffee              </td> <td>Yes                        </td> <td>10                                                                         </td> <td>bike                                 </td> <td>50                                       </td> <td>750                                            </td> <td>3                                              </td> <td>Instagram                                       </td> <td>6                                                                  </td> <td>Yes                                     </td>\n",
       "        </tr>\n",
       "        <tr>\n",
       "            <td>408      </td> <td>Economics                  </td> <td>70                                                        </td> <td>3                                         </td> <td>Right-handed                                 </td> <td>1                                </td> <td>2                                                                           </td> <td>7                                                          </td> <td>2                            </td> <td>5                                                                        </td> <td>1118                                     </td> <td>Nobel Prize                          </td> <td>No                       </td> <td>8                                                       </td> <td>Yellow                          </td> <td>Coffee              </td> <td>Yes                        </td> <td>10                                                                         </td> <td>bike                                 </td> <td>70                                       </td> <td>1400                                           </td> <td>4                                              </td> <td>YouTube                                         </td> <td>4                                                                  </td> <td>Yes                                     </td>\n",
       "        </tr>\n",
       "        <tr>\n",
       "            <td>858      </td> <td>stats and data science     </td> <td>72                                                        </td> <td>2                                         </td> <td>Right-handed                                 </td> <td>1                                </td> <td>2                                                                           </td> <td>5                                                          </td> <td>0                            </td> <td>10                                                                       </td> <td>1738                                     </td> <td>Nobel Prize                          </td> <td>No                       </td> <td>8                                                       </td> <td>orange                          </td> <td>Bagel               </td> <td>Yes                        </td> <td>10                                                                         </td> <td>bike                                 </td> <td>41                                       </td> <td>530                                            </td> <td>3                                              </td> <td>instagram                                       </td> <td>0                                                                  </td> <td>Yes                                     </td>\n",
       "        </tr>\n",
       "        <tr>\n",
       "            <td>541      </td> <td>econ                       </td> <td>78                                                        </td> <td>2                                         </td> <td>Right-handed                                 </td> <td>1                                </td> <td>2                                                                           </td> <td>14                                                         </td> <td>2                            </td> <td>14                                                                       </td> <td>1221                                     </td> <td>Nobel Prize                          </td> <td>Yes                      </td> <td>8                                                       </td> <td>green                           </td> <td>Coffee              </td> <td>Yes                        </td> <td>5                                                                          </td> <td>bike                                 </td> <td>40                                       </td> <td>551                                            </td> <td>2                                              </td> <td>insta                                           </td> <td>4                                                                  </td> <td>Yes                                     </td>\n",
       "        </tr>\n",
       "        <tr>\n",
       "            <td>925      </td> <td>pre financial math and stat</td> <td>71                                                        </td> <td>4                                         </td> <td>Left-handed                                  </td> <td>8                                </td> <td>6                                                                           </td> <td>5                                                          </td> <td>2                            </td> <td>3                                                                        </td> <td>5567                                     </td> <td>Nobel Prize                          </td> <td>No                       </td> <td>7                                                       </td> <td>orange                          </td> <td>Coffee              </td> <td>No                         </td> <td>2                                                                          </td> <td>walk                                 </td> <td>50                                       </td> <td>541                                            </td> <td>nan                                            </td> <td>YouTube                                         </td> <td>3                                                                  </td> <td>No                                      </td>\n",
       "        </tr>\n",
       "        <tr>\n",
       "            <td>760      </td> <td>Economics & Accounting     </td> <td>71                                                        </td> <td>1                                         </td> <td>Right-handed                                 </td> <td>2                                </td> <td>1                                                                           </td> <td>5                                                          </td> <td>1                            </td> <td>10                                                                       </td> <td>1234                                     </td> <td>Nobel Prize                          </td> <td>No                       </td> <td>7                                                       </td> <td>Blue                            </td> <td>Bagel               </td> <td>No                         </td> <td>15                                                                         </td> <td>bike                                 </td> <td>100                                      </td> <td>900                                            </td> <td>5                                              </td> <td>Instagram                                       </td> <td>10                                                                 </td> <td>No                                      </td>\n",
       "        </tr>\n",
       "        <tr>\n",
       "            <td>831      </td> <td>Economics                  </td> <td>75                                                        </td> <td>0                                         </td> <td>Right-handed                                 </td> <td>0                                </td> <td>1                                                                           </td> <td>5                                                          </td> <td>1                            </td> <td>4                                                                        </td> <td>1212                                     </td> <td>Nobel Prize                          </td> <td>No                       </td> <td>6                                                       </td> <td>Blue                            </td> <td>Bagel               </td> <td>No                         </td> <td>10                                                                         </td> <td>car                                  </td> <td>nan                                      </td> <td>0                                              </td> <td>2                                              </td> <td>Discord                                         </td> <td>4                                                                  </td> <td>Yes                                     </td>\n",
       "        </tr>\n",
       "        <tr>\n",
       "            <td>925      </td> <td>Math                       </td> <td>72                                                        </td> <td>0                                         </td> <td>Right-handed                                 </td> <td>1                                </td> <td>1                                                                           </td> <td>9                                                          </td> <td>1                            </td> <td>14                                                                       </td> <td>6745                                     </td> <td>Academy Award                        </td> <td>No                       </td> <td>9                                                       </td> <td>Purple                          </td> <td>Bagel               </td> <td>Yes                        </td> <td>10                                                                         </td> <td>bus                                  </td> <td>49                                       </td> <td>895                                            </td> <td>3                                              </td> <td>Instagram                                       </td> <td>2                                                                  </td> <td>No                                      </td>\n",
       "        </tr>\n",
       "        <tr>\n",
       "            <td>805      </td> <td>communication              </td> <td>68                                                        </td> <td>1                                         </td> <td>Right-handed                                 </td> <td>0                                </td> <td>1                                                                           </td> <td>nan                                                        </td> <td>0                            </td> <td>10                                                                       </td> <td>6665                                     </td> <td>Pultizer Prize                       </td> <td>No                       </td> <td>7                                                       </td> <td>blue                            </td> <td>Coffee              </td> <td>No                         </td> <td>20                                                                         </td> <td>bike                                 </td> <td>50                                       </td> <td>54                                             </td> <td>7                                              </td> <td>nan                                             </td> <td>3                                                                  </td> <td>No                                      </td>\n",
       "        </tr>\n",
       "        <tr>\n",
       "            <td>820      </td> <td>Statistics & Data Science  </td> <td>64                                                        </td> <td>3                                         </td> <td>Right-handed                                 </td> <td>1                                </td> <td>2                                                                           </td> <td>2                                                          </td> <td>0                            </td> <td>4                                                                        </td> <td>2022                                     </td> <td>Pultizer Prize                       </td> <td>No                       </td> <td>8                                                       </td> <td>Black                           </td> <td>Coffee              </td> <td>Yes                        </td> <td>2                                                                          </td> <td>walk                                 </td> <td>6                                        </td> <td>113                                            </td> <td>5                                              </td> <td>instagram                                       </td> <td>1                                                                  </td> <td>Yes                                     </td>\n",
       "        </tr>\n",
       "    </tbody>\n",
       "</table>\n",
       "<p>... (58 rows omitted)</p>"
      ],
      "text/plain": [
       "Area Code | Major                       | 3. What is your height in inches? (e.g., 5'6\" = 66 inches) | 4. How often have you eaten out this week? | 5. Are you left-handed, right-handed or both? | 6. How many siblings do you have? | 7. What is your birth order? (1 = oldest/only child, 2 = second oldest, etc) | 8. How many hours of exercise do you get in a typical week? | 9. How many pets do you have? | 10. How many hours of television or media do you watch in a typical week? | 11. Make up a very random 4-digit number: | 12. Which award would you rather win: | 13. Do you have a tattoo? | 14. How many hours of sleep do you get in a typical day? | 15. What is your favorite color? | 16. Coffee or bagel? | 17. Have you ever tie-dyed? | 18. How many minutes does it usually take you to commute to school or work? | 19. How do you get to work or school? | 21. How many words a minute can you type? | 22. How many people do you follow on Instagram? | 23. How many social media accounts do you have? | 24. What is your favorite social media platform? | 25. How many hours of household chores do you do in a typical week? | 26. Do you know how to write in cursive?\n",
       "707       | Econ                        | 73                                                         | 2                                          | Right-handed                                  | 1                                 | 1                                                                            | 10                                                          | 4                             | 7                                                                         | 8483                                      | Olympic Medal                         | No                        | 8                                                        | Blue                             | Coffee               | Yes                         | 10                                                                          | bike                                  | 50                                        | 750                                             | 3                                               | Instagram                                        | 6                                                                   | Yes\n",
       "408       | Economics                   | 70                                                         | 3                                          | Right-handed                                  | 1                                 | 2                                                                            | 7                                                           | 2                             | 5                                                                         | 1118                                      | Nobel Prize                           | No                        | 8                                                        | Yellow                           | Coffee               | Yes                         | 10                                                                          | bike                                  | 70                                        | 1400                                            | 4                                               | YouTube                                          | 4                                                                   | Yes\n",
       "858       | stats and data science      | 72                                                         | 2                                          | Right-handed                                  | 1                                 | 2                                                                            | 5                                                           | 0                             | 10                                                                        | 1738                                      | Nobel Prize                           | No                        | 8                                                        | orange                           | Bagel                | Yes                         | 10                                                                          | bike                                  | 41                                        | 530                                             | 3                                               | instagram                                        | 0                                                                   | Yes\n",
       "541       | econ                        | 78                                                         | 2                                          | Right-handed                                  | 1                                 | 2                                                                            | 14                                                          | 2                             | 14                                                                        | 1221                                      | Nobel Prize                           | Yes                       | 8                                                        | green                            | Coffee               | Yes                         | 5                                                                           | bike                                  | 40                                        | 551                                             | 2                                               | insta                                            | 4                                                                   | Yes\n",
       "925       | pre financial math and stat | 71                                                         | 4                                          | Left-handed                                   | 8                                 | 6                                                                            | 5                                                           | 2                             | 3                                                                         | 5567                                      | Nobel Prize                           | No                        | 7                                                        | orange                           | Coffee               | No                          | 2                                                                           | walk                                  | 50                                        | 541                                             | nan                                             | YouTube                                          | 3                                                                   | No\n",
       "760       | Economics & Accounting      | 71                                                         | 1                                          | Right-handed                                  | 2                                 | 1                                                                            | 5                                                           | 1                             | 10                                                                        | 1234                                      | Nobel Prize                           | No                        | 7                                                        | Blue                             | Bagel                | No                          | 15                                                                          | bike                                  | 100                                       | 900                                             | 5                                               | Instagram                                        | 10                                                                  | No\n",
       "831       | Economics                   | 75                                                         | 0                                          | Right-handed                                  | 0                                 | 1                                                                            | 5                                                           | 1                             | 4                                                                         | 1212                                      | Nobel Prize                           | No                        | 6                                                        | Blue                             | Bagel                | No                          | 10                                                                          | car                                   | nan                                       | 0                                               | 2                                               | Discord                                          | 4                                                                   | Yes\n",
       "925       | Math                        | 72                                                         | 0                                          | Right-handed                                  | 1                                 | 1                                                                            | 9                                                           | 1                             | 14                                                                        | 6745                                      | Academy Award                         | No                        | 9                                                        | Purple                           | Bagel                | Yes                         | 10                                                                          | bus                                   | 49                                        | 895                                             | 3                                               | Instagram                                        | 2                                                                   | No\n",
       "805       | communication               | 68                                                         | 1                                          | Right-handed                                  | 0                                 | 1                                                                            | nan                                                         | 0                             | 10                                                                        | 6665                                      | Pultizer Prize                        | No                        | 7                                                        | blue                             | Coffee               | No                          | 20                                                                          | bike                                  | 50                                        | 54                                              | 7                                               | nan                                              | 3                                                                   | No\n",
       "820       | Statistics & Data Science   | 64                                                         | 3                                          | Right-handed                                  | 1                                 | 2                                                                            | 2                                                           | 0                             | 4                                                                         | 2022                                      | Pultizer Prize                        | No                        | 8                                                        | Black                            | Coffee               | Yes                         | 2                                                                           | walk                                  | 6                                         | 113                                             | 5                                               | instagram                                        | 1                                                                   | Yes\n",
       "... (58 rows omitted)"
      ]
     },
     "execution_count": 5,
     "metadata": {},
     "output_type": "execute_result"
    }
   ],
   "source": [
    "survey_relabeled = survey.relabeled('1. What is the area code of your phone number?', 'Area Code')\n",
    "survey_relabeled.relabel('2. What is your major?', 'Major')"
   ]
  },
  {
   "cell_type": "code",
   "execution_count": 6,
   "metadata": {
    "hideCode": false,
    "hidePrompt": false
   },
   "outputs": [
    {
     "data": {
      "text/plain": [
       "('Area Code',\n",
       " 'Major',\n",
       " '3. What is your height in inches? (e.g., 5\\'6\" = 66 inches)',\n",
       " '4. How often have you eaten out this week?',\n",
       " '5. Are you left-handed, right-handed or both?',\n",
       " '6. How many siblings do you have?',\n",
       " '7. What is your birth order? (1 = oldest/only child, 2 = second oldest, etc)',\n",
       " '8. How many hours of exercise do you get in a typical week?',\n",
       " '9. How many pets do you have?',\n",
       " '10. How many hours of television or media do you watch in a typical week?',\n",
       " '11. Make up a very random 4-digit number:',\n",
       " '12. Which award would you rather win:',\n",
       " '13. Do you have a tattoo?',\n",
       " '14. How many hours of sleep do you get in a typical day?',\n",
       " '15. What is your favorite color?',\n",
       " '16. Coffee or bagel?',\n",
       " '17. Have you ever tie-dyed?',\n",
       " '18. How many minutes does it usually take you to commute to school or work?',\n",
       " '19. How do you get to work or school?',\n",
       " '21. How many words a minute can you type?',\n",
       " '22. How many people do you follow on Instagram?',\n",
       " '23. How many social media accounts do you have?',\n",
       " '24. What is your favorite social media platform?',\n",
       " '25. How many hours of household chores do you do in a typical week?',\n",
       " '26. Do you know how to write in cursive?')"
      ]
     },
     "execution_count": 6,
     "metadata": {},
     "output_type": "execute_result"
    }
   ],
   "source": [
    "survey_relabeled.labels"
   ]
  },
  {
   "cell_type": "code",
   "execution_count": 7,
   "metadata": {
    "hideCode": false,
    "hidePrompt": false
   },
   "outputs": [
    {
     "data": {
      "text/html": [
       "<table border=\"1\" class=\"dataframe\">\n",
       "    <thead>\n",
       "        <tr>\n",
       "            <th>Area Code</th> <th>Major</th> <th>Height</th> <th>4. How often have you eaten out this week?</th> <th>Handedness</th> <th>6. How many siblings do you have?</th> <th>7. What is your birth order? (1 = oldest/only child, 2 = second oldest, etc)</th> <th>8. How many hours of exercise do you get in a typical week?</th> <th>9. How many pets do you have?</th> <th>10. How many hours of television or media do you watch in a typical week?</th> <th>11. Make up a very random 4-digit number:</th> <th>12. Which award would you rather win:</th> <th>13. Do you have a tattoo?</th> <th>14. How many hours of sleep do you get in a typical day?</th> <th>15. What is your favorite color?</th> <th>16. Coffee or bagel?</th> <th>17. Have you ever tie-dyed?</th> <th>18. How many minutes does it usually take you to commute to school or work?</th> <th>19. How do you get to work or school?</th> <th>21. How many words a minute can you type?</th> <th>22. How many people do you follow on Instagram?</th> <th>23. How many social media accounts do you have?</th> <th>24. What is your favorite social media platform?</th> <th>25. How many hours of household chores do you do in a typical week?</th> <th>26. Do you know how to write in cursive?</th>\n",
       "        </tr>\n",
       "    </thead>\n",
       "    <tbody>\n",
       "        <tr>\n",
       "            <td>707      </td> <td>Econ                       </td> <td>73    </td> <td>2                                         </td> <td>Right-handed</td> <td>1                                </td> <td>1                                                                           </td> <td>10                                                         </td> <td>4                            </td> <td>7                                                                        </td> <td>8483                                     </td> <td>Olympic Medal                        </td> <td>No                       </td> <td>8                                                       </td> <td>Blue                            </td> <td>Coffee              </td> <td>Yes                        </td> <td>10                                                                         </td> <td>bike                                 </td> <td>50                                       </td> <td>750                                            </td> <td>3                                              </td> <td>Instagram                                       </td> <td>6                                                                  </td> <td>Yes                                     </td>\n",
       "        </tr>\n",
       "        <tr>\n",
       "            <td>408      </td> <td>Economics                  </td> <td>70    </td> <td>3                                         </td> <td>Right-handed</td> <td>1                                </td> <td>2                                                                           </td> <td>7                                                          </td> <td>2                            </td> <td>5                                                                        </td> <td>1118                                     </td> <td>Nobel Prize                          </td> <td>No                       </td> <td>8                                                       </td> <td>Yellow                          </td> <td>Coffee              </td> <td>Yes                        </td> <td>10                                                                         </td> <td>bike                                 </td> <td>70                                       </td> <td>1400                                           </td> <td>4                                              </td> <td>YouTube                                         </td> <td>4                                                                  </td> <td>Yes                                     </td>\n",
       "        </tr>\n",
       "        <tr>\n",
       "            <td>858      </td> <td>stats and data science     </td> <td>72    </td> <td>2                                         </td> <td>Right-handed</td> <td>1                                </td> <td>2                                                                           </td> <td>5                                                          </td> <td>0                            </td> <td>10                                                                       </td> <td>1738                                     </td> <td>Nobel Prize                          </td> <td>No                       </td> <td>8                                                       </td> <td>orange                          </td> <td>Bagel               </td> <td>Yes                        </td> <td>10                                                                         </td> <td>bike                                 </td> <td>41                                       </td> <td>530                                            </td> <td>3                                              </td> <td>instagram                                       </td> <td>0                                                                  </td> <td>Yes                                     </td>\n",
       "        </tr>\n",
       "        <tr>\n",
       "            <td>541      </td> <td>econ                       </td> <td>78    </td> <td>2                                         </td> <td>Right-handed</td> <td>1                                </td> <td>2                                                                           </td> <td>14                                                         </td> <td>2                            </td> <td>14                                                                       </td> <td>1221                                     </td> <td>Nobel Prize                          </td> <td>Yes                      </td> <td>8                                                       </td> <td>green                           </td> <td>Coffee              </td> <td>Yes                        </td> <td>5                                                                          </td> <td>bike                                 </td> <td>40                                       </td> <td>551                                            </td> <td>2                                              </td> <td>insta                                           </td> <td>4                                                                  </td> <td>Yes                                     </td>\n",
       "        </tr>\n",
       "        <tr>\n",
       "            <td>925      </td> <td>pre financial math and stat</td> <td>71    </td> <td>4                                         </td> <td>Left-handed </td> <td>8                                </td> <td>6                                                                           </td> <td>5                                                          </td> <td>2                            </td> <td>3                                                                        </td> <td>5567                                     </td> <td>Nobel Prize                          </td> <td>No                       </td> <td>7                                                       </td> <td>orange                          </td> <td>Coffee              </td> <td>No                         </td> <td>2                                                                          </td> <td>walk                                 </td> <td>50                                       </td> <td>541                                            </td> <td>nan                                            </td> <td>YouTube                                         </td> <td>3                                                                  </td> <td>No                                      </td>\n",
       "        </tr>\n",
       "        <tr>\n",
       "            <td>760      </td> <td>Economics & Accounting     </td> <td>71    </td> <td>1                                         </td> <td>Right-handed</td> <td>2                                </td> <td>1                                                                           </td> <td>5                                                          </td> <td>1                            </td> <td>10                                                                       </td> <td>1234                                     </td> <td>Nobel Prize                          </td> <td>No                       </td> <td>7                                                       </td> <td>Blue                            </td> <td>Bagel               </td> <td>No                         </td> <td>15                                                                         </td> <td>bike                                 </td> <td>100                                      </td> <td>900                                            </td> <td>5                                              </td> <td>Instagram                                       </td> <td>10                                                                 </td> <td>No                                      </td>\n",
       "        </tr>\n",
       "        <tr>\n",
       "            <td>831      </td> <td>Economics                  </td> <td>75    </td> <td>0                                         </td> <td>Right-handed</td> <td>0                                </td> <td>1                                                                           </td> <td>5                                                          </td> <td>1                            </td> <td>4                                                                        </td> <td>1212                                     </td> <td>Nobel Prize                          </td> <td>No                       </td> <td>6                                                       </td> <td>Blue                            </td> <td>Bagel               </td> <td>No                         </td> <td>10                                                                         </td> <td>car                                  </td> <td>nan                                      </td> <td>0                                              </td> <td>2                                              </td> <td>Discord                                         </td> <td>4                                                                  </td> <td>Yes                                     </td>\n",
       "        </tr>\n",
       "        <tr>\n",
       "            <td>925      </td> <td>Math                       </td> <td>72    </td> <td>0                                         </td> <td>Right-handed</td> <td>1                                </td> <td>1                                                                           </td> <td>9                                                          </td> <td>1                            </td> <td>14                                                                       </td> <td>6745                                     </td> <td>Academy Award                        </td> <td>No                       </td> <td>9                                                       </td> <td>Purple                          </td> <td>Bagel               </td> <td>Yes                        </td> <td>10                                                                         </td> <td>bus                                  </td> <td>49                                       </td> <td>895                                            </td> <td>3                                              </td> <td>Instagram                                       </td> <td>2                                                                  </td> <td>No                                      </td>\n",
       "        </tr>\n",
       "        <tr>\n",
       "            <td>805      </td> <td>communication              </td> <td>68    </td> <td>1                                         </td> <td>Right-handed</td> <td>0                                </td> <td>1                                                                           </td> <td>nan                                                        </td> <td>0                            </td> <td>10                                                                       </td> <td>6665                                     </td> <td>Pultizer Prize                       </td> <td>No                       </td> <td>7                                                       </td> <td>blue                            </td> <td>Coffee              </td> <td>No                         </td> <td>20                                                                         </td> <td>bike                                 </td> <td>50                                       </td> <td>54                                             </td> <td>7                                              </td> <td>nan                                             </td> <td>3                                                                  </td> <td>No                                      </td>\n",
       "        </tr>\n",
       "        <tr>\n",
       "            <td>820      </td> <td>Statistics & Data Science  </td> <td>64    </td> <td>3                                         </td> <td>Right-handed</td> <td>1                                </td> <td>2                                                                           </td> <td>2                                                          </td> <td>0                            </td> <td>4                                                                        </td> <td>2022                                     </td> <td>Pultizer Prize                       </td> <td>No                       </td> <td>8                                                       </td> <td>Black                           </td> <td>Coffee              </td> <td>Yes                        </td> <td>2                                                                          </td> <td>walk                                 </td> <td>6                                        </td> <td>113                                            </td> <td>5                                              </td> <td>instagram                                       </td> <td>1                                                                  </td> <td>Yes                                     </td>\n",
       "        </tr>\n",
       "    </tbody>\n",
       "</table>\n",
       "<p>... (58 rows omitted)</p>"
      ],
      "text/plain": [
       "Area Code | Major                       | Height | 4. How often have you eaten out this week? | Handedness   | 6. How many siblings do you have? | 7. What is your birth order? (1 = oldest/only child, 2 = second oldest, etc) | 8. How many hours of exercise do you get in a typical week? | 9. How many pets do you have? | 10. How many hours of television or media do you watch in a typical week? | 11. Make up a very random 4-digit number: | 12. Which award would you rather win: | 13. Do you have a tattoo? | 14. How many hours of sleep do you get in a typical day? | 15. What is your favorite color? | 16. Coffee or bagel? | 17. Have you ever tie-dyed? | 18. How many minutes does it usually take you to commute to school or work? | 19. How do you get to work or school? | 21. How many words a minute can you type? | 22. How many people do you follow on Instagram? | 23. How many social media accounts do you have? | 24. What is your favorite social media platform? | 25. How many hours of household chores do you do in a typical week? | 26. Do you know how to write in cursive?\n",
       "707       | Econ                        | 73     | 2                                          | Right-handed | 1                                 | 1                                                                            | 10                                                          | 4                             | 7                                                                         | 8483                                      | Olympic Medal                         | No                        | 8                                                        | Blue                             | Coffee               | Yes                         | 10                                                                          | bike                                  | 50                                        | 750                                             | 3                                               | Instagram                                        | 6                                                                   | Yes\n",
       "408       | Economics                   | 70     | 3                                          | Right-handed | 1                                 | 2                                                                            | 7                                                           | 2                             | 5                                                                         | 1118                                      | Nobel Prize                           | No                        | 8                                                        | Yellow                           | Coffee               | Yes                         | 10                                                                          | bike                                  | 70                                        | 1400                                            | 4                                               | YouTube                                          | 4                                                                   | Yes\n",
       "858       | stats and data science      | 72     | 2                                          | Right-handed | 1                                 | 2                                                                            | 5                                                           | 0                             | 10                                                                        | 1738                                      | Nobel Prize                           | No                        | 8                                                        | orange                           | Bagel                | Yes                         | 10                                                                          | bike                                  | 41                                        | 530                                             | 3                                               | instagram                                        | 0                                                                   | Yes\n",
       "541       | econ                        | 78     | 2                                          | Right-handed | 1                                 | 2                                                                            | 14                                                          | 2                             | 14                                                                        | 1221                                      | Nobel Prize                           | Yes                       | 8                                                        | green                            | Coffee               | Yes                         | 5                                                                           | bike                                  | 40                                        | 551                                             | 2                                               | insta                                            | 4                                                                   | Yes\n",
       "925       | pre financial math and stat | 71     | 4                                          | Left-handed  | 8                                 | 6                                                                            | 5                                                           | 2                             | 3                                                                         | 5567                                      | Nobel Prize                           | No                        | 7                                                        | orange                           | Coffee               | No                          | 2                                                                           | walk                                  | 50                                        | 541                                             | nan                                             | YouTube                                          | 3                                                                   | No\n",
       "760       | Economics & Accounting      | 71     | 1                                          | Right-handed | 2                                 | 1                                                                            | 5                                                           | 1                             | 10                                                                        | 1234                                      | Nobel Prize                           | No                        | 7                                                        | Blue                             | Bagel                | No                          | 15                                                                          | bike                                  | 100                                       | 900                                             | 5                                               | Instagram                                        | 10                                                                  | No\n",
       "831       | Economics                   | 75     | 0                                          | Right-handed | 0                                 | 1                                                                            | 5                                                           | 1                             | 4                                                                         | 1212                                      | Nobel Prize                           | No                        | 6                                                        | Blue                             | Bagel                | No                          | 10                                                                          | car                                   | nan                                       | 0                                               | 2                                               | Discord                                          | 4                                                                   | Yes\n",
       "925       | Math                        | 72     | 0                                          | Right-handed | 1                                 | 1                                                                            | 9                                                           | 1                             | 14                                                                        | 6745                                      | Academy Award                         | No                        | 9                                                        | Purple                           | Bagel                | Yes                         | 10                                                                          | bus                                   | 49                                        | 895                                             | 3                                               | Instagram                                        | 2                                                                   | No\n",
       "805       | communication               | 68     | 1                                          | Right-handed | 0                                 | 1                                                                            | nan                                                         | 0                             | 10                                                                        | 6665                                      | Pultizer Prize                        | No                        | 7                                                        | blue                             | Coffee               | No                          | 20                                                                          | bike                                  | 50                                        | 54                                              | 7                                               | nan                                              | 3                                                                   | No\n",
       "820       | Statistics & Data Science   | 64     | 3                                          | Right-handed | 1                                 | 2                                                                            | 2                                                           | 0                             | 4                                                                         | 2022                                      | Pultizer Prize                        | No                        | 8                                                        | Black                            | Coffee               | Yes                         | 2                                                                           | walk                                  | 6                                         | 113                                             | 5                                               | instagram                                        | 1                                                                   | Yes\n",
       "... (58 rows omitted)"
      ]
     },
     "execution_count": 7,
     "metadata": {},
     "output_type": "execute_result"
    }
   ],
   "source": [
    "# try relabeling the rest of the column headers\n",
    "survey_relabeled.relabel('5. Are you left-handed, right-handed or both?', 'Handedness')\n",
    "survey_relabeled.relabel('3. What is your height in inches? (e.g., 5\\'6\" = 66 inches)', 'Height')\n"
   ]
  },
  {
   "cell_type": "code",
   "execution_count": 9,
   "metadata": {
    "hideCode": false,
    "hideOutput": true,
    "hidePrompt": false
   },
   "outputs": [
    {
     "data": {
      "text/plain": [
       "('Area Code',\n",
       " 'Major',\n",
       " 'Height',\n",
       " '4. How often have you eaten out this week?',\n",
       " 'Handedness',\n",
       " '6. How many siblings do you have?',\n",
       " '7. What is your birth order? (1 = oldest/only child, 2 = second oldest, etc)',\n",
       " '8. How many hours of exercise do you get in a typical week?',\n",
       " '9. How many pets do you have?',\n",
       " '10. How many hours of television or media do you watch in a typical week?',\n",
       " '11. Make up a very random 4-digit number:',\n",
       " '12. Which award would you rather win:',\n",
       " '13. Do you have a tattoo?',\n",
       " '14. How many hours of sleep do you get in a typical day?',\n",
       " '15. What is your favorite color?',\n",
       " '16. Coffee or bagel?',\n",
       " '17. Have you ever tie-dyed?',\n",
       " '18. How many minutes does it usually take you to commute to school or work?',\n",
       " '19. How do you get to work or school?',\n",
       " '21. How many words a minute can you type?',\n",
       " '22. How many people do you follow on Instagram?',\n",
       " '23. How many social media accounts do you have?',\n",
       " '24. What is your favorite social media platform?',\n",
       " '25. How many hours of household chores do you do in a typical week?',\n",
       " '26. Do you know how to write in cursive?')"
      ]
     },
     "execution_count": 9,
     "metadata": {},
     "output_type": "execute_result"
    }
   ],
   "source": [
    "# let's relabel all the column headings so it's easier to read:\n",
    "old_labels = survey_relabeled.labels\n",
    "old_labels"
   ]
  },
  {
   "cell_type": "code",
   "execution_count": 10,
   "metadata": {
    "hideCode": false,
    "hidePrompt": false
   },
   "outputs": [
    {
     "data": {
      "text/plain": [
       "array(['Area Code', 'Major', 'Height', 'Eat Out', 'Handedness',\n",
       "       'Siblings', 'Birth Order', 'Exercise (hrs/week)', 'Pets',\n",
       "       'Media (hrs/week)', 'Random Number', 'Award', 'Tattoo',\n",
       "       'Sleep (hrs/day)', 'Color', 'Coffee or Bagel', 'Tie-dye',\n",
       "       'Commute', 'Mode of Transporation', 'Typing speed (words/min)',\n",
       "       'Follow on Instagram', 'Social Media Accounts',\n",
       "       'Favorite Social Media', 'Chores (hrs/week)', 'Cursive'],\n",
       "      dtype='<U24')"
      ]
     },
     "execution_count": 10,
     "metadata": {},
     "output_type": "execute_result"
    }
   ],
   "source": [
    "new_labels_array = make_array('Area Code', 'Major', 'Height',\n",
    "        'Eat Out', 'Handedness',\n",
    "        'Siblings',\n",
    "        'Birth Order',\n",
    "        'Exercise (hrs/week)',\n",
    "        'Pets',\n",
    "        'Media (hrs/week)',\n",
    "        'Random Number',\n",
    "        'Award',\n",
    "        'Tattoo',\n",
    "        'Sleep (hrs/day)',\n",
    "        'Color', 'Coffee or Bagel',\n",
    "        'Tie-dye',\n",
    "        'Commute',\n",
    "        'Mode of Transporation',\n",
    "        'Typing speed (words/min)',\n",
    "        'Follow on Instagram',\n",
    "        'Social Media Accounts',\n",
    "        'Favorite Social Media',\n",
    "        'Chores (hrs/week)',\n",
    "        'Cursive')\n",
    "new_labels_array"
   ]
  },
  {
   "cell_type": "code",
   "execution_count": 19,
   "metadata": {
    "hideCode": false,
    "hidePrompt": false
   },
   "outputs": [
    {
     "ename": "ValueError",
     "evalue": "Invalid labels. Column labels must already exist in table in order to be replaced.",
     "output_type": "error",
     "traceback": [
      "\u001b[0;31m---------------------------------------------------------------------------\u001b[0m",
      "\u001b[0;31mValueError\u001b[0m                                Traceback (most recent call last)",
      "\u001b[0;32m<ipython-input-19-9c843109783e>\u001b[0m in \u001b[0;36m<module>\u001b[0;34m\u001b[0m\n\u001b[0;32m----> 1\u001b[0;31m \u001b[0msurvey_relabeled\u001b[0m\u001b[0;34m.\u001b[0m\u001b[0mrelabel\u001b[0m\u001b[0;34m(\u001b[0m\u001b[0mold_labels\u001b[0m\u001b[0;34m,\u001b[0m \u001b[0mnew_labels_array\u001b[0m\u001b[0;34m)\u001b[0m\u001b[0;34m\u001b[0m\u001b[0;34m\u001b[0m\u001b[0m\n\u001b[0m\u001b[1;32m      2\u001b[0m \u001b[0msurvey_relabeled\u001b[0m\u001b[0;34m\u001b[0m\u001b[0;34m\u001b[0m\u001b[0m\n",
      "\u001b[0;32m/opt/conda/lib/python3.7/site-packages/datascience/tables.py\u001b[0m in \u001b[0;36mrelabel\u001b[0;34m(self, column_label, new_label)\u001b[0m\n\u001b[1;32m    982\u001b[0m         \u001b[0;32mfor\u001b[0m \u001b[0mlabel\u001b[0m \u001b[0;32min\u001b[0m \u001b[0mcolumn_label\u001b[0m\u001b[0;34m:\u001b[0m\u001b[0;34m\u001b[0m\u001b[0;34m\u001b[0m\u001b[0m\n\u001b[1;32m    983\u001b[0m             \u001b[0;32mif\u001b[0m \u001b[0;32mnot\u001b[0m \u001b[0;34m(\u001b[0m\u001b[0mlabel\u001b[0m \u001b[0;32min\u001b[0m \u001b[0mself\u001b[0m\u001b[0;34m.\u001b[0m\u001b[0mlabels\u001b[0m\u001b[0;34m)\u001b[0m\u001b[0;34m:\u001b[0m\u001b[0;34m\u001b[0m\u001b[0;34m\u001b[0m\u001b[0m\n\u001b[0;32m--> 984\u001b[0;31m                 raise ValueError('Invalid labels. Column labels must '\n\u001b[0m\u001b[1;32m    985\u001b[0m                 'already exist in table in order to be replaced.')\n\u001b[1;32m    986\u001b[0m         \u001b[0mrewrite\u001b[0m \u001b[0;34m=\u001b[0m \u001b[0;32mlambda\u001b[0m \u001b[0ms\u001b[0m\u001b[0;34m:\u001b[0m \u001b[0mold_to_new\u001b[0m\u001b[0;34m[\u001b[0m\u001b[0ms\u001b[0m\u001b[0;34m]\u001b[0m \u001b[0;32mif\u001b[0m \u001b[0ms\u001b[0m \u001b[0;32min\u001b[0m \u001b[0mold_to_new\u001b[0m \u001b[0;32melse\u001b[0m \u001b[0ms\u001b[0m\u001b[0;34m\u001b[0m\u001b[0;34m\u001b[0m\u001b[0m\n",
      "\u001b[0;31mValueError\u001b[0m: Invalid labels. Column labels must already exist in table in order to be replaced."
     ]
    }
   ],
   "source": [
    "survey_relabeled.relabel(old_labels, new_labels_array)\n",
    "survey_relabeled"
   ]
  },
  {
   "cell_type": "code",
   "execution_count": 23,
   "metadata": {},
   "outputs": [
    {
     "data": {
      "text/html": [
       "<table border=\"1\" class=\"dataframe\">\n",
       "    <thead>\n",
       "        <tr>\n",
       "            <th>Birth Order</th> <th>Exercise (hrs/week)</th>\n",
       "        </tr>\n",
       "    </thead>\n",
       "    <tbody>\n",
       "        <tr>\n",
       "            <td>1          </td> <td>10                 </td>\n",
       "        </tr>\n",
       "        <tr>\n",
       "            <td>1          </td> <td>5                  </td>\n",
       "        </tr>\n",
       "        <tr>\n",
       "            <td>1          </td> <td>5                  </td>\n",
       "        </tr>\n",
       "        <tr>\n",
       "            <td>1          </td> <td>9                  </td>\n",
       "        </tr>\n",
       "        <tr>\n",
       "            <td>1          </td> <td>nan                </td>\n",
       "        </tr>\n",
       "        <tr>\n",
       "            <td>1          </td> <td>3                  </td>\n",
       "        </tr>\n",
       "        <tr>\n",
       "            <td>1          </td> <td>5                  </td>\n",
       "        </tr>\n",
       "        <tr>\n",
       "            <td>1          </td> <td>7                  </td>\n",
       "        </tr>\n",
       "        <tr>\n",
       "            <td>1          </td> <td>5                  </td>\n",
       "        </tr>\n",
       "        <tr>\n",
       "            <td>1          </td> <td>3                  </td>\n",
       "        </tr>\n",
       "        <tr>\n",
       "            <td>1          </td> <td>2                  </td>\n",
       "        </tr>\n",
       "        <tr>\n",
       "            <td>1          </td> <td>3                  </td>\n",
       "        </tr>\n",
       "        <tr>\n",
       "            <td>1          </td> <td>2                  </td>\n",
       "        </tr>\n",
       "        <tr>\n",
       "            <td>1          </td> <td>7                  </td>\n",
       "        </tr>\n",
       "        <tr>\n",
       "            <td>1          </td> <td>1                  </td>\n",
       "        </tr>\n",
       "        <tr>\n",
       "            <td>1          </td> <td>7                  </td>\n",
       "        </tr>\n",
       "        <tr>\n",
       "            <td>1          </td> <td>3                  </td>\n",
       "        </tr>\n",
       "        <tr>\n",
       "            <td>1          </td> <td>4                  </td>\n",
       "        </tr>\n",
       "        <tr>\n",
       "            <td>1          </td> <td>4                  </td>\n",
       "        </tr>\n",
       "        <tr>\n",
       "            <td>1          </td> <td>18                 </td>\n",
       "        </tr>\n",
       "        <tr>\n",
       "            <td>1          </td> <td>1                  </td>\n",
       "        </tr>\n",
       "        <tr>\n",
       "            <td>1          </td> <td>6                  </td>\n",
       "        </tr>\n",
       "        <tr>\n",
       "            <td>1          </td> <td>1                  </td>\n",
       "        </tr>\n",
       "        <tr>\n",
       "            <td>1          </td> <td>3                  </td>\n",
       "        </tr>\n",
       "        <tr>\n",
       "            <td>1          </td> <td>14                 </td>\n",
       "        </tr>\n",
       "        <tr>\n",
       "            <td>1          </td> <td>6                  </td>\n",
       "        </tr>\n",
       "        <tr>\n",
       "            <td>1          </td> <td>1                  </td>\n",
       "        </tr>\n",
       "        <tr>\n",
       "            <td>1          </td> <td>0                  </td>\n",
       "        </tr>\n",
       "        <tr>\n",
       "            <td>1          </td> <td>6                  </td>\n",
       "        </tr>\n",
       "        <tr>\n",
       "            <td>1          </td> <td>14                 </td>\n",
       "        </tr>\n",
       "        <tr>\n",
       "            <td>1          </td> <td>10                 </td>\n",
       "        </tr>\n",
       "        <tr>\n",
       "            <td>1          </td> <td>5                  </td>\n",
       "        </tr>\n",
       "    </tbody>\n",
       "</table>"
      ],
      "text/plain": [
       "<IPython.core.display.HTML object>"
      ]
     },
     "metadata": {},
     "output_type": "display_data"
    }
   ],
   "source": [
    "survey_relabeled.where('Birth Order',1).select('Birth Order', 'Exercise (hrs/week)').show()"
   ]
  },
  {
   "cell_type": "code",
   "execution_count": 22,
   "metadata": {},
   "outputs": [
    {
     "ename": "SyntaxError",
     "evalue": "invalid syntax (<ipython-input-22-4bde83ddda4c>, line 1)",
     "output_type": "error",
     "traceback": [
      "\u001b[0;36m  File \u001b[0;32m\"<ipython-input-22-4bde83ddda4c>\"\u001b[0;36m, line \u001b[0;32m1\u001b[0m\n\u001b[0;31m    (10+5+5+9+)/5\u001b[0m\n\u001b[0m              ^\u001b[0m\n\u001b[0;31mSyntaxError\u001b[0m\u001b[0;31m:\u001b[0m invalid syntax\n"
     ]
    }
   ],
   "source": [
    "(10+5+5+9+)/5"
   ]
  },
  {
   "cell_type": "code",
   "execution_count": 12,
   "metadata": {
    "hideCode": false,
    "hidePrompt": false,
    "scrolled": true
   },
   "outputs": [
    {
     "data": {
      "text/html": [
       "<table border=\"1\" class=\"dataframe\">\n",
       "    <thead>\n",
       "        <tr>\n",
       "            <th>Birth Order</th> <th>Area Code average</th> <th>Major average</th> <th>Height average</th> <th>Eat Out average</th> <th>Handedness average</th> <th>Siblings average</th> <th>Exercise (hrs/week) average</th> <th>Pets average</th> <th>Media (hrs/week) average</th> <th>Random Number average</th> <th>Award average</th> <th>Tattoo average</th> <th>Sleep (hrs/day) average</th> <th>Color average</th> <th>Coffee or Bagel average</th> <th>Tie-dye average</th> <th>Commute average</th> <th>Mode of Transporation average</th> <th>Typing speed (words/min) average</th> <th>Follow on Instagram average</th> <th>Social Media Accounts average</th> <th>Favorite Social Media average</th> <th>Chores (hrs/week) average</th> <th>Cursive average</th>\n",
       "        </tr>\n",
       "    </thead>\n",
       "    <tbody>\n",
       "        <tr>\n",
       "            <td>1          </td> <td>nan              </td> <td>             </td> <td>68.7438       </td> <td>2.75           </td> <td>                  </td> <td>1.21875         </td> <td>nan                        </td> <td>0.84375     </td> <td>9.375                   </td> <td>5445.59              </td> <td>             </td> <td>              </td> <td>7.42188                </td> <td>             </td> <td>                       </td> <td>               </td> <td>16.5312        </td> <td>                             </td> <td>nan                             </td> <td>478                        </td> <td>4.53125                      </td> <td>                             </td> <td>3.59375                  </td> <td>               </td>\n",
       "        </tr>\n",
       "        <tr>\n",
       "            <td>2          </td> <td>709.143          </td> <td>             </td> <td>67.1929       </td> <td>2.60714        </td> <td>                  </td> <td>1.67857         </td> <td>5.76786                    </td> <td>0.785714    </td> <td>16.9643                 </td> <td>4039.96              </td> <td>             </td> <td>              </td> <td>7.60714                </td> <td>             </td> <td>                       </td> <td>               </td> <td>nan            </td> <td>                             </td> <td>nan                             </td> <td>nan                        </td> <td>nan                          </td> <td>                             </td> <td>nan                      </td> <td>               </td>\n",
       "        </tr>\n",
       "        <tr>\n",
       "            <td>3          </td> <td>567.5            </td> <td>             </td> <td>68.8333       </td> <td>3              </td> <td>                  </td> <td>2.16667         </td> <td>3.66667                    </td> <td>0.666667    </td> <td>15.1667                 </td> <td>5533.5               </td> <td>             </td> <td>              </td> <td>8.33333                </td> <td>             </td> <td>                       </td> <td>               </td> <td>17.5           </td> <td>                             </td> <td>nan                             </td> <td>nan                        </td> <td>nan                          </td> <td>                             </td> <td>7.5                      </td> <td>               </td>\n",
       "        </tr>\n",
       "        <tr>\n",
       "            <td>4          </td> <td>818              </td> <td>             </td> <td>69            </td> <td>0              </td> <td>                  </td> <td>3               </td> <td>5                          </td> <td>2           </td> <td>20                      </td> <td>7395                 </td> <td>             </td> <td>              </td> <td>6                      </td> <td>             </td> <td>                       </td> <td>               </td> <td>60             </td> <td>                             </td> <td>40                              </td> <td>400                        </td> <td>4                            </td> <td>                             </td> <td>8                        </td> <td>               </td>\n",
       "        </tr>\n",
       "        <tr>\n",
       "            <td>6          </td> <td>925              </td> <td>             </td> <td>71            </td> <td>4              </td> <td>                  </td> <td>8               </td> <td>5                          </td> <td>2           </td> <td>3                       </td> <td>5567                 </td> <td>             </td> <td>              </td> <td>7                      </td> <td>             </td> <td>                       </td> <td>               </td> <td>2              </td> <td>                             </td> <td>50                              </td> <td>541                        </td> <td>nan                          </td> <td>                             </td> <td>3                        </td> <td>               </td>\n",
       "        </tr>\n",
       "    </tbody>\n",
       "</table>"
      ],
      "text/plain": [
       "Birth Order | Area Code average | Major average | Height average | Eat Out average | Handedness average | Siblings average | Exercise (hrs/week) average | Pets average | Media (hrs/week) average | Random Number average | Award average | Tattoo average | Sleep (hrs/day) average | Color average | Coffee or Bagel average | Tie-dye average | Commute average | Mode of Transporation average | Typing speed (words/min) average | Follow on Instagram average | Social Media Accounts average | Favorite Social Media average | Chores (hrs/week) average | Cursive average\n",
       "1           | nan               |               | 68.7438        | 2.75            |                    | 1.21875          | nan                         | 0.84375      | 9.375                    | 5445.59               |               |                | 7.42188                 |               |                         |                 | 16.5312         |                               | nan                              | 478                         | 4.53125                       |                               | 3.59375                   |\n",
       "2           | 709.143           |               | 67.1929        | 2.60714         |                    | 1.67857          | 5.76786                     | 0.785714     | 16.9643                  | 4039.96               |               |                | 7.60714                 |               |                         |                 | nan             |                               | nan                              | nan                         | nan                           |                               | nan                       |\n",
       "3           | 567.5             |               | 68.8333        | 3               |                    | 2.16667          | 3.66667                     | 0.666667     | 15.1667                  | 5533.5                |               |                | 8.33333                 |               |                         |                 | 17.5            |                               | nan                              | nan                         | nan                           |                               | 7.5                       |\n",
       "4           | 818               |               | 69             | 0               |                    | 3                | 5                           | 2            | 20                       | 7395                  |               |                | 6                       |               |                         |                 | 60              |                               | 40                               | 400                         | 4                             |                               | 8                         |\n",
       "6           | 925               |               | 71             | 4               |                    | 8                | 5                           | 2            | 3                        | 5567                  |               |                | 7                       |               |                         |                 | 2               |                               | 50                               | 541                         | nan                           |                               | 3                         |"
      ]
     },
     "execution_count": 12,
     "metadata": {},
     "output_type": "execute_result"
    }
   ],
   "source": [
    "survey_relabeled.group('Birth Order', np.average)\n",
    "# what does 68.7438 mean in context of our data set?"
   ]
  },
  {
   "cell_type": "code",
   "execution_count": 13,
   "metadata": {
    "hideCode": false,
    "hidePrompt": false
   },
   "outputs": [
    {
     "data": {
      "text/html": [
       "<table border=\"1\" class=\"dataframe\">\n",
       "    <thead>\n",
       "        <tr>\n",
       "            <th>Birth Order</th> <th>Area Code average</th> <th>Major average</th> <th>Height average</th> <th>Eat Out average</th> <th>Handedness average</th> <th>Siblings average</th> <th>Exercise (hrs/week) average</th> <th>Pets average</th> <th>Media (hrs/week) average</th> <th>Random Number average</th> <th>Award average</th> <th>Tattoo average</th> <th>Sleep (hrs/day) average</th> <th>Color average</th> <th>Coffee or Bagel average</th> <th>Tie-dye average</th> <th>Commute average</th> <th>Mode of Transporation average</th> <th>Typing speed (words/min) average</th> <th>Follow on Instagram average</th> <th>Social Media Accounts average</th> <th>Favorite Social Media average</th> <th>Chores (hrs/week) average</th> <th>Cursive average</th>\n",
       "        </tr>\n",
       "    </thead>\n",
       "    <tbody>\n",
       "        <tr>\n",
       "            <td>1          </td> <td>nan              </td> <td>             </td> <td>68.7438       </td> <td>2.75           </td> <td>                  </td> <td>1.21875         </td> <td>nan                        </td> <td>0.84375     </td> <td>9.375                   </td> <td>5445.59              </td> <td>             </td> <td>              </td> <td>7.42188                </td> <td>             </td> <td>                       </td> <td>               </td> <td>16.5312        </td> <td>                             </td> <td>nan                             </td> <td>478                        </td> <td>4.53125                      </td> <td>                             </td> <td>3.59375                  </td> <td>               </td>\n",
       "        </tr>\n",
       "        <tr>\n",
       "            <td>2          </td> <td>709.143          </td> <td>             </td> <td>67.1929       </td> <td>2.60714        </td> <td>                  </td> <td>1.67857         </td> <td>5.76786                    </td> <td>0.785714    </td> <td>16.9643                 </td> <td>4039.96              </td> <td>             </td> <td>              </td> <td>7.60714                </td> <td>             </td> <td>                       </td> <td>               </td> <td>nan            </td> <td>                             </td> <td>nan                             </td> <td>nan                        </td> <td>nan                          </td> <td>                             </td> <td>nan                      </td> <td>               </td>\n",
       "        </tr>\n",
       "        <tr>\n",
       "            <td>3          </td> <td>567.5            </td> <td>             </td> <td>68.8333       </td> <td>3              </td> <td>                  </td> <td>2.16667         </td> <td>3.66667                    </td> <td>0.666667    </td> <td>15.1667                 </td> <td>5533.5               </td> <td>             </td> <td>              </td> <td>8.33333                </td> <td>             </td> <td>                       </td> <td>               </td> <td>17.5           </td> <td>                             </td> <td>nan                             </td> <td>nan                        </td> <td>nan                          </td> <td>                             </td> <td>7.5                      </td> <td>               </td>\n",
       "        </tr>\n",
       "        <tr>\n",
       "            <td>4          </td> <td>818              </td> <td>             </td> <td>69            </td> <td>0              </td> <td>                  </td> <td>3               </td> <td>5                          </td> <td>2           </td> <td>20                      </td> <td>7395                 </td> <td>             </td> <td>              </td> <td>6                      </td> <td>             </td> <td>                       </td> <td>               </td> <td>60             </td> <td>                             </td> <td>40                              </td> <td>400                        </td> <td>4                            </td> <td>                             </td> <td>8                        </td> <td>               </td>\n",
       "        </tr>\n",
       "        <tr>\n",
       "            <td>6          </td> <td>925              </td> <td>             </td> <td>71            </td> <td>4              </td> <td>                  </td> <td>8               </td> <td>5                          </td> <td>2           </td> <td>3                       </td> <td>5567                 </td> <td>             </td> <td>              </td> <td>7                      </td> <td>             </td> <td>                       </td> <td>               </td> <td>2              </td> <td>                             </td> <td>50                              </td> <td>541                        </td> <td>nan                          </td> <td>                             </td> <td>3                        </td> <td>               </td>\n",
       "        </tr>\n",
       "    </tbody>\n",
       "</table>"
      ],
      "text/plain": [
       "Birth Order | Area Code average | Major average | Height average | Eat Out average | Handedness average | Siblings average | Exercise (hrs/week) average | Pets average | Media (hrs/week) average | Random Number average | Award average | Tattoo average | Sleep (hrs/day) average | Color average | Coffee or Bagel average | Tie-dye average | Commute average | Mode of Transporation average | Typing speed (words/min) average | Follow on Instagram average | Social Media Accounts average | Favorite Social Media average | Chores (hrs/week) average | Cursive average\n",
       "1           | nan               |               | 68.7438        | 2.75            |                    | 1.21875          | nan                         | 0.84375      | 9.375                    | 5445.59               |               |                | 7.42188                 |               |                         |                 | 16.5312         |                               | nan                              | 478                         | 4.53125                       |                               | 3.59375                   |\n",
       "2           | 709.143           |               | 67.1929        | 2.60714         |                    | 1.67857          | 5.76786                     | 0.785714     | 16.9643                  | 4039.96               |               |                | 7.60714                 |               |                         |                 | nan             |                               | nan                              | nan                         | nan                           |                               | nan                       |\n",
       "3           | 567.5             |               | 68.8333        | 3               |                    | 2.16667          | 3.66667                     | 0.666667     | 15.1667                  | 5533.5                |               |                | 8.33333                 |               |                         |                 | 17.5            |                               | nan                              | nan                         | nan                           |                               | 7.5                       |\n",
       "4           | 818               |               | 69             | 0               |                    | 3                | 5                           | 2            | 20                       | 7395                  |               |                | 6                       |               |                         |                 | 60              |                               | 40                               | 400                         | 4                             |                               | 8                         |\n",
       "6           | 925               |               | 71             | 4               |                    | 8                | 5                           | 2            | 3                        | 5567                  |               |                | 7                       |               |                         |                 | 2               |                               | 50                               | 541                         | nan                           |                               | 3                         |"
      ]
     },
     "execution_count": 13,
     "metadata": {},
     "output_type": "execute_result"
    }
   ],
   "source": [
    "by_birthorder = survey_relabeled.group('Birth Order', np.average)\n",
    "by_birthorder"
   ]
  },
  {
   "cell_type": "code",
   "execution_count": 14,
   "metadata": {
    "hideCode": false,
    "hidePrompt": false
   },
   "outputs": [
    {
     "data": {
      "image/png": "[encoded data removed]",
      "text/plain": [
       "<Figure size 432x432 with 1 Axes>"
      ]
     },
     "metadata": {},
     "output_type": "display_data"
    }
   ],
   "source": [
    "by_birthorder.select('Birth Order','Eat Out average', 'Height average').plot('Birth Order') "
   ]
  },
  {
   "cell_type": "code",
   "execution_count": null,
   "metadata": {
    "hideCode": false,
    "hidePrompt": false
   },
   "outputs": [],
   "source": [
    "#what do you notice above?\n",
    "\n"
   ]
  },
  {
   "cell_type": "markdown",
   "metadata": {
    "hideCode": false,
    "hidePrompt": false
   },
   "source": [
    "## Grouping by Two Columns ##"
   ]
  },
  {
   "cell_type": "code",
   "execution_count": 17,
   "metadata": {
    "hideCode": false,
    "hidePrompt": false
   },
   "outputs": [
    {
     "data": {
      "text/html": [
       "<table border=\"1\" class=\"dataframe\">\n",
       "    <thead>\n",
       "        <tr>\n",
       "            <th>Handedness</th> <th>Height</th> <th>Area Code average</th> <th>Major average</th> <th>Eat Out average</th> <th>Siblings average</th> <th>Birth Order average</th> <th>Exercise (hrs/week) average</th> <th>Pets average</th> <th>Media (hrs/week) average</th> <th>Random Number average</th> <th>Award average</th> <th>Tattoo average</th> <th>Sleep (hrs/day) average</th> <th>Color average</th> <th>Coffee or Bagel average</th> <th>Tie-dye average</th> <th>Commute average</th> <th>Mode of Transporation average</th> <th>Typing speed (words/min) average</th> <th>Follow on Instagram average</th> <th>Social Media Accounts average</th> <th>Favorite Social Media average</th> <th>Chores (hrs/week) average</th> <th>Cursive average</th>\n",
       "        </tr>\n",
       "    </thead>\n",
       "    <tbody>\n",
       "        <tr>\n",
       "            <td>Both left- and right-handed</td> <td>59    </td> <td>202              </td> <td>             </td> <td>9              </td> <td>6               </td> <td>2                  </td> <td>0                          </td> <td>3           </td> <td>0                       </td> <td>8756                 </td> <td>             </td> <td>              </td> <td>12                     </td> <td>             </td> <td>                       </td> <td>               </td> <td>nan            </td> <td>                             </td> <td>nan                             </td> <td>nan                        </td> <td>nan                          </td> <td>                             </td> <td>nan                      </td> <td>               </td>\n",
       "        </tr>\n",
       "        <tr>\n",
       "            <td>Both left- and right-handed</td> <td>63    </td> <td>213              </td> <td>             </td> <td>1              </td> <td>1               </td> <td>2                  </td> <td>1                          </td> <td>0           </td> <td>14                      </td> <td>2381                 </td> <td>             </td> <td>              </td> <td>10                     </td> <td>             </td> <td>                       </td> <td>               </td> <td>10             </td> <td>                             </td> <td>50                              </td> <td>157                        </td> <td>5                            </td> <td>                             </td> <td>0                        </td> <td>               </td>\n",
       "        </tr>\n",
       "        <tr>\n",
       "            <td>Both left- and right-handed</td> <td>65    </td> <td>820              </td> <td>             </td> <td>0              </td> <td>1               </td> <td>2                  </td> <td>8                          </td> <td>0           </td> <td>5                       </td> <td>1234                 </td> <td>             </td> <td>              </td> <td>7                      </td> <td>             </td> <td>                       </td> <td>               </td> <td>6              </td> <td>                             </td> <td>nan                             </td> <td>101                        </td> <td>5                            </td> <td>                             </td> <td>7                        </td> <td>               </td>\n",
       "        </tr>\n",
       "        <tr>\n",
       "            <td>Both left- and right-handed</td> <td>67    </td> <td>925              </td> <td>             </td> <td>3              </td> <td>1               </td> <td>1                  </td> <td>5                          </td> <td>2           </td> <td>21                      </td> <td>2002                 </td> <td>             </td> <td>              </td> <td>6                      </td> <td>             </td> <td>                       </td> <td>               </td> <td>10             </td> <td>                             </td> <td>44                              </td> <td>777                        </td> <td>5                            </td> <td>                             </td> <td>1                        </td> <td>               </td>\n",
       "        </tr>\n",
       "        <tr>\n",
       "            <td>Both left- and right-handed</td> <td>69    </td> <td>909              </td> <td>             </td> <td>3              </td> <td>1               </td> <td>1                  </td> <td>7                          </td> <td>0           </td> <td>20                      </td> <td>4784                 </td> <td>             </td> <td>              </td> <td>8                      </td> <td>             </td> <td>                       </td> <td>               </td> <td>5              </td> <td>                             </td> <td>65                              </td> <td>1163                       </td> <td>5                            </td> <td>                             </td> <td>5                        </td> <td>               </td>\n",
       "        </tr>\n",
       "        <tr>\n",
       "            <td>Both left- and right-handed</td> <td>71    </td> <td>805              </td> <td>             </td> <td>5              </td> <td>1               </td> <td>2                  </td> <td>5                          </td> <td>0           </td> <td>80                      </td> <td>7425                 </td> <td>             </td> <td>              </td> <td>8                      </td> <td>             </td> <td>                       </td> <td>               </td> <td>20             </td> <td>                             </td> <td>30                              </td> <td>455                        </td> <td>10                           </td> <td>                             </td> <td>10                       </td> <td>               </td>\n",
       "        </tr>\n",
       "        <tr>\n",
       "            <td>Left-handed                </td> <td>65    </td> <td>678              </td> <td>             </td> <td>1              </td> <td>1               </td> <td>1                  </td> <td>0                          </td> <td>0           </td> <td>7                       </td> <td>5972                 </td> <td>             </td> <td>              </td> <td>9                      </td> <td>             </td> <td>                       </td> <td>               </td> <td>5              </td> <td>                             </td> <td>72                              </td> <td>653                        </td> <td>3                            </td> <td>                             </td> <td>2                        </td> <td>               </td>\n",
       "        </tr>\n",
       "        <tr>\n",
       "            <td>Left-handed                </td> <td>68    </td> <td>559              </td> <td>             </td> <td>2              </td> <td>1               </td> <td>2                  </td> <td>8                          </td> <td>0           </td> <td>4                       </td> <td>1837                 </td> <td>             </td> <td>              </td> <td>8                      </td> <td>             </td> <td>                       </td> <td>               </td> <td>20             </td> <td>                             </td> <td>50                              </td> <td>139                        </td> <td>4                            </td> <td>                             </td> <td>5                        </td> <td>               </td>\n",
       "        </tr>\n",
       "        <tr>\n",
       "            <td>Left-handed                </td> <td>69    </td> <td>760              </td> <td>             </td> <td>0              </td> <td>3               </td> <td>2                  </td> <td>0                          </td> <td>3           </td> <td>40                      </td> <td>4032                 </td> <td>             </td> <td>              </td> <td>9                      </td> <td>             </td> <td>                       </td> <td>               </td> <td>10             </td> <td>                             </td> <td>100                             </td> <td>0                          </td> <td>0                            </td> <td>                             </td> <td>0                        </td> <td>               </td>\n",
       "        </tr>\n",
       "        <tr>\n",
       "            <td>Left-handed                </td> <td>71    </td> <td>925              </td> <td>             </td> <td>4              </td> <td>8               </td> <td>6                  </td> <td>5                          </td> <td>2           </td> <td>3                       </td> <td>5567                 </td> <td>             </td> <td>              </td> <td>7                      </td> <td>             </td> <td>                       </td> <td>               </td> <td>2              </td> <td>                             </td> <td>50                              </td> <td>541                        </td> <td>nan                          </td> <td>                             </td> <td>3                        </td> <td>               </td>\n",
       "        </tr>\n",
       "    </tbody>\n",
       "</table>\n",
       "<p>... (20 rows omitted)</p>"
      ],
      "text/plain": [
       "Handedness                  | Height | Area Code average | Major average | Eat Out average | Siblings average | Birth Order average | Exercise (hrs/week) average | Pets average | Media (hrs/week) average | Random Number average | Award average | Tattoo average | Sleep (hrs/day) average | Color average | Coffee or Bagel average | Tie-dye average | Commute average | Mode of Transporation average | Typing speed (words/min) average | Follow on Instagram average | Social Media Accounts average | Favorite Social Media average | Chores (hrs/week) average | Cursive average\n",
       "Both left- and right-handed | 59     | 202               |               | 9               | 6                | 2                   | 0                           | 3            | 0                        | 8756                  |               |                | 12                      |               |                         |                 | nan             |                               | nan                              | nan                         | nan                           |                               | nan                       |\n",
       "Both left- and right-handed | 63     | 213               |               | 1               | 1                | 2                   | 1                           | 0            | 14                       | 2381                  |               |                | 10                      |               |                         |                 | 10              |                               | 50                               | 157                         | 5                             |                               | 0                         |\n",
       "Both left- and right-handed | 65     | 820               |               | 0               | 1                | 2                   | 8                           | 0            | 5                        | 1234                  |               |                | 7                       |               |                         |                 | 6               |                               | nan                              | 101                         | 5                             |                               | 7                         |\n",
       "Both left- and right-handed | 67     | 925               |               | 3               | 1                | 1                   | 5                           | 2            | 21                       | 2002                  |               |                | 6                       |               |                         |                 | 10              |                               | 44                               | 777                         | 5                             |                               | 1                         |\n",
       "Both left- and right-handed | 69     | 909               |               | 3               | 1                | 1                   | 7                           | 0            | 20                       | 4784                  |               |                | 8                       |               |                         |                 | 5               |                               | 65                               | 1163                        | 5                             |                               | 5                         |\n",
       "Both left- and right-handed | 71     | 805               |               | 5               | 1                | 2                   | 5                           | 0            | 80                       | 7425                  |               |                | 8                       |               |                         |                 | 20              |                               | 30                               | 455                         | 10                            |                               | 10                        |\n",
       "Left-handed                 | 65     | 678               |               | 1               | 1                | 1                   | 0                           | 0            | 7                        | 5972                  |               |                | 9                       |               |                         |                 | 5               |                               | 72                               | 653                         | 3                             |                               | 2                         |\n",
       "Left-handed                 | 68     | 559               |               | 2               | 1                | 2                   | 8                           | 0            | 4                        | 1837                  |               |                | 8                       |               |                         |                 | 20              |                               | 50                               | 139                         | 4                             |                               | 5                         |\n",
       "Left-handed                 | 69     | 760               |               | 0               | 3                | 2                   | 0                           | 3            | 40                       | 4032                  |               |                | 9                       |               |                         |                 | 10              |                               | 100                              | 0                           | 0                             |                               | 0                         |\n",
       "Left-handed                 | 71     | 925               |               | 4               | 8                | 6                   | 5                           | 2            | 3                        | 5567                  |               |                | 7                       |               |                         |                 | 2               |                               | 50                               | 541                         | nan                           |                               | 3                         |\n",
       "... (20 rows omitted)"
      ]
     },
     "execution_count": 17,
     "metadata": {},
     "output_type": "execute_result"
    }
   ],
   "source": [
    "survey_relabeled.group(['Handedness','Height'], np.average)"
   ]
  },
  {
   "cell_type": "code",
   "execution_count": 25,
   "metadata": {},
   "outputs": [
    {
     "data": {
      "text/html": [
       "<table border=\"1\" class=\"dataframe\">\n",
       "    <thead>\n",
       "        <tr>\n",
       "            <th>Birth Order</th> <th>Both left- and right-handed</th> <th>Left-handed</th> <th>Right-handed</th>\n",
       "        </tr>\n",
       "    </thead>\n",
       "    <tbody>\n",
       "        <tr>\n",
       "            <td>1          </td> <td>68                         </td> <td>65         </td> <td>68.9241     </td>\n",
       "        </tr>\n",
       "        <tr>\n",
       "            <td>2          </td> <td>64.5                       </td> <td>68.5       </td> <td>67.5636     </td>\n",
       "        </tr>\n",
       "        <tr>\n",
       "            <td>3          </td> <td>0                          </td> <td>0          </td> <td>68.8333     </td>\n",
       "        </tr>\n",
       "        <tr>\n",
       "            <td>4          </td> <td>0                          </td> <td>0          </td> <td>69          </td>\n",
       "        </tr>\n",
       "        <tr>\n",
       "            <td>6          </td> <td>0                          </td> <td>71         </td> <td>0           </td>\n",
       "        </tr>\n",
       "    </tbody>\n",
       "</table>"
      ],
      "text/plain": [
       "Birth Order | Both left- and right-handed | Left-handed | Right-handed\n",
       "1           | 68                          | 65          | 68.9241\n",
       "2           | 64.5                        | 68.5        | 67.5636\n",
       "3           | 0                           | 0           | 68.8333\n",
       "4           | 0                           | 0           | 69\n",
       "6           | 0                           | 71          | 0"
      ]
     },
     "execution_count": 25,
     "metadata": {},
     "output_type": "execute_result"
    }
   ],
   "source": [
    "survey_relabeled.pivot('Handedness','Birth Order','Height', np.average)"
   ]
  },
  {
   "cell_type": "code",
   "execution_count": null,
   "metadata": {
    "hideCode": false,
    "hidePrompt": false
   },
   "outputs": [],
   "source": [
    "#plot here"
   ]
  },
  {
   "cell_type": "code",
   "execution_count": null,
   "metadata": {
    "hideCode": false,
    "hidePrompt": false
   },
   "outputs": [],
   "source": []
  },
  {
   "cell_type": "markdown",
   "metadata": {
    "hideCode": false,
    "hidePrompt": false
   },
   "source": [
    "## Billionaires"
   ]
  },
  {
   "cell_type": "code",
   "execution_count": 26,
   "metadata": {
    "hideCode": false,
    "hidePrompt": false
   },
   "outputs": [
    {
     "data": {
      "text/html": [
       "<table border=\"1\" class=\"dataframe\">\n",
       "    <thead>\n",
       "        <tr>\n",
       "            <th>name</th> <th>net worth</th> <th>citizenship</th> <th>industry</th>\n",
       "        </tr>\n",
       "    </thead>\n",
       "    <tbody>\n",
       "        <tr>\n",
       "            <td>Jeff Bezos     </td> <td>115739645754</td> <td>United States</td> <td>Technology </td>\n",
       "        </tr>\n",
       "        <tr>\n",
       "            <td>Bill Gates     </td> <td>115488591742</td> <td>United States</td> <td>Technology </td>\n",
       "        </tr>\n",
       "        <tr>\n",
       "            <td>Bernard Arnault</td> <td>102244728472</td> <td>France       </td> <td>Consumer   </td>\n",
       "        </tr>\n",
       "        <tr>\n",
       "            <td>Warren Buffett </td> <td>89408278188 </td> <td>United States</td> <td>Diversified</td>\n",
       "        </tr>\n",
       "        <tr>\n",
       "            <td>Mark Zuckerberg</td> <td>83053011017 </td> <td>United States</td> <td>Technology </td>\n",
       "        </tr>\n",
       "        <tr>\n",
       "            <td>Amancio Ortega </td> <td>73839366133 </td> <td>Spain        </td> <td>Retail     </td>\n",
       "        </tr>\n",
       "        <tr>\n",
       "            <td>Larry Page     </td> <td>69933009751 </td> <td>United States</td> <td>Technology </td>\n",
       "        </tr>\n",
       "        <tr>\n",
       "            <td>Sergey Brin    </td> <td>67825250468 </td> <td>United States</td> <td>Technology </td>\n",
       "        </tr>\n",
       "        <tr>\n",
       "            <td>Carlos Slim    </td> <td>62527178289 </td> <td>Mexico       </td> <td>Diversified</td>\n",
       "        </tr>\n",
       "        <tr>\n",
       "            <td>Charles Koch   </td> <td>61046822719 </td> <td>United States</td> <td>Industrial </td>\n",
       "        </tr>\n",
       "    </tbody>\n",
       "</table>\n",
       "<p>... (490 rows omitted)</p>"
      ],
      "text/plain": [
       "name            | net worth    | citizenship   | industry\n",
       "Jeff Bezos      | 115739645754 | United States | Technology\n",
       "Bill Gates      | 115488591742 | United States | Technology\n",
       "Bernard Arnault | 102244728472 | France        | Consumer\n",
       "Warren Buffett  | 89408278188  | United States | Diversified\n",
       "Mark Zuckerberg | 83053011017  | United States | Technology\n",
       "Amancio Ortega  | 73839366133  | Spain         | Retail\n",
       "Larry Page      | 69933009751  | United States | Technology\n",
       "Sergey Brin     | 67825250468  | United States | Technology\n",
       "Carlos Slim     | 62527178289  | Mexico        | Diversified\n",
       "Charles Koch    | 61046822719  | United States | Industrial\n",
       "... (490 rows omitted)"
      ]
     },
     "execution_count": 26,
     "metadata": {},
     "output_type": "execute_result"
    }
   ],
   "source": [
    "billionaires = Table.read_table('data/billionaires.csv')\n",
    "billionaires"
   ]
  },
  {
   "cell_type": "code",
   "execution_count": 37,
   "metadata": {
    "hideCode": false,
    "hidePrompt": false,
    "scrolled": true
   },
   "outputs": [
    {
     "data": {
      "text/html": [
       "<table border=\"1\" class=\"dataframe\">\n",
       "    <thead>\n",
       "        <tr>\n",
       "            <th>citizenship</th> <th>count</th>\n",
       "        </tr>\n",
       "    </thead>\n",
       "    <tbody>\n",
       "        <tr>\n",
       "            <td>United States     </td> <td>172  </td>\n",
       "        </tr>\n",
       "        <tr>\n",
       "            <td>China             </td> <td>56   </td>\n",
       "        </tr>\n",
       "        <tr>\n",
       "            <td>Germany           </td> <td>32   </td>\n",
       "        </tr>\n",
       "        <tr>\n",
       "            <td>Russian Federation</td> <td>23   </td>\n",
       "        </tr>\n",
       "        <tr>\n",
       "            <td>Hong Kong         </td> <td>20   </td>\n",
       "        </tr>\n",
       "        <tr>\n",
       "            <td>India             </td> <td>17   </td>\n",
       "        </tr>\n",
       "        <tr>\n",
       "            <td>United Kingdom    </td> <td>15   </td>\n",
       "        </tr>\n",
       "        <tr>\n",
       "            <td>Canada            </td> <td>14   </td>\n",
       "        </tr>\n",
       "        <tr>\n",
       "            <td>France            </td> <td>13   </td>\n",
       "        </tr>\n",
       "        <tr>\n",
       "            <td>Brazil            </td> <td>11   </td>\n",
       "        </tr>\n",
       "    </tbody>\n",
       "</table>\n",
       "<p>... (37 rows omitted)</p>"
      ],
      "text/plain": [
       "citizenship        | count\n",
       "United States      | 172\n",
       "China              | 56\n",
       "Germany            | 32\n",
       "Russian Federation | 23\n",
       "Hong Kong          | 20\n",
       "India              | 17\n",
       "United Kingdom     | 15\n",
       "Canada             | 14\n",
       "France             | 13\n",
       "Brazil             | 11\n",
       "... (37 rows omitted)"
      ]
     },
     "execution_count": 37,
     "metadata": {},
     "output_type": "execute_result"
    }
   ],
   "source": [
    "#where do the billionaires hold citizenship?\n",
    "(billionaires.group('citizenship')#).show()\n",
    "             .sort(1, descending=True)) # or .sort('count')\n",
    "             #.barh('citizenship'))"
   ]
  },
  {
   "cell_type": "code",
   "execution_count": 38,
   "metadata": {
    "hideCode": false,
    "hidePrompt": false
   },
   "outputs": [
    {
     "data": {
      "image/png": "[encoded data removed]",
      "text/plain": [
       "<Figure size 432x504 with 1 Axes>"
      ]
     },
     "metadata": {},
     "output_type": "display_data"
    }
   ],
   "source": [
    "(billionaires.group('industry')\n",
    "             .sort(1, descending=True)\n",
    "             .barh('industry'))\n",
    "# in a sentence, describe what you see in the graph below:\n",
    "\n"
   ]
  },
  {
   "cell_type": "code",
   "execution_count": 39,
   "metadata": {
    "hideCode": false,
    "hidePrompt": false
   },
   "outputs": [
    {
     "data": {
      "text/html": [
       "<table border=\"1\" class=\"dataframe\">\n",
       "    <thead>\n",
       "        <tr>\n",
       "            <th>citizenship</th> <th>Commodities</th> <th>Consumer</th> <th>Diversified</th> <th>Energy</th> <th>Entertainment</th> <th>Finance</th> <th>Food & Beverage</th> <th>Health Care</th> <th>Industrial</th> <th>Media & Telecom</th> <th>Real Estate</th> <th>Retail</th> <th>Services</th> <th>Technology</th>\n",
       "        </tr>\n",
       "    </thead>\n",
       "    <tbody>\n",
       "        <tr>\n",
       "            <td>Australia           </td> <td>2          </td> <td>0       </td> <td>0          </td> <td>0     </td> <td>0            </td> <td>0      </td> <td>0              </td> <td>0          </td> <td>1         </td> <td>0              </td> <td>2          </td> <td>0     </td> <td>0       </td> <td>2         </td>\n",
       "        </tr>\n",
       "        <tr>\n",
       "            <td>Austria             </td> <td>0          </td> <td>0       </td> <td>0          </td> <td>0     </td> <td>1            </td> <td>0      </td> <td>1              </td> <td>0          </td> <td>0         </td> <td>0              </td> <td>0          </td> <td>0     </td> <td>0       </td> <td>0         </td>\n",
       "        </tr>\n",
       "        <tr>\n",
       "            <td>Brazil              </td> <td>1          </td> <td>0       </td> <td>0          </td> <td>0     </td> <td>0            </td> <td>5      </td> <td>3              </td> <td>0          </td> <td>1         </td> <td>0              </td> <td>0          </td> <td>0     </td> <td>0       </td> <td>1         </td>\n",
       "        </tr>\n",
       "        <tr>\n",
       "            <td>Canada              </td> <td>1          </td> <td>0       </td> <td>0          </td> <td>1     </td> <td>0            </td> <td>0      </td> <td>1              </td> <td>0          </td> <td>0         </td> <td>7              </td> <td>0          </td> <td>3     </td> <td>0       </td> <td>1         </td>\n",
       "        </tr>\n",
       "        <tr>\n",
       "            <td>Cayman Islands      </td> <td>0          </td> <td>0       </td> <td>0          </td> <td>0     </td> <td>0            </td> <td>1      </td> <td>0              </td> <td>0          </td> <td>0         </td> <td>0              </td> <td>0          </td> <td>0     </td> <td>0       </td> <td>0         </td>\n",
       "        </tr>\n",
       "        <tr>\n",
       "            <td>Chile               </td> <td>1          </td> <td>0       </td> <td>0          </td> <td>0     </td> <td>0            </td> <td>0      </td> <td>0              </td> <td>0          </td> <td>0         </td> <td>0              </td> <td>0          </td> <td>0     </td> <td>0       </td> <td>0         </td>\n",
       "        </tr>\n",
       "        <tr>\n",
       "            <td>China               </td> <td>1          </td> <td>6       </td> <td>2          </td> <td>3     </td> <td>0            </td> <td>1      </td> <td>5              </td> <td>6          </td> <td>4         </td> <td>0              </td> <td>7          </td> <td>2     </td> <td>4       </td> <td>15        </td>\n",
       "        </tr>\n",
       "        <tr>\n",
       "            <td>Colombia            </td> <td>0          </td> <td>0       </td> <td>0          </td> <td>0     </td> <td>0            </td> <td>1      </td> <td>1              </td> <td>0          </td> <td>0         </td> <td>0              </td> <td>0          </td> <td>0     </td> <td>0       </td> <td>0         </td>\n",
       "        </tr>\n",
       "        <tr>\n",
       "            <td>Cyprus              </td> <td>0          </td> <td>0       </td> <td>0          </td> <td>0     </td> <td>0            </td> <td>0      </td> <td>0              </td> <td>0          </td> <td>1         </td> <td>0              </td> <td>0          </td> <td>0     </td> <td>0       </td> <td>0         </td>\n",
       "        </tr>\n",
       "        <tr>\n",
       "            <td>Czech Republic      </td> <td>0          </td> <td>0       </td> <td>1          </td> <td>0     </td> <td>0            </td> <td>0      </td> <td>0              </td> <td>0          </td> <td>0         </td> <td>0              </td> <td>0          </td> <td>0     </td> <td>0       </td> <td>0         </td>\n",
       "        </tr>\n",
       "        <tr>\n",
       "            <td>Denmark             </td> <td>0          </td> <td>4       </td> <td>0          </td> <td>0     </td> <td>0            </td> <td>0      </td> <td>0              </td> <td>1          </td> <td>0         </td> <td>0              </td> <td>0          </td> <td>1     </td> <td>0       </td> <td>0         </td>\n",
       "        </tr>\n",
       "        <tr>\n",
       "            <td>Egypt               </td> <td>0          </td> <td>0       </td> <td>0          </td> <td>0     </td> <td>0            </td> <td>0      </td> <td>0              </td> <td>0          </td> <td>1         </td> <td>1              </td> <td>0          </td> <td>0     </td> <td>0       </td> <td>0         </td>\n",
       "        </tr>\n",
       "        <tr>\n",
       "            <td>Finland             </td> <td>0          </td> <td>0       </td> <td>0          </td> <td>0     </td> <td>0            </td> <td>0      </td> <td>0              </td> <td>0          </td> <td>1         </td> <td>0              </td> <td>0          </td> <td>0     </td> <td>0       </td> <td>0         </td>\n",
       "        </tr>\n",
       "        <tr>\n",
       "            <td>France              </td> <td>0          </td> <td>5       </td> <td>1          </td> <td>0     </td> <td>0            </td> <td>0      </td> <td>3              </td> <td>1          </td> <td>0         </td> <td>1              </td> <td>0          </td> <td>1     </td> <td>0       </td> <td>1         </td>\n",
       "        </tr>\n",
       "        <tr>\n",
       "            <td>Georgia             </td> <td>0          </td> <td>0       </td> <td>1          </td> <td>0     </td> <td>0            </td> <td>0      </td> <td>0              </td> <td>0          </td> <td>0         </td> <td>0              </td> <td>0          </td> <td>0     </td> <td>0       </td> <td>0         </td>\n",
       "        </tr>\n",
       "        <tr>\n",
       "            <td>Germany             </td> <td>0          </td> <td>3       </td> <td>1          </td> <td>1     </td> <td>0            </td> <td>0      </td> <td>2              </td> <td>3          </td> <td>8         </td> <td>2              </td> <td>1          </td> <td>6     </td> <td>0       </td> <td>5         </td>\n",
       "        </tr>\n",
       "        <tr>\n",
       "            <td>Hong Kong           </td> <td>0          </td> <td>0       </td> <td>0          </td> <td>2     </td> <td>3            </td> <td>0      </td> <td>1              </td> <td>1          </td> <td>1         </td> <td>1              </td> <td>10         </td> <td>1     </td> <td>0       </td> <td>0         </td>\n",
       "        </tr>\n",
       "        <tr>\n",
       "            <td>India               </td> <td>3          </td> <td>0       </td> <td>2          </td> <td>1     </td> <td>0            </td> <td>1      </td> <td>0              </td> <td>2          </td> <td>3         </td> <td>1              </td> <td>1          </td> <td>1     </td> <td>0       </td> <td>2         </td>\n",
       "        </tr>\n",
       "        <tr>\n",
       "            <td>Indonesia           </td> <td>0          </td> <td>1       </td> <td>2          </td> <td>1     </td> <td>0            </td> <td>0      </td> <td>0              </td> <td>0          </td> <td>1         </td> <td>0              </td> <td>0          </td> <td>0     </td> <td>0       </td> <td>0         </td>\n",
       "        </tr>\n",
       "        <tr>\n",
       "            <td>Ireland             </td> <td>0          </td> <td>0       </td> <td>0          </td> <td>0     </td> <td>0            </td> <td>1      </td> <td>0              </td> <td>0          </td> <td>1         </td> <td>0              </td> <td>0          </td> <td>0     </td> <td>0       </td> <td>0         </td>\n",
       "        </tr>\n",
       "        <tr>\n",
       "            <td>Isle of Man         </td> <td>0          </td> <td>0       </td> <td>0          </td> <td>0     </td> <td>1            </td> <td>0      </td> <td>0              </td> <td>0          </td> <td>0         </td> <td>0              </td> <td>0          </td> <td>0     </td> <td>0       </td> <td>0         </td>\n",
       "        </tr>\n",
       "        <tr>\n",
       "            <td>Israel              </td> <td>0          </td> <td>0       </td> <td>2          </td> <td>0     </td> <td>0            </td> <td>0      </td> <td>0              </td> <td>0          </td> <td>0         </td> <td>0              </td> <td>0          </td> <td>0     </td> <td>1       </td> <td>0         </td>\n",
       "        </tr>\n",
       "        <tr>\n",
       "            <td>Italy               </td> <td>1          </td> <td>2       </td> <td>0          </td> <td>0     </td> <td>0            </td> <td>0      </td> <td>1              </td> <td>0          </td> <td>0         </td> <td>1              </td> <td>0          </td> <td>0     </td> <td>0       </td> <td>0         </td>\n",
       "        </tr>\n",
       "        <tr>\n",
       "            <td>Japan               </td> <td>0          </td> <td>1       </td> <td>0          </td> <td>0     </td> <td>0            </td> <td>0      </td> <td>0              </td> <td>0          </td> <td>1         </td> <td>1              </td> <td>0          </td> <td>2     </td> <td>0       </td> <td>2         </td>\n",
       "        </tr>\n",
       "        <tr>\n",
       "            <td>Korea, Republic of  </td> <td>0          </td> <td>1       </td> <td>2          </td> <td>0     </td> <td>0            </td> <td>0      </td> <td>0              </td> <td>1          </td> <td>1         </td> <td>0              </td> <td>0          </td> <td>0     </td> <td>0       </td> <td>1         </td>\n",
       "        </tr>\n",
       "        <tr>\n",
       "            <td>Malaysia            </td> <td>0          </td> <td>0       </td> <td>3          </td> <td>0     </td> <td>1            </td> <td>1      </td> <td>0              </td> <td>0          </td> <td>0         </td> <td>0              </td> <td>0          </td> <td>0     </td> <td>0       </td> <td>0         </td>\n",
       "        </tr>\n",
       "        <tr>\n",
       "            <td>Mexico              </td> <td>2          </td> <td>0       </td> <td>2          </td> <td>0     </td> <td>0            </td> <td>0      </td> <td>1              </td> <td>0          </td> <td>0         </td> <td>0              </td> <td>0          </td> <td>0     </td> <td>0       </td> <td>0         </td>\n",
       "        </tr>\n",
       "        <tr>\n",
       "            <td>Monaco              </td> <td>0          </td> <td>0       </td> <td>0          </td> <td>0     </td> <td>0            </td> <td>0      </td> <td>0              </td> <td>0          </td> <td>0         </td> <td>0              </td> <td>0          </td> <td>1     </td> <td>0       </td> <td>0         </td>\n",
       "        </tr>\n",
       "        <tr>\n",
       "            <td>Netherlands         </td> <td>0          </td> <td>0       </td> <td>0          </td> <td>0     </td> <td>0            </td> <td>0      </td> <td>1              </td> <td>0          </td> <td>0         </td> <td>0              </td> <td>0          </td> <td>1     </td> <td>0       </td> <td>0         </td>\n",
       "        </tr>\n",
       "        <tr>\n",
       "            <td>New Zealand         </td> <td>0          </td> <td>0       </td> <td>0          </td> <td>0     </td> <td>0            </td> <td>1      </td> <td>0              </td> <td>0          </td> <td>0         </td> <td>0              </td> <td>0          </td> <td>0     </td> <td>0       </td> <td>0         </td>\n",
       "        </tr>\n",
       "        <tr>\n",
       "            <td>Nigeria             </td> <td>0          </td> <td>0       </td> <td>0          </td> <td>0     </td> <td>0            </td> <td>0      </td> <td>0              </td> <td>0          </td> <td>1         </td> <td>1              </td> <td>0          </td> <td>0     </td> <td>0       </td> <td>0         </td>\n",
       "        </tr>\n",
       "        <tr>\n",
       "            <td>Norway              </td> <td>0          </td> <td>1       </td> <td>0          </td> <td>0     </td> <td>0            </td> <td>0      </td> <td>1              </td> <td>0          </td> <td>0         </td> <td>0              </td> <td>1          </td> <td>1     </td> <td>0       </td> <td>0         </td>\n",
       "        </tr>\n",
       "        <tr>\n",
       "            <td>Philippines         </td> <td>0          </td> <td>0       </td> <td>1          </td> <td>0     </td> <td>0            </td> <td>0      </td> <td>0              </td> <td>0          </td> <td>0         </td> <td>0              </td> <td>0          </td> <td>0     </td> <td>1       </td> <td>0         </td>\n",
       "        </tr>\n",
       "        <tr>\n",
       "            <td>Russian Federation  </td> <td>3          </td> <td>0       </td> <td>9          </td> <td>3     </td> <td>0            </td> <td>0      </td> <td>0              </td> <td>0          </td> <td>8         </td> <td>0              </td> <td>0          </td> <td>0     </td> <td>0       </td> <td>0         </td>\n",
       "        </tr>\n",
       "        <tr>\n",
       "            <td>Saudi Arabia        </td> <td>0          </td> <td>1       </td> <td>1          </td> <td>1     </td> <td>0            </td> <td>0      </td> <td>0              </td> <td>0          </td> <td>0         </td> <td>0              </td> <td>0          </td> <td>1     </td> <td>0       </td> <td>0         </td>\n",
       "        </tr>\n",
       "        <tr>\n",
       "            <td>Singapore           </td> <td>0          </td> <td>0       </td> <td>0          </td> <td>0     </td> <td>0            </td> <td>1      </td> <td>2              </td> <td>1          </td> <td>1         </td> <td>0              </td> <td>3          </td> <td>0     </td> <td>0       </td> <td>0         </td>\n",
       "        </tr>\n",
       "        <tr>\n",
       "            <td>South Africa        </td> <td>0          </td> <td>0       </td> <td>2          </td> <td>0     </td> <td>0            </td> <td>0      </td> <td>1              </td> <td>0          </td> <td>0         </td> <td>0              </td> <td>0          </td> <td>0     </td> <td>0       </td> <td>0         </td>\n",
       "        </tr>\n",
       "        <tr>\n",
       "            <td>Spain               </td> <td>0          </td> <td>0       </td> <td>0          </td> <td>0     </td> <td>0            </td> <td>0      </td> <td>0              </td> <td>0          </td> <td>1         </td> <td>0              </td> <td>0          </td> <td>2     </td> <td>0       </td> <td>0         </td>\n",
       "        </tr>\n",
       "        <tr>\n",
       "            <td>Sweden              </td> <td>0          </td> <td>0       </td> <td>3          </td> <td>0     </td> <td>0            </td> <td>0      </td> <td>0              </td> <td>1          </td> <td>1         </td> <td>0              </td> <td>1          </td> <td>1     </td> <td>3       </td> <td>0         </td>\n",
       "        </tr>\n",
       "        <tr>\n",
       "            <td>Switzerland         </td> <td>0          </td> <td>0       </td> <td>2          </td> <td>0     </td> <td>0            </td> <td>0      </td> <td>0              </td> <td>4          </td> <td>3         </td> <td>0              </td> <td>0          </td> <td>0     </td> <td>1       </td> <td>0         </td>\n",
       "        </tr>\n",
       "        <tr>\n",
       "            <td>Taiwan              </td> <td>0          </td> <td>0       </td> <td>0          </td> <td>0     </td> <td>0            </td> <td>0      </td> <td>1              </td> <td>0          </td> <td>1         </td> <td>0              </td> <td>0          </td> <td>0     </td> <td>0       </td> <td>1         </td>\n",
       "        </tr>\n",
       "        <tr>\n",
       "            <td>Thailand            </td> <td>0          </td> <td>0       </td> <td>3          </td> <td>1     </td> <td>0            </td> <td>0      </td> <td>1              </td> <td>0          </td> <td>0         </td> <td>0              </td> <td>0          </td> <td>1     </td> <td>0       </td> <td>0         </td>\n",
       "        </tr>\n",
       "        <tr>\n",
       "            <td>Ukraine             </td> <td>0          </td> <td>0       </td> <td>0          </td> <td>0     </td> <td>0            </td> <td>0      </td> <td>0              </td> <td>0          </td> <td>1         </td> <td>0              </td> <td>0          </td> <td>0     </td> <td>0       </td> <td>0         </td>\n",
       "        </tr>\n",
       "        <tr>\n",
       "            <td>United Arab Emirates</td> <td>0          </td> <td>0       </td> <td>0          </td> <td>0     </td> <td>0            </td> <td>0      </td> <td>1              </td> <td>0          </td> <td>0         </td> <td>0              </td> <td>1          </td> <td>0     </td> <td>0       </td> <td>0         </td>\n",
       "        </tr>\n",
       "        <tr>\n",
       "            <td>United Kingdom      </td> <td>0          </td> <td>2       </td> <td>4          </td> <td>0     </td> <td>2            </td> <td>0      </td> <td>0              </td> <td>0          </td> <td>4         </td> <td>0              </td> <td>2          </td> <td>1     </td> <td>0       </td> <td>0         </td>\n",
       "        </tr>\n",
       "        <tr>\n",
       "            <td>United States       </td> <td>3          </td> <td>14      </td> <td>8          </td> <td>16    </td> <td>9            </td> <td>28     </td> <td>12             </td> <td>6          </td> <td>4         </td> <td>12             </td> <td>12         </td> <td>14    </td> <td>2       </td> <td>32        </td>\n",
       "        </tr>\n",
       "        <tr>\n",
       "            <td>Viet Nam            </td> <td>0          </td> <td>0       </td> <td>0          </td> <td>0     </td> <td>0            </td> <td>0      </td> <td>0              </td> <td>0          </td> <td>0         </td> <td>0              </td> <td>1          </td> <td>0     </td> <td>0       </td> <td>0         </td>\n",
       "        </tr>\n",
       "    </tbody>\n",
       "</table>"
      ],
      "text/plain": [
       "<IPython.core.display.HTML object>"
      ]
     },
     "metadata": {},
     "output_type": "display_data"
    }
   ],
   "source": [
    "billionaires.pivot('industry', 'citizenship').show()"
   ]
  },
  {
   "cell_type": "code",
   "execution_count": 45,
   "metadata": {},
   "outputs": [
    {
     "data": {
      "text/html": [
       "<table border=\"1\" class=\"dataframe\">\n",
       "    <thead>\n",
       "        <tr>\n",
       "            <th>industry</th> <th>citizenship</th> <th>count</th>\n",
       "        </tr>\n",
       "    </thead>\n",
       "    <tbody>\n",
       "        <tr>\n",
       "            <td>Finance        </td> <td>Colombia   </td> <td>1    </td>\n",
       "        </tr>\n",
       "        <tr>\n",
       "            <td>Food & Beverage</td> <td>Colombia   </td> <td>1    </td>\n",
       "        </tr>\n",
       "    </tbody>\n",
       "</table>"
      ],
      "text/plain": [
       "industry        | citizenship | count\n",
       "Finance         | Colombia    | 1\n",
       "Food & Beverage | Colombia    | 1"
      ]
     },
     "execution_count": 45,
     "metadata": {},
     "output_type": "execute_result"
    }
   ],
   "source": [
    "billionaires.group(['industry', 'citizenship']).where('citizenship','Colombia')"
   ]
  },
  {
   "cell_type": "code",
   "execution_count": 42,
   "metadata": {
    "hideCode": false,
    "hidePrompt": false
   },
   "outputs": [
    {
     "data": {
      "text/html": [
       "<table border=\"1\" class=\"dataframe\">\n",
       "    <thead>\n",
       "        <tr>\n",
       "            <th>Continent</th> <th>Country</th>\n",
       "        </tr>\n",
       "    </thead>\n",
       "    <tbody>\n",
       "        <tr>\n",
       "            <td>Africa   </td> <td>Algeria                 </td>\n",
       "        </tr>\n",
       "        <tr>\n",
       "            <td>Africa   </td> <td>Angola                  </td>\n",
       "        </tr>\n",
       "        <tr>\n",
       "            <td>Africa   </td> <td>Benin                   </td>\n",
       "        </tr>\n",
       "        <tr>\n",
       "            <td>Africa   </td> <td>Botswana                </td>\n",
       "        </tr>\n",
       "        <tr>\n",
       "            <td>Africa   </td> <td>Burkina                 </td>\n",
       "        </tr>\n",
       "        <tr>\n",
       "            <td>Africa   </td> <td>Burundi                 </td>\n",
       "        </tr>\n",
       "        <tr>\n",
       "            <td>Africa   </td> <td>Cameroon                </td>\n",
       "        </tr>\n",
       "        <tr>\n",
       "            <td>Africa   </td> <td>Cape Verde              </td>\n",
       "        </tr>\n",
       "        <tr>\n",
       "            <td>Africa   </td> <td>Central African Republic</td>\n",
       "        </tr>\n",
       "        <tr>\n",
       "            <td>Africa   </td> <td>Chad                    </td>\n",
       "        </tr>\n",
       "    </tbody>\n",
       "</table>\n",
       "<p>... (188 rows omitted)</p>"
      ],
      "text/plain": [
       "Continent | Country\n",
       "Africa    | Algeria\n",
       "Africa    | Angola\n",
       "Africa    | Benin\n",
       "Africa    | Botswana\n",
       "Africa    | Burkina\n",
       "Africa    | Burundi\n",
       "Africa    | Cameroon\n",
       "Africa    | Cape Verde\n",
       "Africa    | Central African Republic\n",
       "Africa    | Chad\n",
       "... (188 rows omitted)"
      ]
     },
     "execution_count": 42,
     "metadata": {},
     "output_type": "execute_result"
    }
   ],
   "source": [
    "countries = Table.read_table('data/countries.csv')\n",
    "countries"
   ]
  },
  {
   "cell_type": "code",
   "execution_count": 46,
   "metadata": {
    "hideCode": false,
    "hidePrompt": false
   },
   "outputs": [
    {
     "data": {
      "text/html": [
       "<table border=\"1\" class=\"dataframe\">\n",
       "    <thead>\n",
       "        <tr>\n",
       "            <th>Continent</th> <th>Country</th>\n",
       "        </tr>\n",
       "    </thead>\n",
       "    <tbody>\n",
       "        <tr>\n",
       "            <td>North America</td> <td>Antigua and Barbuda</td>\n",
       "        </tr>\n",
       "        <tr>\n",
       "            <td>North America</td> <td>Bahamas            </td>\n",
       "        </tr>\n",
       "        <tr>\n",
       "            <td>North America</td> <td>Barbados           </td>\n",
       "        </tr>\n",
       "        <tr>\n",
       "            <td>North America</td> <td>Belize             </td>\n",
       "        </tr>\n",
       "        <tr>\n",
       "            <td>North America</td> <td>Canada             </td>\n",
       "        </tr>\n",
       "        <tr>\n",
       "            <td>North America</td> <td>Cayman Islands     </td>\n",
       "        </tr>\n",
       "        <tr>\n",
       "            <td>North America</td> <td>Costa Rica         </td>\n",
       "        </tr>\n",
       "        <tr>\n",
       "            <td>North America</td> <td>Cuba               </td>\n",
       "        </tr>\n",
       "        <tr>\n",
       "            <td>North America</td> <td>Dominica           </td>\n",
       "        </tr>\n",
       "        <tr>\n",
       "            <td>North America</td> <td>Dominican Republic </td>\n",
       "        </tr>\n",
       "    </tbody>\n",
       "</table>\n",
       "<p>... (14 rows omitted)</p>"
      ],
      "text/plain": [
       "Continent     | Country\n",
       "North America | Antigua and Barbuda\n",
       "North America | Bahamas\n",
       "North America | Barbados\n",
       "North America | Belize\n",
       "North America | Canada\n",
       "North America | Cayman Islands\n",
       "North America | Costa Rica\n",
       "North America | Cuba\n",
       "North America | Dominica\n",
       "North America | Dominican Republic\n",
       "... (14 rows omitted)"
      ]
     },
     "execution_count": 46,
     "metadata": {},
     "output_type": "execute_result"
    }
   ],
   "source": [
    "countries.where('Continent', 'North America')"
   ]
  },
  {
   "cell_type": "code",
   "execution_count": 53,
   "metadata": {
    "hideCode": false,
    "hidePrompt": false
   },
   "outputs": [
    {
     "data": {
      "text/html": [
       "<table border=\"1\" class=\"dataframe\">\n",
       "    <thead>\n",
       "        <tr>\n",
       "            <th>citizenship</th> <th>name</th> <th>net worth</th> <th>industry</th> <th>Continent</th> <th>Continent_6</th>\n",
       "        </tr>\n",
       "    </thead>\n",
       "    <tbody>\n",
       "        <tr>\n",
       "            <td>Australia  </td> <td>Gina Rinehart      </td> <td>19984845036</td> <td>Commodities    </td> <td>Oceania      </td> <td>Oceania      </td>\n",
       "        </tr>\n",
       "        <tr>\n",
       "            <td>Australia  </td> <td>Andrew Forrest     </td> <td>10221458789</td> <td>Commodities    </td> <td>Oceania      </td> <td>Oceania      </td>\n",
       "        </tr>\n",
       "        <tr>\n",
       "            <td>Australia  </td> <td>Harry Triguboff    </td> <td>9467000000 </td> <td>Real Estate    </td> <td>Oceania      </td> <td>Oceania      </td>\n",
       "        </tr>\n",
       "        <tr>\n",
       "            <td>Australia  </td> <td>Scott Farquhar     </td> <td>9335988154 </td> <td>Technology     </td> <td>Oceania      </td> <td>Oceania      </td>\n",
       "        </tr>\n",
       "        <tr>\n",
       "            <td>Australia  </td> <td>Mike Cannon-Brookes</td> <td>9335988154 </td> <td>Technology     </td> <td>Oceania      </td> <td>Oceania      </td>\n",
       "        </tr>\n",
       "        <tr>\n",
       "            <td>Australia  </td> <td>Frank Lowy         </td> <td>6655432824 </td> <td>Real Estate    </td> <td>Oceania      </td> <td>Oceania      </td>\n",
       "        </tr>\n",
       "        <tr>\n",
       "            <td>Australia  </td> <td>Anthony Pratt      </td> <td>6566000000 </td> <td>Industrial     </td> <td>Oceania      </td> <td>Oceania      </td>\n",
       "        </tr>\n",
       "        <tr>\n",
       "            <td>Austria    </td> <td>Dietrich Mateschitz</td> <td>12251315379</td> <td>Food & Beverage</td> <td>Europe       </td> <td>Europe       </td>\n",
       "        </tr>\n",
       "        <tr>\n",
       "            <td>Austria    </td> <td>Johann Graf        </td> <td>6509183360 </td> <td>Entertainment  </td> <td>Europe       </td> <td>Europe       </td>\n",
       "        </tr>\n",
       "        <tr>\n",
       "            <td>Brazil     </td> <td>Jorge Paulo Lemann </td> <td>23056345424</td> <td>Food & Beverage</td> <td>South America</td> <td>South America</td>\n",
       "        </tr>\n",
       "    </tbody>\n",
       "</table>\n",
       "<p>... (490 rows omitted)</p>"
      ],
      "text/plain": [
       "citizenship | name                | net worth   | industry        | Continent     | Continent_6\n",
       "Australia   | Gina Rinehart       | 19984845036 | Commodities     | Oceania       | Oceania\n",
       "Australia   | Andrew Forrest      | 10221458789 | Commodities     | Oceania       | Oceania\n",
       "Australia   | Harry Triguboff     | 9467000000  | Real Estate     | Oceania       | Oceania\n",
       "Australia   | Scott Farquhar      | 9335988154  | Technology      | Oceania       | Oceania\n",
       "Australia   | Mike Cannon-Brookes | 9335988154  | Technology      | Oceania       | Oceania\n",
       "Australia   | Frank Lowy          | 6655432824  | Real Estate     | Oceania       | Oceania\n",
       "Australia   | Anthony Pratt       | 6566000000  | Industrial      | Oceania       | Oceania\n",
       "Austria     | Dietrich Mateschitz | 12251315379 | Food & Beverage | Europe        | Europe\n",
       "Austria     | Johann Graf         | 6509183360  | Entertainment   | Europe        | Europe\n",
       "Brazil      | Jorge Paulo Lemann  | 23056345424 | Food & Beverage | South America | South America\n",
       "... (490 rows omitted)"
      ]
     },
     "execution_count": 53,
     "metadata": {},
     "output_type": "execute_result"
    }
   ],
   "source": [
    "billionaires = billionaires.join('citizenship', countries, 'Country')\n"
   ]
  },
  {
   "cell_type": "code",
   "execution_count": 57,
   "metadata": {},
   "outputs": [],
   "source": [
    "billionaires = billionaires.drop(5,6,7,8,9)\n"
   ]
  },
  {
   "cell_type": "code",
   "execution_count": 58,
   "metadata": {},
   "outputs": [
    {
     "data": {
      "text/html": [
       "<table border=\"1\" class=\"dataframe\">\n",
       "    <thead>\n",
       "        <tr>\n",
       "            <th>citizenship</th> <th>name</th> <th>net worth</th> <th>industry</th> <th>Continent</th>\n",
       "        </tr>\n",
       "    </thead>\n",
       "    <tbody>\n",
       "        <tr>\n",
       "            <td>Australia  </td> <td>Gina Rinehart      </td> <td>19984845036</td> <td>Commodities    </td> <td>Oceania      </td>\n",
       "        </tr>\n",
       "        <tr>\n",
       "            <td>Australia  </td> <td>Andrew Forrest     </td> <td>10221458789</td> <td>Commodities    </td> <td>Oceania      </td>\n",
       "        </tr>\n",
       "        <tr>\n",
       "            <td>Australia  </td> <td>Harry Triguboff    </td> <td>9467000000 </td> <td>Real Estate    </td> <td>Oceania      </td>\n",
       "        </tr>\n",
       "        <tr>\n",
       "            <td>Australia  </td> <td>Scott Farquhar     </td> <td>9335988154 </td> <td>Technology     </td> <td>Oceania      </td>\n",
       "        </tr>\n",
       "        <tr>\n",
       "            <td>Australia  </td> <td>Mike Cannon-Brookes</td> <td>9335988154 </td> <td>Technology     </td> <td>Oceania      </td>\n",
       "        </tr>\n",
       "        <tr>\n",
       "            <td>Australia  </td> <td>Frank Lowy         </td> <td>6655432824 </td> <td>Real Estate    </td> <td>Oceania      </td>\n",
       "        </tr>\n",
       "        <tr>\n",
       "            <td>Australia  </td> <td>Anthony Pratt      </td> <td>6566000000 </td> <td>Industrial     </td> <td>Oceania      </td>\n",
       "        </tr>\n",
       "        <tr>\n",
       "            <td>Austria    </td> <td>Dietrich Mateschitz</td> <td>12251315379</td> <td>Food & Beverage</td> <td>Europe       </td>\n",
       "        </tr>\n",
       "        <tr>\n",
       "            <td>Austria    </td> <td>Johann Graf        </td> <td>6509183360 </td> <td>Entertainment  </td> <td>Europe       </td>\n",
       "        </tr>\n",
       "        <tr>\n",
       "            <td>Brazil     </td> <td>Jorge Paulo Lemann </td> <td>23056345424</td> <td>Food & Beverage</td> <td>South America</td>\n",
       "        </tr>\n",
       "    </tbody>\n",
       "</table>\n",
       "<p>... (490 rows omitted)</p>"
      ],
      "text/plain": [
       "citizenship | name                | net worth   | industry        | Continent\n",
       "Australia   | Gina Rinehart       | 19984845036 | Commodities     | Oceania\n",
       "Australia   | Andrew Forrest      | 10221458789 | Commodities     | Oceania\n",
       "Australia   | Harry Triguboff     | 9467000000  | Real Estate     | Oceania\n",
       "Australia   | Scott Farquhar      | 9335988154  | Technology      | Oceania\n",
       "Australia   | Mike Cannon-Brookes | 9335988154  | Technology      | Oceania\n",
       "Australia   | Frank Lowy          | 6655432824  | Real Estate     | Oceania\n",
       "Australia   | Anthony Pratt       | 6566000000  | Industrial      | Oceania\n",
       "Austria     | Dietrich Mateschitz | 12251315379 | Food & Beverage | Europe\n",
       "Austria     | Johann Graf         | 6509183360  | Entertainment   | Europe\n",
       "Brazil      | Jorge Paulo Lemann  | 23056345424 | Food & Beverage | South America\n",
       "... (490 rows omitted)"
      ]
     },
     "execution_count": 58,
     "metadata": {},
     "output_type": "execute_result"
    }
   ],
   "source": [
    "billionaires"
   ]
  },
  {
   "cell_type": "code",
   "execution_count": 59,
   "metadata": {
    "hideCode": false,
    "hidePrompt": false
   },
   "outputs": [
    {
     "data": {
      "text/html": [
       "<table border=\"1\" class=\"dataframe\">\n",
       "    <thead>\n",
       "        <tr>\n",
       "            <th>Continent</th> <th>Commodities</th> <th>Consumer</th> <th>Diversified</th> <th>Energy</th> <th>Entertainment</th> <th>Finance</th> <th>Food & Beverage</th> <th>Health Care</th> <th>Industrial</th> <th>Media & Telecom</th> <th>Real Estate</th> <th>Retail</th> <th>Services</th> <th>Technology</th>\n",
       "        </tr>\n",
       "    </thead>\n",
       "    <tbody>\n",
       "        <tr>\n",
       "            <td>Africa       </td> <td>0          </td> <td>0       </td> <td>2          </td> <td>0     </td> <td>0            </td> <td>0      </td> <td>1              </td> <td>0          </td> <td>2         </td> <td>2              </td> <td>0          </td> <td>0     </td> <td>0       </td> <td>0         </td>\n",
       "        </tr>\n",
       "        <tr>\n",
       "            <td>Asia         </td> <td>7          </td> <td>10      </td> <td>27         </td> <td>12    </td> <td>4            </td> <td>4      </td> <td>11             </td> <td>11         </td> <td>21        </td> <td>3              </td> <td>23         </td> <td>8     </td> <td>6       </td> <td>21        </td>\n",
       "        </tr>\n",
       "        <tr>\n",
       "            <td>Europe       </td> <td>1          </td> <td>17      </td> <td>13         </td> <td>1     </td> <td>4            </td> <td>1      </td> <td>9              </td> <td>10         </td> <td>21        </td> <td>4              </td> <td>5          </td> <td>15    </td> <td>4       </td> <td>6         </td>\n",
       "        </tr>\n",
       "        <tr>\n",
       "            <td>North America</td> <td>6          </td> <td>14      </td> <td>10         </td> <td>17    </td> <td>9            </td> <td>29     </td> <td>14             </td> <td>6          </td> <td>4         </td> <td>19             </td> <td>12         </td> <td>17    </td> <td>2       </td> <td>33        </td>\n",
       "        </tr>\n",
       "        <tr>\n",
       "            <td>Oceania      </td> <td>2          </td> <td>0       </td> <td>0          </td> <td>0     </td> <td>0            </td> <td>1      </td> <td>0              </td> <td>0          </td> <td>1         </td> <td>0              </td> <td>2          </td> <td>0     </td> <td>0       </td> <td>2         </td>\n",
       "        </tr>\n",
       "        <tr>\n",
       "            <td>South America</td> <td>2          </td> <td>0       </td> <td>0          </td> <td>0     </td> <td>0            </td> <td>6      </td> <td>4              </td> <td>0          </td> <td>1         </td> <td>0              </td> <td>0          </td> <td>0     </td> <td>0       </td> <td>1         </td>\n",
       "        </tr>\n",
       "    </tbody>\n",
       "</table>"
      ],
      "text/plain": [
       "Continent     | Commodities | Consumer | Diversified | Energy | Entertainment | Finance | Food & Beverage | Health Care | Industrial | Media & Telecom | Real Estate | Retail | Services | Technology\n",
       "Africa        | 0           | 0        | 2           | 0      | 0             | 0       | 1               | 0           | 2          | 2               | 0           | 0      | 0        | 0\n",
       "Asia          | 7           | 10       | 27          | 12     | 4             | 4       | 11              | 11          | 21         | 3               | 23          | 8      | 6        | 21\n",
       "Europe        | 1           | 17       | 13          | 1      | 4             | 1       | 9               | 10          | 21         | 4               | 5           | 15     | 4        | 6\n",
       "North America | 6           | 14       | 10          | 17     | 9             | 29      | 14              | 6           | 4          | 19              | 12          | 17     | 2        | 33\n",
       "Oceania       | 2           | 0        | 0           | 0      | 0             | 1       | 0               | 0           | 1          | 0               | 2           | 0      | 0        | 2\n",
       "South America | 2           | 0        | 0           | 0      | 0             | 6       | 4               | 0           | 1          | 0               | 0           | 0      | 0        | 1"
      ]
     },
     "execution_count": 59,
     "metadata": {},
     "output_type": "execute_result"
    }
   ],
   "source": [
    "billionaires.pivot('industry', 'Continent')"
   ]
  },
  {
   "cell_type": "code",
   "execution_count": 60,
   "metadata": {},
   "outputs": [
    {
     "data": {
      "text/html": [
       "<table border=\"1\" class=\"dataframe\">\n",
       "    <thead>\n",
       "        <tr>\n",
       "            <th>industry</th> <th>Africa</th> <th>Asia</th> <th>Europe</th> <th>North America</th> <th>Oceania</th> <th>South America</th>\n",
       "        </tr>\n",
       "    </thead>\n",
       "    <tbody>\n",
       "        <tr>\n",
       "            <td>Commodities    </td> <td>0     </td> <td>7   </td> <td>1     </td> <td>6            </td> <td>2      </td> <td>2            </td>\n",
       "        </tr>\n",
       "        <tr>\n",
       "            <td>Consumer       </td> <td>0     </td> <td>10  </td> <td>17    </td> <td>14           </td> <td>0      </td> <td>0            </td>\n",
       "        </tr>\n",
       "        <tr>\n",
       "            <td>Diversified    </td> <td>2     </td> <td>27  </td> <td>13    </td> <td>10           </td> <td>0      </td> <td>0            </td>\n",
       "        </tr>\n",
       "        <tr>\n",
       "            <td>Energy         </td> <td>0     </td> <td>12  </td> <td>1     </td> <td>17           </td> <td>0      </td> <td>0            </td>\n",
       "        </tr>\n",
       "        <tr>\n",
       "            <td>Entertainment  </td> <td>0     </td> <td>4   </td> <td>4     </td> <td>9            </td> <td>0      </td> <td>0            </td>\n",
       "        </tr>\n",
       "        <tr>\n",
       "            <td>Finance        </td> <td>0     </td> <td>4   </td> <td>1     </td> <td>29           </td> <td>1      </td> <td>6            </td>\n",
       "        </tr>\n",
       "        <tr>\n",
       "            <td>Food & Beverage</td> <td>1     </td> <td>11  </td> <td>9     </td> <td>14           </td> <td>0      </td> <td>4            </td>\n",
       "        </tr>\n",
       "        <tr>\n",
       "            <td>Health Care    </td> <td>0     </td> <td>11  </td> <td>10    </td> <td>6            </td> <td>0      </td> <td>0            </td>\n",
       "        </tr>\n",
       "        <tr>\n",
       "            <td>Industrial     </td> <td>2     </td> <td>21  </td> <td>21    </td> <td>4            </td> <td>1      </td> <td>1            </td>\n",
       "        </tr>\n",
       "        <tr>\n",
       "            <td>Media & Telecom</td> <td>2     </td> <td>3   </td> <td>4     </td> <td>19           </td> <td>0      </td> <td>0            </td>\n",
       "        </tr>\n",
       "    </tbody>\n",
       "</table>\n",
       "<p>... (4 rows omitted)</p>"
      ],
      "text/plain": [
       "industry        | Africa | Asia | Europe | North America | Oceania | South America\n",
       "Commodities     | 0      | 7    | 1      | 6             | 2       | 2\n",
       "Consumer        | 0      | 10   | 17     | 14            | 0       | 0\n",
       "Diversified     | 2      | 27   | 13     | 10            | 0       | 0\n",
       "Energy          | 0      | 12   | 1      | 17            | 0       | 0\n",
       "Entertainment   | 0      | 4    | 4      | 9             | 0       | 0\n",
       "Finance         | 0      | 4    | 1      | 29            | 1       | 6\n",
       "Food & Beverage | 1      | 11   | 9      | 14            | 0       | 4\n",
       "Health Care     | 0      | 11   | 10     | 6             | 0       | 0\n",
       "Industrial      | 2      | 21   | 21     | 4             | 1       | 1\n",
       "Media & Telecom | 2      | 3    | 4      | 19            | 0       | 0\n",
       "... (4 rows omitted)"
      ]
     },
     "execution_count": 60,
     "metadata": {},
     "output_type": "execute_result"
    }
   ],
   "source": [
    "billionaires.pivot('Continent','industry')"
   ]
  },
  {
   "cell_type": "code",
   "execution_count": 61,
   "metadata": {
    "hideCode": false,
    "hidePrompt": false
   },
   "outputs": [
    {
     "data": {
      "text/html": [
       "<table border=\"1\" class=\"dataframe\">\n",
       "    <thead>\n",
       "        <tr>\n",
       "            <th>company</th> <th>ceo</th> <th>party</th> <th>amount</th>\n",
       "        </tr>\n",
       "    </thead>\n",
       "    <tbody>\n",
       "        <tr>\n",
       "            <td>3M Co          </td> <td>Bob Ulrich      </td> <td>200  </td> <td>8500   </td>\n",
       "        </tr>\n",
       "        <tr>\n",
       "            <td>3M Co          </td> <td>Linda Alvarado  </td> <td>100  </td> <td>11244.6</td>\n",
       "        </tr>\n",
       "        <tr>\n",
       "            <td>3M Co          </td> <td>Robert Ulrich   </td> <td>200  </td> <td>591450 </td>\n",
       "        </tr>\n",
       "        <tr>\n",
       "            <td>AES Corporation</td> <td>Andres Gluski   </td> <td>100  </td> <td>6000   </td>\n",
       "        </tr>\n",
       "        <tr>\n",
       "            <td>AES Corporation</td> <td>Charles Rossotti</td> <td>100  </td> <td>2500   </td>\n",
       "        </tr>\n",
       "        <tr>\n",
       "            <td>AES Corporation</td> <td>Charles Rossotti</td> <td>200  </td> <td>1000   </td>\n",
       "        </tr>\n",
       "        <tr>\n",
       "            <td>AES Corporation</td> <td>John Koskinen   </td> <td>100  </td> <td>19000  </td>\n",
       "        </tr>\n",
       "        <tr>\n",
       "            <td>AES Corporation</td> <td>Kristina Johnson</td> <td>100  </td> <td>28480  </td>\n",
       "        </tr>\n",
       "        <tr>\n",
       "            <td>AES Corporation</td> <td>Philip Lader    </td> <td>100  </td> <td>2500   </td>\n",
       "        </tr>\n",
       "        <tr>\n",
       "            <td>AES Corporation</td> <td>Philip Odeen    </td> <td>100  </td> <td>750    </td>\n",
       "        </tr>\n",
       "    </tbody>\n",
       "</table>\n",
       "<p>... (4677 rows omitted)</p>"
      ],
      "text/plain": [
       "company         | ceo              | party | amount\n",
       "3M Co           | Bob Ulrich       | 200   | 8500\n",
       "3M Co           | Linda Alvarado   | 100   | 11244.6\n",
       "3M Co           | Robert Ulrich    | 200   | 591450\n",
       "AES Corporation | Andres Gluski    | 100   | 6000\n",
       "AES Corporation | Charles Rossotti | 100   | 2500\n",
       "AES Corporation | Charles Rossotti | 200   | 1000\n",
       "AES Corporation | John Koskinen    | 100   | 19000\n",
       "AES Corporation | Kristina Johnson | 100   | 28480\n",
       "AES Corporation | Philip Lader     | 100   | 2500\n",
       "AES Corporation | Philip Odeen     | 100   | 750\n",
       "... (4677 rows omitted)"
      ]
     },
     "execution_count": 61,
     "metadata": {},
     "output_type": "execute_result"
    }
   ],
   "source": [
    "ceos = Table.read_table('data/ceo.csv')\n",
    "ceos"
   ]
  },
  {
   "cell_type": "code",
   "execution_count": 62,
   "metadata": {
    "hideCode": false,
    "hidePrompt": false
   },
   "outputs": [
    {
     "data": {
      "image/png": "[encoded data removed]",
      "text/plain": [
       "<Figure size 432x288 with 1 Axes>"
      ]
     },
     "metadata": {},
     "output_type": "display_data"
    }
   ],
   "source": [
    "ceos.hist('amount')"
   ]
  },
  {
   "cell_type": "code",
   "execution_count": 63,
   "metadata": {
    "hideCode": false,
    "hidePrompt": false
   },
   "outputs": [
    {
     "data": {
      "text/html": [
       "<table border=\"1\" class=\"dataframe\">\n",
       "    <thead>\n",
       "        <tr>\n",
       "            <th>company</th> <th>ceo</th> <th>party</th> <th>amount</th>\n",
       "        </tr>\n",
       "    </thead>\n",
       "    <tbody>\n",
       "        <tr>\n",
       "            <td>Hewlett-Packard Co </td> <td>Margaret Whitman </td> <td>200  </td> <td>1.25273e+08</td>\n",
       "        </tr>\n",
       "        <tr>\n",
       "            <td>Caterpillar Inc    </td> <td>Jon Huntsman     </td> <td>200  </td> <td>1.27686e+07</td>\n",
       "        </tr>\n",
       "        <tr>\n",
       "            <td>Las Vegas Sands    </td> <td>Sheldon Adelson  </td> <td>200  </td> <td>6.20425e+06</td>\n",
       "        </tr>\n",
       "        <tr>\n",
       "            <td>Las Vegas Sands    </td> <td>Sheldon g Adelson</td> <td>200  </td> <td>5e+06      </td>\n",
       "        </tr>\n",
       "        <tr>\n",
       "            <td>Visteon            </td> <td>Harry Wilson     </td> <td>200  </td> <td>4.0304e+06 </td>\n",
       "        </tr>\n",
       "        <tr>\n",
       "            <td>Yahoo! Inc         </td> <td>Daniel Loeb      </td> <td>200  </td> <td>2.51255e+06</td>\n",
       "        </tr>\n",
       "        <tr>\n",
       "            <td>YRC Worldwide Inc  </td> <td>Matthew Doheny   </td> <td>200  </td> <td>1.47332e+06</td>\n",
       "        </tr>\n",
       "        <tr>\n",
       "            <td>Charles Schwab Corp</td> <td>Charles Schwab   </td> <td>200  </td> <td>1.2364e+06 </td>\n",
       "        </tr>\n",
       "        <tr>\n",
       "            <td>DTE Energy         </td> <td>James Nicholson  </td> <td>200  </td> <td>986850     </td>\n",
       "        </tr>\n",
       "        <tr>\n",
       "            <td>Limited Brance     </td> <td>Leslie Wexner    </td> <td>200  </td> <td>942800     </td>\n",
       "        </tr>\n",
       "    </tbody>\n",
       "</table>\n",
       "<p>... (4677 rows omitted)</p>"
      ],
      "text/plain": [
       "company             | ceo               | party | amount\n",
       "Hewlett-Packard Co  | Margaret Whitman  | 200   | 1.25273e+08\n",
       "Caterpillar Inc     | Jon Huntsman      | 200   | 1.27686e+07\n",
       "Las Vegas Sands     | Sheldon Adelson   | 200   | 6.20425e+06\n",
       "Las Vegas Sands     | Sheldon g Adelson | 200   | 5e+06\n",
       "Visteon             | Harry Wilson      | 200   | 4.0304e+06\n",
       "Yahoo! Inc          | Daniel Loeb       | 200   | 2.51255e+06\n",
       "YRC Worldwide Inc   | Matthew Doheny    | 200   | 1.47332e+06\n",
       "Charles Schwab Corp | Charles Schwab    | 200   | 1.2364e+06\n",
       "DTE Energy          | James Nicholson   | 200   | 986850\n",
       "Limited Brance      | Leslie Wexner     | 200   | 942800\n",
       "... (4677 rows omitted)"
      ]
     },
     "execution_count": 63,
     "metadata": {},
     "output_type": "execute_result"
    }
   ],
   "source": [
    "ceos.sort('amount', descending=True)"
   ]
  },
  {
   "cell_type": "code",
   "execution_count": 64,
   "metadata": {
    "hideCode": false,
    "hidePrompt": false
   },
   "outputs": [
    {
     "data": {
      "text/html": [
       "<table border=\"1\" class=\"dataframe\">\n",
       "    <thead>\n",
       "        <tr>\n",
       "            <th>company</th> <th>ceo</th> <th>party</th> <th>amount</th>\n",
       "        </tr>\n",
       "    </thead>\n",
       "    <tbody>\n",
       "        <tr>\n",
       "            <td>Bristol-Myers Squibb Company</td> <td>Robert Williams  </td> <td>100  </td> <td>9     </td>\n",
       "        </tr>\n",
       "        <tr>\n",
       "            <td>Amgen Inc                   </td> <td>Gil Omenn        </td> <td>100  </td> <td>10    </td>\n",
       "        </tr>\n",
       "        <tr>\n",
       "            <td>Bristol-Myers Squibb Company</td> <td>Michael Grobstein</td> <td>100  </td> <td>10    </td>\n",
       "        </tr>\n",
       "        <tr>\n",
       "            <td>Caterpillar Inc             </td> <td>Leon Patten      </td> <td>100  </td> <td>10    </td>\n",
       "        </tr>\n",
       "        <tr>\n",
       "            <td>Caseys General Stores       </td> <td>Richard Wilkey   </td> <td>100  </td> <td>23    </td>\n",
       "        </tr>\n",
       "        <tr>\n",
       "            <td>AK Steel                    </td> <td>William Gerber   </td> <td>200  </td> <td>25    </td>\n",
       "        </tr>\n",
       "        <tr>\n",
       "            <td>Hollyfrontier Corporation   </td> <td>Matthews Clifton </td> <td>100  </td> <td>25    </td>\n",
       "        </tr>\n",
       "        <tr>\n",
       "            <td>Nordstrom Inc               </td> <td>Alison Winter    </td> <td>100  </td> <td>25    </td>\n",
       "        </tr>\n",
       "        <tr>\n",
       "            <td>Calpine                     </td> <td>Rob Mosbacher    </td> <td>100  </td> <td>35    </td>\n",
       "        </tr>\n",
       "        <tr>\n",
       "            <td>CF Industries Holdings      </td> <td>John Johnson     </td> <td>100  </td> <td>40    </td>\n",
       "        </tr>\n",
       "    </tbody>\n",
       "</table>\n",
       "<p>... (4677 rows omitted)</p>"
      ],
      "text/plain": [
       "company                      | ceo               | party | amount\n",
       "Bristol-Myers Squibb Company | Robert Williams   | 100   | 9\n",
       "Amgen Inc                    | Gil Omenn         | 100   | 10\n",
       "Bristol-Myers Squibb Company | Michael Grobstein | 100   | 10\n",
       "Caterpillar Inc              | Leon Patten       | 100   | 10\n",
       "Caseys General Stores        | Richard Wilkey    | 100   | 23\n",
       "AK Steel                     | William Gerber    | 200   | 25\n",
       "Hollyfrontier Corporation    | Matthews Clifton  | 100   | 25\n",
       "Nordstrom Inc                | Alison Winter     | 100   | 25\n",
       "Calpine                      | Rob Mosbacher     | 100   | 35\n",
       "CF Industries Holdings       | John Johnson      | 100   | 40\n",
       "... (4677 rows omitted)"
      ]
     },
     "execution_count": 64,
     "metadata": {},
     "output_type": "execute_result"
    }
   ],
   "source": [
    "ceos.sort('amount', descending=False)"
   ]
  },
  {
   "cell_type": "code",
   "execution_count": 70,
   "metadata": {
    "hideCode": false,
    "hidePrompt": false
   },
   "outputs": [
    {
     "data": {
      "image/png": "[encoded data removed]",
      "text/plain": [
       "<Figure size 432x288 with 1 Axes>"
      ]
     },
     "metadata": {},
     "output_type": "display_data"
    }
   ],
   "source": [
    "ceos.hist('amount', bins=np.arange(0, 1e5, 1e3),unit = '$1000')#, unit='$1000')"
   ]
  },
  {
   "cell_type": "code",
   "execution_count": 72,
   "metadata": {
    "hideCode": false,
    "hidePrompt": false
   },
   "outputs": [
    {
     "data": {
      "text/html": [
       "<table border=\"1\" class=\"dataframe\">\n",
       "    <thead>\n",
       "        <tr>\n",
       "            <th>name</th> <th>citizenship</th> <th>net worth</th> <th>industry</th> <th>Continent</th> <th>company</th> <th>party</th> <th>amount ($1000)</th>\n",
       "        </tr>\n",
       "    </thead>\n",
       "    <tbody>\n",
       "        <tr>\n",
       "            <td>Barry Diller   </td> <td>United States</td> <td>5479965153 </td> <td>Technology     </td> <td>North America</td> <td>Coca-Cola Co       </td> <td>100  </td> <td>107500        </td>\n",
       "        </tr>\n",
       "        <tr>\n",
       "            <td>Carl Icahn     </td> <td>United States</td> <td>20515698449</td> <td>Diversified    </td> <td>North America</td> <td>CVR Energy         </td> <td>100  </td> <td>3000          </td>\n",
       "        </tr>\n",
       "        <tr>\n",
       "            <td>Carl Icahn     </td> <td>United States</td> <td>20515698449</td> <td>Diversified    </td> <td>North America</td> <td>CVR Energy         </td> <td>200  </td> <td>225900        </td>\n",
       "        </tr>\n",
       "        <tr>\n",
       "            <td>Charles Dolan  </td> <td>United States</td> <td>5387774353 </td> <td>Media & Telecom</td> <td>North America</td> <td>Cablevision        </td> <td>100  </td> <td>39400         </td>\n",
       "        </tr>\n",
       "        <tr>\n",
       "            <td>Charles Dolan  </td> <td>United States</td> <td>5387774353 </td> <td>Media & Telecom</td> <td>North America</td> <td>Cablevision        </td> <td>200  </td> <td>107000        </td>\n",
       "        </tr>\n",
       "        <tr>\n",
       "            <td>Charles Johnson</td> <td>United States</td> <td>4587892463 </td> <td>Finance        </td> <td>North America</td> <td>Franklin Resources </td> <td>200  </td> <td>858000        </td>\n",
       "        </tr>\n",
       "        <tr>\n",
       "            <td>Charles Koch   </td> <td>United States</td> <td>61046822719</td> <td>Industrial     </td> <td>North America</td> <td>Assurant           </td> <td>100  </td> <td>1500          </td>\n",
       "        </tr>\n",
       "        <tr>\n",
       "            <td>Charles Koch   </td> <td>United States</td> <td>61046822719</td> <td>Industrial     </td> <td>North America</td> <td>Assurant           </td> <td>200  </td> <td>25400         </td>\n",
       "        </tr>\n",
       "        <tr>\n",
       "            <td>Charles Schwab </td> <td>United States</td> <td>9063879795 </td> <td>Finance        </td> <td>North America</td> <td>Charles Schwab Corp</td> <td>100  </td> <td>1800          </td>\n",
       "        </tr>\n",
       "        <tr>\n",
       "            <td>Charles Schwab </td> <td>United States</td> <td>9063879795 </td> <td>Finance        </td> <td>North America</td> <td>Charles Schwab Corp</td> <td>200  </td> <td>1.2364e+06    </td>\n",
       "        </tr>\n",
       "    </tbody>\n",
       "</table>\n",
       "<p>... (46 rows omitted)</p>"
      ],
      "text/plain": [
       "name            | citizenship   | net worth   | industry        | Continent     | company             | party | amount ($1000)\n",
       "Barry Diller    | United States | 5479965153  | Technology      | North America | Coca-Cola Co        | 100   | 107500\n",
       "Carl Icahn      | United States | 20515698449 | Diversified     | North America | CVR Energy          | 100   | 3000\n",
       "Carl Icahn      | United States | 20515698449 | Diversified     | North America | CVR Energy          | 200   | 225900\n",
       "Charles Dolan   | United States | 5387774353  | Media & Telecom | North America | Cablevision         | 100   | 39400\n",
       "Charles Dolan   | United States | 5387774353  | Media & Telecom | North America | Cablevision         | 200   | 107000\n",
       "Charles Johnson | United States | 4587892463  | Finance         | North America | Franklin Resources  | 200   | 858000\n",
       "Charles Koch    | United States | 61046822719 | Industrial      | North America | Assurant            | 100   | 1500\n",
       "Charles Koch    | United States | 61046822719 | Industrial      | North America | Assurant            | 200   | 25400\n",
       "Charles Schwab  | United States | 9063879795  | Finance         | North America | Charles Schwab Corp | 100   | 1800\n",
       "Charles Schwab  | United States | 9063879795  | Finance         | North America | Charles Schwab Corp | 200   | 1.2364e+06\n",
       "... (46 rows omitted)"
      ]
     },
     "execution_count": 72,
     "metadata": {},
     "output_type": "execute_result"
    }
   ],
   "source": [
    "b_donations = billionaires.join('name', ceos, 'ceo')\n",
    "b_donations.relabel('amount','amount ($1000)')"
   ]
  },
  {
   "cell_type": "code",
   "execution_count": 74,
   "metadata": {
    "hideCode": false,
    "hidePrompt": false
   },
   "outputs": [
    {
     "data": {
      "image/png": "[encoded data removed]",
      "text/plain": [
       "<Figure size 360x360 with 1 Axes>"
      ]
     },
     "metadata": {},
     "output_type": "display_data"
    }
   ],
   "source": [
    "b_donations.where('amount ($1000)', are.below(6e6)).scatter('net worth', 'amount ($1000)')"
   ]
  },
  {
   "cell_type": "code",
   "execution_count": null,
   "metadata": {},
   "outputs": [],
   "source": [
    "# what is the relationship between the two variables above?\n",
    "# trend? (negative or positive)\n",
    "# pattern?"
   ]
  },
  {
   "cell_type": "code",
   "execution_count": 78,
   "metadata": {},
   "outputs": [
    {
     "data": {
      "text/plain": [
       "100000000.0"
      ]
     },
     "execution_count": 78,
     "metadata": {},
     "output_type": "execute_result"
    }
   ],
   "source": [
    ".1e6 * 1000"
   ]
  },
  {
   "cell_type": "code",
   "execution_count": 79,
   "metadata": {},
   "outputs": [
    {
     "data": {
      "text/plain": [
       "100000000000.0"
      ]
     },
     "execution_count": 79,
     "metadata": {},
     "output_type": "execute_result"
    }
   ],
   "source": [
    "1e11"
   ]
  },
  {
   "cell_type": "code",
   "execution_count": null,
   "metadata": {
    "hideCode": false,
    "hidePrompt": false
   },
   "outputs": [],
   "source": [
    "donation_prop = b_donations.column('amount') / b_donations.column('net worth')\n",
    "b_donations = b_donations.with_column('Contribution%', donation_prop)\n",
    "b_donations = b_donations.sort('amount', descending=True)\n",
    "b_donations.set_format('Contribution%', PercentFormatter)\n",
    "b_donations.show(20)"
   ]
  },
  {
   "cell_type": "code",
   "execution_count": null,
   "metadata": {
    "hideCode": false,
    "hidePrompt": false
   },
   "outputs": [],
   "source": [
    ".02 / 100 * 20000"
   ]
  },
  {
   "cell_type": "markdown",
   "metadata": {
    "hideCode": false,
    "hidePrompt": false
   },
   "source": [
    "## Meteorites"
   ]
  },
  {
   "cell_type": "code",
   "execution_count": null,
   "metadata": {
    "hideCode": false,
    "hidePrompt": false
   },
   "outputs": [],
   "source": [
    "meteorites = Table.read_table('data/meteorites_na.csv')\n",
    "meteorites"
   ]
  },
  {
   "cell_type": "code",
   "execution_count": null,
   "metadata": {
    "hideCode": false,
    "hidePrompt": false
   },
   "outputs": [],
   "source": [
    "meteorites.group('class').sort(1, descending=True)"
   ]
  },
  {
   "cell_type": "code",
   "execution_count": null,
   "metadata": {
    "hideCode": false,
    "hidePrompt": false
   },
   "outputs": [],
   "source": [
    "meteorites.group('how')"
   ]
  },
  {
   "cell_type": "code",
   "execution_count": null,
   "metadata": {
    "hideCode": false,
    "hidePrompt": false
   },
   "outputs": [],
   "source": [
    "meteorites.group('how', np.average)"
   ]
  },
  {
   "cell_type": "code",
   "execution_count": null,
   "metadata": {
    "hideCode": false,
    "hidePrompt": false
   },
   "outputs": [],
   "source": [
    "meteorites.hist('year', bins=np.arange(1800, 2020, 5), group='how')"
   ]
  },
  {
   "cell_type": "code",
   "execution_count": null,
   "metadata": {
    "hideCode": false,
    "hidePrompt": false
   },
   "outputs": [],
   "source": [
    "meteorites.scatter('year', 'mass')"
   ]
  },
  {
   "cell_type": "code",
   "execution_count": null,
   "metadata": {
    "hideCode": false,
    "hidePrompt": false,
    "scrolled": true
   },
   "outputs": [],
   "source": [
    "meteorites.where('mass', are.below(1e5)).scatter('year', 'mass')"
   ]
  },
  {
   "cell_type": "code",
   "execution_count": null,
   "metadata": {
    "hideCode": false,
    "hidePrompt": false
   },
   "outputs": [],
   "source": [
    "new_fell = meteorites.where('how', 'Fell').where('year', are.above(1950))\n",
    "new_found  = meteorites.where('how', 'Found').where('year', are.above(1950))\n",
    "new_found"
   ]
  },
  {
   "cell_type": "markdown",
   "metadata": {
    "hideCode": false,
    "hidePrompt": false
   },
   "source": [
    "## Maps"
   ]
  },
  {
   "cell_type": "code",
   "execution_count": null,
   "metadata": {
    "hideCode": false,
    "hidePrompt": false,
    "scrolled": false
   },
   "outputs": [],
   "source": [
    "Marker.map_table(new_fell.select('lat', 'lon', 'name'))"
   ]
  },
  {
   "cell_type": "code",
   "execution_count": null,
   "metadata": {
    "hideCode": false,
    "hidePrompt": false
   },
   "outputs": [],
   "source": [
    "Circle.map_table(new_found.select('lat', 'lon', 'name'), radius=10)"
   ]
  },
  {
   "cell_type": "markdown",
   "metadata": {
    "hideCode": false,
    "hidePrompt": false
   },
   "source": [
    "## Bikes"
   ]
  },
  {
   "cell_type": "markdown",
   "metadata": {
    "hideCode": false,
    "hidePrompt": false
   },
   "source": [
    "If you loaded the meteorites dataset above, now might be a good time to restart your kernel, run the cell at the top of the notebook, then come back here. \n",
    "\n",
    "The bike datasets in this section is big, and could lead to kernel crashes."
   ]
  },
  {
   "cell_type": "code",
   "execution_count": null,
   "metadata": {
    "hideCode": false,
    "hidePrompt": false
   },
   "outputs": [],
   "source": [
    "trip = Table.read_table('data/trip.csv')\n",
    "trip"
   ]
  },
  {
   "cell_type": "code",
   "execution_count": null,
   "metadata": {
    "hideCode": false,
    "hidePrompt": false
   },
   "outputs": [],
   "source": [
    "commute = trip.where('Duration', are.below(1800))\n",
    "commute.hist('Duration')"
   ]
  },
  {
   "cell_type": "code",
   "execution_count": null,
   "metadata": {
    "hideCode": false,
    "hidePrompt": false
   },
   "outputs": [],
   "source": [
    "commute.hist('Duration', bins=60, unit='second')"
   ]
  },
  {
   "cell_type": "code",
   "execution_count": null,
   "metadata": {
    "hideCode": false,
    "hidePrompt": false
   },
   "outputs": [],
   "source": [
    "# Percent of people who have a ride duration between 500 and 250 seconds\n",
    "(500-250) * 0.15 "
   ]
  },
  {
   "cell_type": "code",
   "execution_count": null,
   "metadata": {
    "hideCode": false,
    "hidePrompt": false
   },
   "outputs": [],
   "source": [
    "starts = commute.group('Start Station').sort('count', descending=True)\n",
    "starts"
   ]
  },
  {
   "cell_type": "code",
   "execution_count": null,
   "metadata": {
    "hideCode": false,
    "hidePrompt": false
   },
   "outputs": [],
   "source": [
    "commute.pivot('Start Station', 'End Station')"
   ]
  },
  {
   "cell_type": "code",
   "execution_count": null,
   "metadata": {
    "hideCode": false,
    "hidePrompt": false
   },
   "outputs": [],
   "source": [
    "duration = trip.select('Start Station', 'End Station', 'Duration')\n",
    "duration"
   ]
  },
  {
   "cell_type": "code",
   "execution_count": null,
   "metadata": {
    "hideCode": false,
    "hidePrompt": false
   },
   "outputs": [],
   "source": [
    "shortest = duration.group(['Start Station', 'End Station'], min).relabeled('Duration min', 'Minimum Duration')\n",
    "shortest"
   ]
  },
  {
   "cell_type": "code",
   "execution_count": null,
   "metadata": {
    "hideCode": false,
    "hidePrompt": false
   },
   "outputs": [],
   "source": [
    "from_cc = shortest.where('Start Station', are.containing('Civic Center BART')).sort('Minimum Duration')\n",
    "from_cc"
   ]
  },
  {
   "cell_type": "markdown",
   "metadata": {
    "hideCode": false,
    "hidePrompt": false
   },
   "source": [
    "## Maps, again"
   ]
  },
  {
   "cell_type": "code",
   "execution_count": null,
   "metadata": {
    "hideCode": false,
    "hidePrompt": false
   },
   "outputs": [],
   "source": [
    "stations = Table.read_table('data/station.csv')\n",
    "stations"
   ]
  },
  {
   "cell_type": "code",
   "execution_count": null,
   "metadata": {
    "hideCode": false,
    "hidePrompt": false,
    "scrolled": false
   },
   "outputs": [],
   "source": [
    "Marker.map_table(stations.select('lat', 'long', 'name'))"
   ]
  },
  {
   "cell_type": "code",
   "execution_count": null,
   "metadata": {
    "hideCode": false,
    "hidePrompt": false
   },
   "outputs": [],
   "source": [
    "sf = stations.where('landmark', 'San Francisco')\n",
    "Circle.map_table(sf.select('lat', 'long', 'name'), color='green', radius=15)"
   ]
  },
  {
   "cell_type": "markdown",
   "metadata": {
    "hideCode": false,
    "hidePrompt": false
   },
   "source": [
    "## Extra practice"
   ]
  },
  {
   "cell_type": "markdown",
   "metadata": {
    "hideCode": false,
    "hidePrompt": false
   },
   "source": [
    "### Write a Python expression below each of the following descriptions that computes its value. You may use more than one line."
   ]
  },
  {
   "cell_type": "code",
   "execution_count": null,
   "metadata": {
    "hideCode": false,
    "hidePrompt": false
   },
   "outputs": [],
   "source": [
    "# The name of the station where the most rentals ended (assume no ties)."
   ]
  },
  {
   "cell_type": "code",
   "execution_count": null,
   "metadata": {
    "hideCode": false,
    "hidePrompt": false
   },
   "outputs": [],
   "source": [
    "# The number of stations for which the average duration ending at that station was more than 10 minutes."
   ]
  },
  {
   "cell_type": "code",
   "execution_count": null,
   "metadata": {
    "hideCode": false,
    "hidePrompt": false
   },
   "outputs": [],
   "source": [
    "# The number of stations that have more than 500 starts AND more than 500 ends"
   ]
  },
  {
   "cell_type": "code",
   "execution_count": null,
   "metadata": {
    "hideCode": false,
    "hidePrompt": false
   },
   "outputs": [],
   "source": []
  },
  {
   "cell_type": "code",
   "execution_count": null,
   "metadata": {
    "hideCode": false,
    "hidePrompt": false
   },
   "outputs": [],
   "source": []
  },
  {
   "cell_type": "code",
   "execution_count": null,
   "metadata": {
    "hideCode": false,
    "hidePrompt": false
   },
   "outputs": [],
   "source": []
  },
  {
   "cell_type": "code",
   "execution_count": null,
   "metadata": {
    "hideCode": false,
    "hidePrompt": false
   },
   "outputs": [],
   "source": []
  },
  {
   "cell_type": "code",
   "execution_count": null,
   "metadata": {
    "hideCode": false,
    "hidePrompt": false
   },
   "outputs": [],
   "source": [
    "# The name of the station where the most rentals ended (assume no ties).\n",
    "# First, find end counts\n",
    "# Then, find the station with the highest end count\n",
    "trip.group('End').sort('count', descending=True).column(0).item(0)"
   ]
  },
  {
   "cell_type": "code",
   "execution_count": null,
   "metadata": {
    "hideCode": false,
    "hidePrompt": false
   },
   "outputs": [],
   "source": [
    "# The number of stations for which the average duration ending at that station was more than 10 minutes.\n",
    "\n",
    "# First, find the average end time for each station\n",
    "# Then, keep the ones above 10 minutes\n",
    "# Then, count them\n",
    "trip.group('End', np.average).where(2, are.above(10*60)).num_rows"
   ]
  },
  {
   "cell_type": "code",
   "execution_count": null,
   "metadata": {
    "hideCode": false,
    "hidePrompt": false
   },
   "outputs": [],
   "source": [
    "# The number of stations that have more than 500 starts AND more than 500 ends.\n",
    "\n",
    "# First, group the trip on starts and ends, separately\n",
    "# Then, join the two grouped tables\n",
    "# Then, count the number of rows where the stations' start and end counts are bove 500\n",
    "start_counts, end_counts = trip.group('Start').relabeled('count', 'Start Count'), trip.group('End').relabeled('count', 'End Count')\n",
    "start_counts.join('Start', end_counts, 'End').where(\n",
    "    'Start Count', are.above(500)).where('End Count', are.above(500)).num_rows"
   ]
  }
 ],
 "metadata": {
  "hide_code_all_hidden": false,
  "kernelspec": {
   "display_name": "Python 3",
   "language": "python",
   "name": "python3"
  },
  "language_info": {
   "codemirror_mode": {
    "name": "ipython",
    "version": 3
   },
   "file_extension": ".py",
   "mimetype": "text/x-python",
   "name": "python",
   "nbconvert_exporter": "python",
   "pygments_lexer": "ipython3",
   "version": "3.7.6"
  },
  "toc": {
   "base_numbering": 1,
   "nav_menu": {},
   "number_sections": true,
   "sideBar": true,
   "skip_h1_title": false,
   "title_cell": "Table of Contents",
   "title_sidebar": "Contents",
   "toc_cell": false,
   "toc_position": {},
   "toc_section_display": true,
   "toc_window_display": false
  }
 },
 "nbformat": 4,
 "nbformat_minor": 2
}
