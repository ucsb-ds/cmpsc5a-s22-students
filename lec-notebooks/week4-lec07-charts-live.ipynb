{
 "cells": [
  {
   "cell_type": "code",
   "execution_count": 1,
   "metadata": {},
   "outputs": [],
   "source": [
    "from datascience import *\n",
    "import numpy as np\n",
    "\n",
    "%matplotlib inline\n",
    "import matplotlib.pyplot as plots\n",
    "plots.style.use('fivethirtyeight')"
   ]
  },
  {
   "cell_type": "markdown",
   "metadata": {},
   "source": [
    "## Week 4: Lecture 7 ##"
   ]
  },
  {
   "cell_type": "markdown",
   "metadata": {},
   "source": [
    "## Census ##"
   ]
  },
  {
   "cell_type": "markdown",
   "metadata": {},
   "source": [
    "The Census form asks respondents to provide the sex of each household member by checking one of two boxes labeled Male and Female. The SEX column contains numeric codes: 1 for male, 2 for female, and 0 for the total.\n"
   ]
  },
  {
   "cell_type": "code",
   "execution_count": 2,
   "metadata": {},
   "outputs": [
    {
     "data": {
      "text/html": [
       "<table border=\"1\" class=\"dataframe\">\n",
       "    <thead>\n",
       "        <tr>\n",
       "            <th>SEX</th> <th>AGE</th> <th>CENSUS2010POP</th> <th>ESTIMATESBASE2010</th> <th>POPESTIMATE2010</th> <th>POPESTIMATE2011</th> <th>POPESTIMATE2012</th> <th>POPESTIMATE2013</th> <th>POPESTIMATE2014</th> <th>POPESTIMATE2015</th> <th>POPESTIMATE2016</th> <th>POPESTIMATE2017</th> <th>POPESTIMATE2018</th> <th>POPESTIMATE2019</th>\n",
       "        </tr>\n",
       "    </thead>\n",
       "    <tbody>\n",
       "        <tr>\n",
       "            <td>0   </td> <td>0   </td> <td>3944153      </td> <td>3944160          </td> <td>3951430        </td> <td>3963092        </td> <td>3926570        </td> <td>3931258        </td> <td>3954787        </td> <td>3983981        </td> <td>3954773        </td> <td>3893990        </td> <td>3815343        </td> <td>3783052        </td>\n",
       "        </tr>\n",
       "        <tr>\n",
       "            <td>0   </td> <td>1   </td> <td>3978070      </td> <td>3978090          </td> <td>3957730        </td> <td>3966225        </td> <td>3977549        </td> <td>3942698        </td> <td>3948891        </td> <td>3973133        </td> <td>4002903        </td> <td>3972711        </td> <td>3908830        </td> <td>3829599        </td>\n",
       "        </tr>\n",
       "        <tr>\n",
       "            <td>0   </td> <td>2   </td> <td>4096929      </td> <td>4096939          </td> <td>4090621        </td> <td>3970654        </td> <td>3978925        </td> <td>3991740        </td> <td>3958711        </td> <td>3966321        </td> <td>3991349        </td> <td>4020045        </td> <td>3987032        </td> <td>3922044        </td>\n",
       "        </tr>\n",
       "        <tr>\n",
       "            <td>0   </td> <td>3   </td> <td>4119040      </td> <td>4119051          </td> <td>4111688        </td> <td>4101644        </td> <td>3981531        </td> <td>3991017        </td> <td>4005928        </td> <td>3974351        </td> <td>3982984        </td> <td>4006946        </td> <td>4033038        </td> <td>3998665        </td>\n",
       "        </tr>\n",
       "        <tr>\n",
       "            <td>0   </td> <td>4   </td> <td>4063170      </td> <td>4063186          </td> <td>4077346        </td> <td>4121488        </td> <td>4111490        </td> <td>3992502        </td> <td>4004032        </td> <td>4020292        </td> <td>3989750        </td> <td>3997280        </td> <td>4018719        </td> <td>4043323        </td>\n",
       "        </tr>\n",
       "        <tr>\n",
       "            <td>0   </td> <td>5   </td> <td>4056858      </td> <td>4056872          </td> <td>4064521        </td> <td>4087054        </td> <td>4131049        </td> <td>4121876        </td> <td>4004576        </td> <td>4017589        </td> <td>4035033        </td> <td>4003452        </td> <td>4008443        </td> <td>4028281        </td>\n",
       "        </tr>\n",
       "        <tr>\n",
       "            <td>0   </td> <td>6   </td> <td>4066381      </td> <td>4066412          </td> <td>4072904        </td> <td>4074531        </td> <td>4096631        </td> <td>4141126        </td> <td>4133372        </td> <td>4017388        </td> <td>4031568        </td> <td>4048018        </td> <td>4014057        </td> <td>4017227        </td>\n",
       "        </tr>\n",
       "        <tr>\n",
       "            <td>0   </td> <td>7   </td> <td>4030579      </td> <td>4030594          </td> <td>4042990        </td> <td>4082821        </td> <td>4084175        </td> <td>4106756        </td> <td>4152666        </td> <td>4145872        </td> <td>4030888        </td> <td>4044139        </td> <td>4058370        </td> <td>4022319        </td>\n",
       "        </tr>\n",
       "        <tr>\n",
       "            <td>0   </td> <td>8   </td> <td>4046486      </td> <td>4046497          </td> <td>4025501        </td> <td>4052773        </td> <td>4092559        </td> <td>4094513        </td> <td>4118349        </td> <td>4165033        </td> <td>4158848        </td> <td>4042924        </td> <td>4054236        </td> <td>4066194        </td>\n",
       "        </tr>\n",
       "        <tr>\n",
       "            <td>0   </td> <td>9   </td> <td>4148353      </td> <td>4148369          </td> <td>4125312        </td> <td>4035319        </td> <td>4062726        </td> <td>4103052        </td> <td>4106068        </td> <td>4130887        </td> <td>4177895        </td> <td>4170813        </td> <td>4053179        </td> <td>4061874        </td>\n",
       "        </tr>\n",
       "    </tbody>\n",
       "</table>\n",
       "<p>... (296 rows omitted)</p>"
      ],
      "text/plain": [
       "SEX  | AGE  | CENSUS2010POP | ESTIMATESBASE2010 | POPESTIMATE2010 | POPESTIMATE2011 | POPESTIMATE2012 | POPESTIMATE2013 | POPESTIMATE2014 | POPESTIMATE2015 | POPESTIMATE2016 | POPESTIMATE2017 | POPESTIMATE2018 | POPESTIMATE2019\n",
       "0    | 0    | 3944153       | 3944160           | 3951430         | 3963092         | 3926570         | 3931258         | 3954787         | 3983981         | 3954773         | 3893990         | 3815343         | 3783052\n",
       "0    | 1    | 3978070       | 3978090           | 3957730         | 3966225         | 3977549         | 3942698         | 3948891         | 3973133         | 4002903         | 3972711         | 3908830         | 3829599\n",
       "0    | 2    | 4096929       | 4096939           | 4090621         | 3970654         | 3978925         | 3991740         | 3958711         | 3966321         | 3991349         | 4020045         | 3987032         | 3922044\n",
       "0    | 3    | 4119040       | 4119051           | 4111688         | 4101644         | 3981531         | 3991017         | 4005928         | 3974351         | 3982984         | 4006946         | 4033038         | 3998665\n",
       "0    | 4    | 4063170       | 4063186           | 4077346         | 4121488         | 4111490         | 3992502         | 4004032         | 4020292         | 3989750         | 3997280         | 4018719         | 4043323\n",
       "0    | 5    | 4056858       | 4056872           | 4064521         | 4087054         | 4131049         | 4121876         | 4004576         | 4017589         | 4035033         | 4003452         | 4008443         | 4028281\n",
       "0    | 6    | 4066381       | 4066412           | 4072904         | 4074531         | 4096631         | 4141126         | 4133372         | 4017388         | 4031568         | 4048018         | 4014057         | 4017227\n",
       "0    | 7    | 4030579       | 4030594           | 4042990         | 4082821         | 4084175         | 4106756         | 4152666         | 4145872         | 4030888         | 4044139         | 4058370         | 4022319\n",
       "0    | 8    | 4046486       | 4046497           | 4025501         | 4052773         | 4092559         | 4094513         | 4118349         | 4165033         | 4158848         | 4042924         | 4054236         | 4066194\n",
       "0    | 9    | 4148353       | 4148369           | 4125312         | 4035319         | 4062726         | 4103052         | 4106068         | 4130887         | 4177895         | 4170813         | 4053179         | 4061874\n",
       "... (296 rows omitted)"
      ]
     },
     "execution_count": 2,
     "metadata": {},
     "output_type": "execute_result"
    }
   ],
   "source": [
    "# As of August 2021, this census file is online here: \n",
    "data = 'http://www2.census.gov/programs-surveys/popest/technical-documentation/file-layouts/2010-2019/nc-est2019-agesex-res.csv'\n",
    "\n",
    "# A description of the table appears online.\n",
    "# https://www2.census.gov/programs-surveys/popest/technical-documentation/file-layouts/2010-2019/nc-est2019-agesex-res.pdf\n",
    "\n",
    "full_census_table = Table.read_table(data)\n",
    "full_census_table"
   ]
  },
  {
   "cell_type": "code",
   "execution_count": 3,
   "metadata": {},
   "outputs": [
    {
     "data": {
      "text/html": [
       "<table border=\"1\" class=\"dataframe\">\n",
       "    <thead>\n",
       "        <tr>\n",
       "            <th>SEX</th> <th>AGE</th> <th>POPESTIMATE2014</th> <th>POPESTIMATE2019</th>\n",
       "        </tr>\n",
       "    </thead>\n",
       "    <tbody>\n",
       "        <tr>\n",
       "            <td>0   </td> <td>0   </td> <td>3954787        </td> <td>3783052        </td>\n",
       "        </tr>\n",
       "        <tr>\n",
       "            <td>0   </td> <td>1   </td> <td>3948891        </td> <td>3829599        </td>\n",
       "        </tr>\n",
       "        <tr>\n",
       "            <td>0   </td> <td>2   </td> <td>3958711        </td> <td>3922044        </td>\n",
       "        </tr>\n",
       "        <tr>\n",
       "            <td>0   </td> <td>3   </td> <td>4005928        </td> <td>3998665        </td>\n",
       "        </tr>\n",
       "        <tr>\n",
       "            <td>0   </td> <td>4   </td> <td>4004032        </td> <td>4043323        </td>\n",
       "        </tr>\n",
       "        <tr>\n",
       "            <td>0   </td> <td>5   </td> <td>4004576        </td> <td>4028281        </td>\n",
       "        </tr>\n",
       "        <tr>\n",
       "            <td>0   </td> <td>6   </td> <td>4133372        </td> <td>4017227        </td>\n",
       "        </tr>\n",
       "        <tr>\n",
       "            <td>0   </td> <td>7   </td> <td>4152666        </td> <td>4022319        </td>\n",
       "        </tr>\n",
       "        <tr>\n",
       "            <td>0   </td> <td>8   </td> <td>4118349        </td> <td>4066194        </td>\n",
       "        </tr>\n",
       "        <tr>\n",
       "            <td>0   </td> <td>9   </td> <td>4106068        </td> <td>4061874        </td>\n",
       "        </tr>\n",
       "    </tbody>\n",
       "</table>\n",
       "<p>... (296 rows omitted)</p>"
      ],
      "text/plain": [
       "SEX  | AGE  | POPESTIMATE2014 | POPESTIMATE2019\n",
       "0    | 0    | 3954787         | 3783052\n",
       "0    | 1    | 3948891         | 3829599\n",
       "0    | 2    | 3958711         | 3922044\n",
       "0    | 3    | 4005928         | 3998665\n",
       "0    | 4    | 4004032         | 4043323\n",
       "0    | 5    | 4004576         | 4028281\n",
       "0    | 6    | 4133372         | 4017227\n",
       "0    | 7    | 4152666         | 4022319\n",
       "0    | 8    | 4118349         | 4066194\n",
       "0    | 9    | 4106068         | 4061874\n",
       "... (296 rows omitted)"
      ]
     },
     "execution_count": 3,
     "metadata": {},
     "output_type": "execute_result"
    }
   ],
   "source": [
    "# Keep only the columns we care about\n",
    "partial_census_table = full_census_table.select('SEX', 'AGE', 'POPESTIMATE2014', 'POPESTIMATE2019')\n",
    "partial_census_table"
   ]
  },
  {
   "cell_type": "code",
   "execution_count": 4,
   "metadata": {},
   "outputs": [
    {
     "data": {
      "text/html": [
       "<table border=\"1\" class=\"dataframe\">\n",
       "    <thead>\n",
       "        <tr>\n",
       "            <th>SEX</th> <th>AGE</th> <th>2014</th> <th>2019</th>\n",
       "        </tr>\n",
       "    </thead>\n",
       "    <tbody>\n",
       "        <tr>\n",
       "            <td>0   </td> <td>0   </td> <td>3954787</td> <td>3783052</td>\n",
       "        </tr>\n",
       "        <tr>\n",
       "            <td>0   </td> <td>1   </td> <td>3948891</td> <td>3829599</td>\n",
       "        </tr>\n",
       "        <tr>\n",
       "            <td>0   </td> <td>2   </td> <td>3958711</td> <td>3922044</td>\n",
       "        </tr>\n",
       "        <tr>\n",
       "            <td>0   </td> <td>3   </td> <td>4005928</td> <td>3998665</td>\n",
       "        </tr>\n",
       "        <tr>\n",
       "            <td>0   </td> <td>4   </td> <td>4004032</td> <td>4043323</td>\n",
       "        </tr>\n",
       "        <tr>\n",
       "            <td>0   </td> <td>5   </td> <td>4004576</td> <td>4028281</td>\n",
       "        </tr>\n",
       "        <tr>\n",
       "            <td>0   </td> <td>6   </td> <td>4133372</td> <td>4017227</td>\n",
       "        </tr>\n",
       "        <tr>\n",
       "            <td>0   </td> <td>7   </td> <td>4152666</td> <td>4022319</td>\n",
       "        </tr>\n",
       "        <tr>\n",
       "            <td>0   </td> <td>8   </td> <td>4118349</td> <td>4066194</td>\n",
       "        </tr>\n",
       "        <tr>\n",
       "            <td>0   </td> <td>9   </td> <td>4106068</td> <td>4061874</td>\n",
       "        </tr>\n",
       "    </tbody>\n",
       "</table>\n",
       "<p>... (296 rows omitted)</p>"
      ],
      "text/plain": [
       "SEX  | AGE  | 2014    | 2019\n",
       "0    | 0    | 3954787 | 3783052\n",
       "0    | 1    | 3948891 | 3829599\n",
       "0    | 2    | 3958711 | 3922044\n",
       "0    | 3    | 4005928 | 3998665\n",
       "0    | 4    | 4004032 | 4043323\n",
       "0    | 5    | 4004576 | 4028281\n",
       "0    | 6    | 4133372 | 4017227\n",
       "0    | 7    | 4152666 | 4022319\n",
       "0    | 8    | 4118349 | 4066194\n",
       "0    | 9    | 4106068 | 4061874\n",
       "... (296 rows omitted)"
      ]
     },
     "execution_count": 4,
     "metadata": {},
     "output_type": "execute_result"
    }
   ],
   "source": [
    "# Make things easier to read\n",
    "us_pop = partial_census_table.relabeled('POPESTIMATE2014', '2014').relabeled('POPESTIMATE2019', '2019')\n",
    "us_pop"
   ]
  },
  {
   "cell_type": "code",
   "execution_count": 5,
   "metadata": {},
   "outputs": [
    {
     "data": {
      "text/html": [
       "<table border=\"1\" class=\"dataframe\">\n",
       "    <thead>\n",
       "        <tr>\n",
       "            <th>SEX</th> <th>AGE</th> <th>2014</th> <th>2019</th>\n",
       "        </tr>\n",
       "    </thead>\n",
       "    <tbody>\n",
       "        <tr>\n",
       "            <td>0   </td> <td>999 </td> <td>318301008</td> <td>328239523</td>\n",
       "        </tr>\n",
       "        <tr>\n",
       "            <td>1   </td> <td>999 </td> <td>156654424</td> <td>161657324</td>\n",
       "        </tr>\n",
       "        <tr>\n",
       "            <td>2   </td> <td>999 </td> <td>161646584</td> <td>166582199</td>\n",
       "        </tr>\n",
       "        <tr>\n",
       "            <td>0   </td> <td>100 </td> <td>70685    </td> <td>100322   </td>\n",
       "        </tr>\n",
       "        <tr>\n",
       "            <td>1   </td> <td>100 </td> <td>13577    </td> <td>23472    </td>\n",
       "        </tr>\n",
       "        <tr>\n",
       "            <td>2   </td> <td>100 </td> <td>57108    </td> <td>76850    </td>\n",
       "        </tr>\n",
       "        <tr>\n",
       "            <td>0   </td> <td>99  </td> <td>41277    </td> <td>57124    </td>\n",
       "        </tr>\n",
       "        <tr>\n",
       "            <td>1   </td> <td>99  </td> <td>9032     </td> <td>14596    </td>\n",
       "        </tr>\n",
       "        <tr>\n",
       "            <td>2   </td> <td>99  </td> <td>32245    </td> <td>42528    </td>\n",
       "        </tr>\n",
       "        <tr>\n",
       "            <td>0   </td> <td>98  </td> <td>59546    </td> <td>86150    </td>\n",
       "        </tr>\n",
       "    </tbody>\n",
       "</table>\n",
       "<p>... (296 rows omitted)</p>"
      ],
      "text/plain": [
       "SEX  | AGE  | 2014      | 2019\n",
       "0    | 999  | 318301008 | 328239523\n",
       "1    | 999  | 156654424 | 161657324\n",
       "2    | 999  | 161646584 | 166582199\n",
       "0    | 100  | 70685     | 100322\n",
       "1    | 100  | 13577     | 23472\n",
       "2    | 100  | 57108     | 76850\n",
       "0    | 99   | 41277     | 57124\n",
       "1    | 99   | 9032      | 14596\n",
       "2    | 99   | 32245     | 42528\n",
       "0    | 98   | 59546     | 86150\n",
       "... (296 rows omitted)"
      ]
     },
     "execution_count": 5,
     "metadata": {},
     "output_type": "execute_result"
    }
   ],
   "source": [
    "# Sort by age\n",
    "us_pop.sort('AGE', descending = True)"
   ]
  },
  {
   "cell_type": "code",
   "execution_count": 6,
   "metadata": {},
   "outputs": [
    {
     "data": {
      "text/html": [
       "<table border=\"1\" class=\"dataframe\">\n",
       "    <thead>\n",
       "        <tr>\n",
       "            <th>SEX</th> <th>AGE</th> <th>2014</th> <th>2019</th>\n",
       "        </tr>\n",
       "    </thead>\n",
       "    <tbody>\n",
       "        <tr>\n",
       "            <td>0   </td> <td>999 </td> <td>318301008</td> <td>328239523</td>\n",
       "        </tr>\n",
       "        <tr>\n",
       "            <td>1   </td> <td>999 </td> <td>156654424</td> <td>161657324</td>\n",
       "        </tr>\n",
       "        <tr>\n",
       "            <td>2   </td> <td>999 </td> <td>161646584</td> <td>166582199</td>\n",
       "        </tr>\n",
       "        <tr>\n",
       "            <td>0   </td> <td>100 </td> <td>70685    </td> <td>100322   </td>\n",
       "        </tr>\n",
       "        <tr>\n",
       "            <td>1   </td> <td>100 </td> <td>13577    </td> <td>23472    </td>\n",
       "        </tr>\n",
       "        <tr>\n",
       "            <td>2   </td> <td>100 </td> <td>57108    </td> <td>76850    </td>\n",
       "        </tr>\n",
       "        <tr>\n",
       "            <td>0   </td> <td>99  </td> <td>41277    </td> <td>57124    </td>\n",
       "        </tr>\n",
       "        <tr>\n",
       "            <td>1   </td> <td>99  </td> <td>9032     </td> <td>14596    </td>\n",
       "        </tr>\n",
       "        <tr>\n",
       "            <td>2   </td> <td>99  </td> <td>32245    </td> <td>42528    </td>\n",
       "        </tr>\n",
       "        <tr>\n",
       "            <td>0   </td> <td>98  </td> <td>59546    </td> <td>86150    </td>\n",
       "        </tr>\n",
       "    </tbody>\n",
       "</table>\n",
       "<p>... (296 rows omitted)</p>"
      ],
      "text/plain": [
       "SEX  | AGE  | 2014      | 2019\n",
       "0    | 999  | 318301008 | 328239523\n",
       "1    | 999  | 156654424 | 161657324\n",
       "2    | 999  | 161646584 | 166582199\n",
       "0    | 100  | 70685     | 100322\n",
       "1    | 100  | 13577     | 23472\n",
       "2    | 100  | 57108     | 76850\n",
       "0    | 99   | 41277     | 57124\n",
       "1    | 99   | 9032      | 14596\n",
       "2    | 99   | 32245     | 42528\n",
       "0    | 98   | 59546     | 86150\n",
       "... (296 rows omitted)"
      ]
     },
     "execution_count": 6,
     "metadata": {},
     "output_type": "execute_result"
    }
   ],
   "source": [
    "# Sort by age (another way)\n",
    "us_pop.sort('AGE', descending=True)"
   ]
  },
  {
   "cell_type": "markdown",
   "metadata": {},
   "source": [
    "## Sex Ratios"
   ]
  },
  {
   "cell_type": "code",
   "execution_count": 7,
   "metadata": {},
   "outputs": [
    {
     "data": {
      "text/html": [
       "<table border=\"1\" class=\"dataframe\">\n",
       "    <thead>\n",
       "        <tr>\n",
       "            <th>SEX</th> <th>AGE</th> <th>2019</th>\n",
       "        </tr>\n",
       "    </thead>\n",
       "    <tbody>\n",
       "        <tr>\n",
       "            <td>0   </td> <td>999 </td> <td>328239523</td>\n",
       "        </tr>\n",
       "        <tr>\n",
       "            <td>1   </td> <td>999 </td> <td>161657324</td>\n",
       "        </tr>\n",
       "        <tr>\n",
       "            <td>2   </td> <td>999 </td> <td>166582199</td>\n",
       "        </tr>\n",
       "    </tbody>\n",
       "</table>"
      ],
      "text/plain": [
       "SEX  | AGE  | 2019\n",
       "0    | 999  | 328239523\n",
       "1    | 999  | 161657324\n",
       "2    | 999  | 166582199"
      ]
     },
     "execution_count": 7,
     "metadata": {},
     "output_type": "execute_result"
    }
   ],
   "source": [
    "# let's look at the 2019 population estimate\n",
    "# for males and females combined, males only, and females only\n",
    "us_pop_2019 = us_pop.drop('2014')\n",
    "all_ages = us_pop_2019.where('AGE', are.equal_to(999))\n",
    "all_ages"
   ]
  },
  {
   "cell_type": "code",
   "execution_count": 8,
   "metadata": {},
   "outputs": [
    {
     "data": {
      "text/html": [
       "<table border=\"1\" class=\"dataframe\">\n",
       "    <thead>\n",
       "        <tr>\n",
       "            <th>SEX</th> <th>AGE</th> <th>2019</th> <th>Proportion</th>\n",
       "        </tr>\n",
       "    </thead>\n",
       "    <tbody>\n",
       "        <tr>\n",
       "            <td>0   </td> <td>999 </td> <td>328239523</td> <td>100.00%   </td>\n",
       "        </tr>\n",
       "        <tr>\n",
       "            <td>1   </td> <td>999 </td> <td>161657324</td> <td>49.25%    </td>\n",
       "        </tr>\n",
       "        <tr>\n",
       "            <td>2   </td> <td>999 </td> <td>166582199</td> <td>50.75%    </td>\n",
       "        </tr>\n",
       "    </tbody>\n",
       "</table>"
      ],
      "text/plain": [
       "SEX  | AGE  | 2019      | Proportion\n",
       "0    | 999  | 328239523 | 100.00%\n",
       "1    | 999  | 161657324 | 49.25%\n",
       "2    | 999  | 166582199 | 50.75%"
      ]
     },
     "execution_count": 8,
     "metadata": {},
     "output_type": "execute_result"
    }
   ],
   "source": [
    "# let's add a proportin column\n",
    "# to view the proportion of males and females in the total population\n",
    "\n",
    "pop_2019 = all_ages.column('2019').item(0)\n",
    "all_ages.with_column(\n",
    "    'Proportion', all_ages.column('2019')/pop_2019\n",
    ").set_format('Proportion', PercentFormatter)"
   ]
  },
  {
   "cell_type": "code",
   "execution_count": 9,
   "metadata": {},
   "outputs": [
    {
     "data": {
      "text/plain": [
       "array([328239523, 161657324, 166582199])"
      ]
     },
     "execution_count": 9,
     "metadata": {},
     "output_type": "execute_result"
    }
   ],
   "source": [
    "pop_2019 = all_ages.column('2019')#.item(0)\n",
    "pop_2019"
   ]
  },
  {
   "cell_type": "code",
   "execution_count": 10,
   "metadata": {},
   "outputs": [
    {
     "name": "stdout",
     "output_type": "stream",
     "text": [
      "Help on method_descriptor:\n",
      "\n",
      "item(...)\n",
      "    a.item(*args)\n",
      "    \n",
      "    Copy an element of an array to a standard Python scalar and return it.\n",
      "    \n",
      "    Parameters\n",
      "    ----------\n",
      "    \\*args : Arguments (variable number and type)\n",
      "    \n",
      "        * none: in this case, the method only works for arrays\n",
      "          with one element (`a.size == 1`), which element is\n",
      "          copied into a standard Python scalar object and returned.\n",
      "    \n",
      "        * int_type: this argument is interpreted as a flat index into\n",
      "          the array, specifying which element to copy and return.\n",
      "    \n",
      "        * tuple of int_types: functions as does a single int_type argument,\n",
      "          except that the argument is interpreted as an nd-index into the\n",
      "          array.\n",
      "    \n",
      "    Returns\n",
      "    -------\n",
      "    z : Standard Python scalar object\n",
      "        A copy of the specified element of the array as a suitable\n",
      "        Python scalar\n",
      "    \n",
      "    Notes\n",
      "    -----\n",
      "    When the data type of `a` is longdouble or clongdouble, item() returns\n",
      "    a scalar array object because there is no available Python scalar that\n",
      "    would not lose information. Void arrays return a buffer object for item(),\n",
      "    unless fields are defined, in which case a tuple is returned.\n",
      "    \n",
      "    `item` is very similar to a[args], except, instead of an array scalar,\n",
      "    a standard Python scalar is returned. This can be useful for speeding up\n",
      "    access to elements of the array and doing arithmetic on elements of the\n",
      "    array using Python's optimized math.\n",
      "    \n",
      "    Examples\n",
      "    --------\n",
      "    >>> np.random.seed(123)\n",
      "    >>> x = np.random.randint(9, size=(3, 3))\n",
      "    >>> x\n",
      "    array([[2, 2, 6],\n",
      "           [1, 3, 6],\n",
      "           [1, 0, 1]])\n",
      "    >>> x.item(3)\n",
      "    1\n",
      "    >>> x.item(7)\n",
      "    0\n",
      "    >>> x.item((0, 1))\n",
      "    2\n",
      "    >>> x.item((2, 2))\n",
      "    1\n",
      "\n"
     ]
    }
   ],
   "source": [
    "help(np.ndarray.item)"
   ]
  },
  {
   "cell_type": "code",
   "execution_count": 11,
   "metadata": {},
   "outputs": [
    {
     "data": {
      "text/html": [
       "<table border=\"1\" class=\"dataframe\">\n",
       "    <thead>\n",
       "        <tr>\n",
       "            <th>SEX</th> <th>AGE</th> <th>2019</th>\n",
       "        </tr>\n",
       "    </thead>\n",
       "    <tbody>\n",
       "        <tr>\n",
       "            <td>0   </td> <td>0   </td> <td>3783052</td>\n",
       "        </tr>\n",
       "        <tr>\n",
       "            <td>1   </td> <td>0   </td> <td>1935117</td>\n",
       "        </tr>\n",
       "        <tr>\n",
       "            <td>2   </td> <td>0   </td> <td>1847935</td>\n",
       "        </tr>\n",
       "    </tbody>\n",
       "</table>"
      ],
      "text/plain": [
       "SEX  | AGE  | 2019\n",
       "0    | 0    | 3783052\n",
       "1    | 0    | 1935117\n",
       "2    | 0    | 1847935"
      ]
     },
     "execution_count": 11,
     "metadata": {},
     "output_type": "execute_result"
    }
   ],
   "source": [
    "# let's go back to the us_pop_2019 table\n",
    "# and find all infants (less than 1 year old)\n",
    "infants = us_pop_2019.where('AGE', are.equal_to(0))\n",
    "infants"
   ]
  },
  {
   "cell_type": "code",
   "execution_count": 12,
   "metadata": {},
   "outputs": [
    {
     "data": {
      "text/html": [
       "<table border=\"1\" class=\"dataframe\">\n",
       "    <thead>\n",
       "        <tr>\n",
       "            <th>SEX</th> <th>AGE</th> <th>2019</th> <th>Proportion</th>\n",
       "        </tr>\n",
       "    </thead>\n",
       "    <tbody>\n",
       "        <tr>\n",
       "            <td>0   </td> <td>0   </td> <td>3783052</td> <td>100.00%   </td>\n",
       "        </tr>\n",
       "        <tr>\n",
       "            <td>1   </td> <td>0   </td> <td>1935117</td> <td>51.15%    </td>\n",
       "        </tr>\n",
       "        <tr>\n",
       "            <td>2   </td> <td>0   </td> <td>1847935</td> <td>48.85%    </td>\n",
       "        </tr>\n",
       "    </tbody>\n",
       "</table>"
      ],
      "text/plain": [
       "SEX  | AGE  | 2019    | Proportion\n",
       "0    | 0    | 3783052 | 100.00%\n",
       "1    | 0    | 1935117 | 51.15%\n",
       "2    | 0    | 1847935 | 48.85%"
      ]
     },
     "execution_count": 12,
     "metadata": {},
     "output_type": "execute_result"
    }
   ],
   "source": [
    "# let's add a proportion column \n",
    "# which calculates the percentage of male and female infants in the population\n",
    "infants_2019 = infants.column('2019').item(0)\n",
    "infants.with_column(\n",
    "    'Proportion', infants.column('2019')/infants_2019\n",
    ").set_format('Proportion', PercentFormatter)"
   ]
  },
  {
   "cell_type": "code",
   "execution_count": 13,
   "metadata": {},
   "outputs": [
    {
     "data": {
      "text/html": [
       "<table border=\"1\" class=\"dataframe\">\n",
       "    <thead>\n",
       "        <tr>\n",
       "            <th>SEX</th> <th>AGE</th> <th>2019</th>\n",
       "        </tr>\n",
       "    </thead>\n",
       "    <tbody>\n",
       "        <tr>\n",
       "            <td>2   </td> <td>0   </td> <td>1847935</td>\n",
       "        </tr>\n",
       "        <tr>\n",
       "            <td>2   </td> <td>1   </td> <td>1871014</td>\n",
       "        </tr>\n",
       "        <tr>\n",
       "            <td>2   </td> <td>2   </td> <td>1916500</td>\n",
       "        </tr>\n",
       "        <tr>\n",
       "            <td>2   </td> <td>3   </td> <td>1955655</td>\n",
       "        </tr>\n",
       "        <tr>\n",
       "            <td>2   </td> <td>4   </td> <td>1976372</td>\n",
       "        </tr>\n",
       "        <tr>\n",
       "            <td>2   </td> <td>5   </td> <td>1967081</td>\n",
       "        </tr>\n",
       "        <tr>\n",
       "            <td>2   </td> <td>6   </td> <td>1964271</td>\n",
       "        </tr>\n",
       "        <tr>\n",
       "            <td>2   </td> <td>7   </td> <td>1966584</td>\n",
       "        </tr>\n",
       "        <tr>\n",
       "            <td>2   </td> <td>8   </td> <td>1986471</td>\n",
       "        </tr>\n",
       "        <tr>\n",
       "            <td>2   </td> <td>9   </td> <td>1988726</td>\n",
       "        </tr>\n",
       "    </tbody>\n",
       "</table>\n",
       "<p>... (91 rows omitted)</p>"
      ],
      "text/plain": [
       "SEX  | AGE  | 2019\n",
       "2    | 0    | 1847935\n",
       "2    | 1    | 1871014\n",
       "2    | 2    | 1916500\n",
       "2    | 3    | 1955655\n",
       "2    | 4    | 1976372\n",
       "2    | 5    | 1967081\n",
       "2    | 6    | 1964271\n",
       "2    | 7    | 1966584\n",
       "2    | 8    | 1986471\n",
       "2    | 9    | 1988726\n",
       "... (91 rows omitted)"
      ]
     },
     "execution_count": 13,
     "metadata": {},
     "output_type": "execute_result"
    }
   ],
   "source": [
    "# all the females in our us_pop_2019 table\n",
    "females_all_rows = us_pop_2019.where('SEX', are.equal_to(2))\n",
    "females = females_all_rows.where('AGE', are.not_equal_to(999))\n",
    "females"
   ]
  },
  {
   "cell_type": "code",
   "execution_count": 14,
   "metadata": {},
   "outputs": [
    {
     "data": {
      "text/html": [
       "<table border=\"1\" class=\"dataframe\">\n",
       "    <thead>\n",
       "        <tr>\n",
       "            <th>SEX</th> <th>AGE</th> <th>2019</th>\n",
       "        </tr>\n",
       "    </thead>\n",
       "    <tbody>\n",
       "        <tr>\n",
       "            <td>1   </td> <td>0   </td> <td>1935117</td>\n",
       "        </tr>\n",
       "        <tr>\n",
       "            <td>1   </td> <td>1   </td> <td>1958585</td>\n",
       "        </tr>\n",
       "        <tr>\n",
       "            <td>1   </td> <td>2   </td> <td>2005544</td>\n",
       "        </tr>\n",
       "        <tr>\n",
       "            <td>1   </td> <td>3   </td> <td>2043010</td>\n",
       "        </tr>\n",
       "        <tr>\n",
       "            <td>1   </td> <td>4   </td> <td>2066951</td>\n",
       "        </tr>\n",
       "        <tr>\n",
       "            <td>1   </td> <td>5   </td> <td>2061200</td>\n",
       "        </tr>\n",
       "        <tr>\n",
       "            <td>1   </td> <td>6   </td> <td>2052956</td>\n",
       "        </tr>\n",
       "        <tr>\n",
       "            <td>1   </td> <td>7   </td> <td>2055735</td>\n",
       "        </tr>\n",
       "        <tr>\n",
       "            <td>1   </td> <td>8   </td> <td>2079723</td>\n",
       "        </tr>\n",
       "        <tr>\n",
       "            <td>1   </td> <td>9   </td> <td>2073148</td>\n",
       "        </tr>\n",
       "    </tbody>\n",
       "</table>\n",
       "<p>... (91 rows omitted)</p>"
      ],
      "text/plain": [
       "SEX  | AGE  | 2019\n",
       "1    | 0    | 1935117\n",
       "1    | 1    | 1958585\n",
       "1    | 2    | 2005544\n",
       "1    | 3    | 2043010\n",
       "1    | 4    | 2066951\n",
       "1    | 5    | 2061200\n",
       "1    | 6    | 2052956\n",
       "1    | 7    | 2055735\n",
       "1    | 8    | 2079723\n",
       "1    | 9    | 2073148\n",
       "... (91 rows omitted)"
      ]
     },
     "execution_count": 14,
     "metadata": {},
     "output_type": "execute_result"
    }
   ],
   "source": [
    "#all males in us_pop_2019\n",
    "males_all_rows = us_pop_2019.where('SEX', are.equal_to(1))\n",
    "males = males_all_rows.where('AGE', are.not_equal_to(999))\n",
    "males"
   ]
  },
  {
   "cell_type": "code",
   "execution_count": 15,
   "metadata": {},
   "outputs": [],
   "source": [
    "# instead of proportion, what if we want to measure the \n",
    "# ratio of female to male?"
   ]
  },
  {
   "cell_type": "code",
   "execution_count": 16,
   "metadata": {},
   "outputs": [
    {
     "data": {
      "text/plain": [
       "array([  0,   1,   2,   3,   4,   5,   6,   7,   8,   9,  10,  11,  12,\n",
       "        13,  14,  15,  16,  17,  18,  19,  20,  21,  22,  23,  24,  25,\n",
       "        26,  27,  28,  29,  30,  31,  32,  33,  34,  35,  36,  37,  38,\n",
       "        39,  40,  41,  42,  43,  44,  45,  46,  47,  48,  49,  50,  51,\n",
       "        52,  53,  54,  55,  56,  57,  58,  59,  60,  61,  62,  63,  64,\n",
       "        65,  66,  67,  68,  69,  70,  71,  72,  73,  74,  75,  76,  77,\n",
       "        78,  79,  80,  81,  82,  83,  84,  85,  86,  87,  88,  89,  90,\n",
       "        91,  92,  93,  94,  95,  96,  97,  98,  99, 100])"
      ]
     },
     "execution_count": 16,
     "metadata": {},
     "output_type": "execute_result"
    }
   ],
   "source": [
    "males.column('AGE')"
   ]
  },
  {
   "cell_type": "code",
   "execution_count": 17,
   "metadata": {
    "scrolled": true
   },
   "outputs": [
    {
     "data": {
      "text/plain": [
       "array([  0,   1,   2,   3,   4,   5,   6,   7,   8,   9,  10,  11,  12,\n",
       "        13,  14,  15,  16,  17,  18,  19,  20,  21,  22,  23,  24,  25,\n",
       "        26,  27,  28,  29,  30,  31,  32,  33,  34,  35,  36,  37,  38,\n",
       "        39,  40,  41,  42,  43,  44,  45,  46,  47,  48,  49,  50,  51,\n",
       "        52,  53,  54,  55,  56,  57,  58,  59,  60,  61,  62,  63,  64,\n",
       "        65,  66,  67,  68,  69,  70,  71,  72,  73,  74,  75,  76,  77,\n",
       "        78,  79,  80,  81,  82,  83,  84,  85,  86,  87,  88,  89,  90,\n",
       "        91,  92,  93,  94,  95,  96,  97,  98,  99, 100])"
      ]
     },
     "execution_count": 17,
     "metadata": {},
     "output_type": "execute_result"
    }
   ],
   "source": [
    "females.column('AGE')"
   ]
  },
  {
   "cell_type": "code",
   "execution_count": 18,
   "metadata": {},
   "outputs": [
    {
     "data": {
      "text/html": [
       "<table border=\"1\" class=\"dataframe\">\n",
       "    <thead>\n",
       "        <tr>\n",
       "            <th>AGE</th> <th>2019 F:M RATIO</th>\n",
       "        </tr>\n",
       "    </thead>\n",
       "    <tbody>\n",
       "        <tr>\n",
       "            <td>0   </td> <td>0.954947      </td>\n",
       "        </tr>\n",
       "        <tr>\n",
       "            <td>1   </td> <td>0.955289      </td>\n",
       "        </tr>\n",
       "        <tr>\n",
       "            <td>2   </td> <td>0.955601      </td>\n",
       "        </tr>\n",
       "        <tr>\n",
       "            <td>3   </td> <td>0.957242      </td>\n",
       "        </tr>\n",
       "        <tr>\n",
       "            <td>4   </td> <td>0.956177      </td>\n",
       "        </tr>\n",
       "        <tr>\n",
       "            <td>5   </td> <td>0.954338      </td>\n",
       "        </tr>\n",
       "        <tr>\n",
       "            <td>6   </td> <td>0.956801      </td>\n",
       "        </tr>\n",
       "        <tr>\n",
       "            <td>7   </td> <td>0.956633      </td>\n",
       "        </tr>\n",
       "        <tr>\n",
       "            <td>8   </td> <td>0.955161      </td>\n",
       "        </tr>\n",
       "        <tr>\n",
       "            <td>9   </td> <td>0.959278      </td>\n",
       "        </tr>\n",
       "    </tbody>\n",
       "</table>\n",
       "<p>... (91 rows omitted)</p>"
      ],
      "text/plain": [
       "AGE  | 2019 F:M RATIO\n",
       "0    | 0.954947\n",
       "1    | 0.955289\n",
       "2    | 0.955601\n",
       "3    | 0.957242\n",
       "4    | 0.956177\n",
       "5    | 0.954338\n",
       "6    | 0.956801\n",
       "7    | 0.956633\n",
       "8    | 0.955161\n",
       "9    | 0.959278\n",
       "... (91 rows omitted)"
      ]
     },
     "execution_count": 18,
     "metadata": {},
     "output_type": "execute_result"
    }
   ],
   "source": [
    "# Ratio table of Female to Male\n",
    "ratios = Table().with_columns(\n",
    "    'AGE', females.column('AGE'),\n",
    "    '2019 F:M RATIO', females.column('2019')/males.column('2019')\n",
    ")\n",
    "ratios"
   ]
  },
  {
   "cell_type": "code",
   "execution_count": 19,
   "metadata": {},
   "outputs": [
    {
     "data": {
      "text/html": [
       "<table border=\"1\" class=\"dataframe\">\n",
       "    <thead>\n",
       "        <tr>\n",
       "            <th>AGE</th> <th>2019 F:M RATIO</th>\n",
       "        </tr>\n",
       "    </thead>\n",
       "    <tbody>\n",
       "        <tr>\n",
       "            <td>76  </td> <td>1.21422       </td>\n",
       "        </tr>\n",
       "        <tr>\n",
       "            <td>77  </td> <td>1.23558       </td>\n",
       "        </tr>\n",
       "        <tr>\n",
       "            <td>78  </td> <td>1.26373       </td>\n",
       "        </tr>\n",
       "        <tr>\n",
       "            <td>79  </td> <td>1.28129       </td>\n",
       "        </tr>\n",
       "        <tr>\n",
       "            <td>80  </td> <td>1.29209       </td>\n",
       "        </tr>\n",
       "        <tr>\n",
       "            <td>81  </td> <td>1.32745       </td>\n",
       "        </tr>\n",
       "        <tr>\n",
       "            <td>82  </td> <td>1.36101       </td>\n",
       "        </tr>\n",
       "        <tr>\n",
       "            <td>83  </td> <td>1.39749       </td>\n",
       "        </tr>\n",
       "        <tr>\n",
       "            <td>84  </td> <td>1.44603       </td>\n",
       "        </tr>\n",
       "        <tr>\n",
       "            <td>85  </td> <td>1.48588       </td>\n",
       "        </tr>\n",
       "        <tr>\n",
       "            <td>86  </td> <td>1.53967       </td>\n",
       "        </tr>\n",
       "        <tr>\n",
       "            <td>87  </td> <td>1.59775       </td>\n",
       "        </tr>\n",
       "        <tr>\n",
       "            <td>88  </td> <td>1.66125       </td>\n",
       "        </tr>\n",
       "        <tr>\n",
       "            <td>89  </td> <td>1.73365       </td>\n",
       "        </tr>\n",
       "        <tr>\n",
       "            <td>90  </td> <td>1.80539       </td>\n",
       "        </tr>\n",
       "        <tr>\n",
       "            <td>91  </td> <td>1.90275       </td>\n",
       "        </tr>\n",
       "        <tr>\n",
       "            <td>92  </td> <td>1.99252       </td>\n",
       "        </tr>\n",
       "        <tr>\n",
       "            <td>93  </td> <td>2.10192       </td>\n",
       "        </tr>\n",
       "        <tr>\n",
       "            <td>94  </td> <td>2.2271        </td>\n",
       "        </tr>\n",
       "        <tr>\n",
       "            <td>95  </td> <td>2.34042       </td>\n",
       "        </tr>\n",
       "        <tr>\n",
       "            <td>96  </td> <td>2.41969       </td>\n",
       "        </tr>\n",
       "        <tr>\n",
       "            <td>97  </td> <td>2.5868        </td>\n",
       "        </tr>\n",
       "        <tr>\n",
       "            <td>98  </td> <td>2.65926       </td>\n",
       "        </tr>\n",
       "        <tr>\n",
       "            <td>99  </td> <td>2.91367       </td>\n",
       "        </tr>\n",
       "        <tr>\n",
       "            <td>100 </td> <td>3.27411       </td>\n",
       "        </tr>\n",
       "    </tbody>\n",
       "</table>"
      ],
      "text/plain": [
       "<IPython.core.display.HTML object>"
      ]
     },
     "metadata": {},
     "output_type": "display_data"
    }
   ],
   "source": [
    "ratios.where('AGE', are.above(75)).show()\n",
    "# what do you notice?"
   ]
  },
  {
   "cell_type": "code",
   "execution_count": 20,
   "metadata": {},
   "outputs": [
    {
     "data": {
      "text/html": [
       "<table border=\"1\" class=\"dataframe\">\n",
       "    <thead>\n",
       "        <tr>\n",
       "            <th>SEX</th> <th>AGE</th> <th>2019</th>\n",
       "        </tr>\n",
       "    </thead>\n",
       "    <tbody>\n",
       "        <tr>\n",
       "            <td>1   </td> <td>92  </td> <td>131684</td>\n",
       "        </tr>\n",
       "        <tr>\n",
       "            <td>1   </td> <td>93  </td> <td>103415</td>\n",
       "        </tr>\n",
       "        <tr>\n",
       "            <td>1   </td> <td>99  </td> <td>14596 </td>\n",
       "        </tr>\n",
       "    </tbody>\n",
       "</table>"
      ],
      "text/plain": [
       "SEX  | AGE  | 2019\n",
       "1    | 92   | 131684\n",
       "1    | 93   | 103415\n",
       "1    | 99   | 14596"
      ]
     },
     "execution_count": 20,
     "metadata": {},
     "output_type": "execute_result"
    }
   ],
   "source": [
    "males.where('AGE', are.contained_in(make_array(92, 93, 99)))"
   ]
  },
  {
   "cell_type": "code",
   "execution_count": 21,
   "metadata": {},
   "outputs": [
    {
     "data": {
      "text/html": [
       "<table border=\"1\" class=\"dataframe\">\n",
       "    <thead>\n",
       "        <tr>\n",
       "            <th>SEX</th> <th>AGE</th> <th>2019</th>\n",
       "        </tr>\n",
       "    </thead>\n",
       "    <tbody>\n",
       "        <tr>\n",
       "            <td>2   </td> <td>92  </td> <td>262383</td>\n",
       "        </tr>\n",
       "        <tr>\n",
       "            <td>2   </td> <td>93  </td> <td>217370</td>\n",
       "        </tr>\n",
       "        <tr>\n",
       "            <td>2   </td> <td>99  </td> <td>42528 </td>\n",
       "        </tr>\n",
       "    </tbody>\n",
       "</table>"
      ],
      "text/plain": [
       "SEX  | AGE  | 2019\n",
       "2    | 92   | 262383\n",
       "2    | 93   | 217370\n",
       "2    | 99   | 42528"
      ]
     },
     "execution_count": 21,
     "metadata": {},
     "output_type": "execute_result"
    }
   ],
   "source": [
    "females.where('AGE', are.contained_in(make_array(92, 93, 99)))"
   ]
  },
  {
   "cell_type": "code",
   "execution_count": 22,
   "metadata": {},
   "outputs": [
    {
     "data": {
      "image/png": "[encoded data removed]",
      "text/plain": [
       "<Figure size 432x432 with 1 Axes>"
      ]
     },
     "metadata": {},
     "output_type": "display_data"
    }
   ],
   "source": [
    "ratios.plot('AGE')\n"
   ]
  },
  {
   "cell_type": "code",
   "execution_count": 23,
   "metadata": {},
   "outputs": [],
   "source": [
    "# in a sentence or two, describe the relationship between age \n",
    "# and the ratio of Female:Male in the 2019 population estimate\n",
    "\n"
   ]
  },
  {
   "cell_type": "markdown",
   "metadata": {},
   "source": [
    "## Line Plots ##"
   ]
  },
  {
   "cell_type": "code",
   "execution_count": 24,
   "metadata": {},
   "outputs": [
    {
     "data": {
      "text/html": [
       "<table border=\"1\" class=\"dataframe\">\n",
       "    <thead>\n",
       "        <tr>\n",
       "            <th>SEX</th> <th>AGE</th> <th>2014</th> <th>2019</th>\n",
       "        </tr>\n",
       "    </thead>\n",
       "    <tbody>\n",
       "        <tr>\n",
       "            <td>0   </td> <td>0   </td> <td>3954787</td> <td>3783052</td>\n",
       "        </tr>\n",
       "        <tr>\n",
       "            <td>0   </td> <td>1   </td> <td>3948891</td> <td>3829599</td>\n",
       "        </tr>\n",
       "        <tr>\n",
       "            <td>0   </td> <td>2   </td> <td>3958711</td> <td>3922044</td>\n",
       "        </tr>\n",
       "        <tr>\n",
       "            <td>0   </td> <td>3   </td> <td>4005928</td> <td>3998665</td>\n",
       "        </tr>\n",
       "        <tr>\n",
       "            <td>0   </td> <td>4   </td> <td>4004032</td> <td>4043323</td>\n",
       "        </tr>\n",
       "        <tr>\n",
       "            <td>0   </td> <td>5   </td> <td>4004576</td> <td>4028281</td>\n",
       "        </tr>\n",
       "        <tr>\n",
       "            <td>0   </td> <td>6   </td> <td>4133372</td> <td>4017227</td>\n",
       "        </tr>\n",
       "        <tr>\n",
       "            <td>0   </td> <td>7   </td> <td>4152666</td> <td>4022319</td>\n",
       "        </tr>\n",
       "        <tr>\n",
       "            <td>0   </td> <td>8   </td> <td>4118349</td> <td>4066194</td>\n",
       "        </tr>\n",
       "        <tr>\n",
       "            <td>0   </td> <td>9   </td> <td>4106068</td> <td>4061874</td>\n",
       "        </tr>\n",
       "    </tbody>\n",
       "</table>\n",
       "<p>... (296 rows omitted)</p>"
      ],
      "text/plain": [
       "SEX  | AGE  | 2014    | 2019\n",
       "0    | 0    | 3954787 | 3783052\n",
       "0    | 1    | 3948891 | 3829599\n",
       "0    | 2    | 3958711 | 3922044\n",
       "0    | 3    | 4005928 | 3998665\n",
       "0    | 4    | 4004032 | 4043323\n",
       "0    | 5    | 4004576 | 4028281\n",
       "0    | 6    | 4133372 | 4017227\n",
       "0    | 7    | 4152666 | 4022319\n",
       "0    | 8    | 4118349 | 4066194\n",
       "0    | 9    | 4106068 | 4061874\n",
       "... (296 rows omitted)"
      ]
     },
     "execution_count": 24,
     "metadata": {},
     "output_type": "execute_result"
    }
   ],
   "source": [
    "us_pop"
   ]
  },
  {
   "cell_type": "code",
   "execution_count": 25,
   "metadata": {},
   "outputs": [
    {
     "data": {
      "text/html": [
       "<table border=\"1\" class=\"dataframe\">\n",
       "    <thead>\n",
       "        <tr>\n",
       "            <th>SEX</th> <th>AGE</th> <th>2014</th> <th>2019</th>\n",
       "        </tr>\n",
       "    </thead>\n",
       "    <tbody>\n",
       "        <tr>\n",
       "            <td>0   </td> <td>100 </td> <td>70685</td> <td>100322</td>\n",
       "        </tr>\n",
       "        <tr>\n",
       "            <td>1   </td> <td>100 </td> <td>13577</td> <td>23472 </td>\n",
       "        </tr>\n",
       "        <tr>\n",
       "            <td>2   </td> <td>100 </td> <td>57108</td> <td>76850 </td>\n",
       "        </tr>\n",
       "        <tr>\n",
       "            <td>0   </td> <td>99  </td> <td>41277</td> <td>57124 </td>\n",
       "        </tr>\n",
       "        <tr>\n",
       "            <td>1   </td> <td>99  </td> <td>9032 </td> <td>14596 </td>\n",
       "        </tr>\n",
       "        <tr>\n",
       "            <td>2   </td> <td>99  </td> <td>32245</td> <td>42528 </td>\n",
       "        </tr>\n",
       "        <tr>\n",
       "            <td>0   </td> <td>98  </td> <td>59546</td> <td>86150 </td>\n",
       "        </tr>\n",
       "        <tr>\n",
       "            <td>1   </td> <td>98  </td> <td>13659</td> <td>23543 </td>\n",
       "        </tr>\n",
       "        <tr>\n",
       "            <td>2   </td> <td>98  </td> <td>45887</td> <td>62607 </td>\n",
       "        </tr>\n",
       "        <tr>\n",
       "            <td>0   </td> <td>97  </td> <td>82948</td> <td>116969</td>\n",
       "        </tr>\n",
       "    </tbody>\n",
       "</table>\n",
       "<p>... (293 rows omitted)</p>"
      ],
      "text/plain": [
       "SEX  | AGE  | 2014  | 2019\n",
       "0    | 100  | 70685 | 100322\n",
       "1    | 100  | 13577 | 23472\n",
       "2    | 100  | 57108 | 76850\n",
       "0    | 99   | 41277 | 57124\n",
       "1    | 99   | 9032  | 14596\n",
       "2    | 99   | 32245 | 42528\n",
       "0    | 98   | 59546 | 86150\n",
       "1    | 98   | 13659 | 23543\n",
       "2    | 98   | 45887 | 62607\n",
       "0    | 97   | 82948 | 116969\n",
       "... (293 rows omitted)"
      ]
     },
     "execution_count": 25,
     "metadata": {},
     "output_type": "execute_result"
    }
   ],
   "source": [
    "# Remove the age totals\n",
    "no_999 = us_pop.where('AGE', are.below(999))\n",
    "no_999.sort('AGE', descending = True)"
   ]
  },
  {
   "cell_type": "code",
   "execution_count": 26,
   "metadata": {},
   "outputs": [],
   "source": [
    "# Remove male and female (keep only combined)\n",
    "everyone = no_999.where('SEX', 0).drop('SEX')"
   ]
  },
  {
   "cell_type": "code",
   "execution_count": 27,
   "metadata": {},
   "outputs": [
    {
     "data": {
      "text/html": [
       "<table border=\"1\" class=\"dataframe\">\n",
       "    <thead>\n",
       "        <tr>\n",
       "            <th>AGE</th> <th>2014</th> <th>2019</th>\n",
       "        </tr>\n",
       "    </thead>\n",
       "    <tbody>\n",
       "        <tr>\n",
       "            <td>0   </td> <td>3954787</td> <td>3783052</td>\n",
       "        </tr>\n",
       "        <tr>\n",
       "            <td>1   </td> <td>3948891</td> <td>3829599</td>\n",
       "        </tr>\n",
       "        <tr>\n",
       "            <td>2   </td> <td>3958711</td> <td>3922044</td>\n",
       "        </tr>\n",
       "        <tr>\n",
       "            <td>3   </td> <td>4005928</td> <td>3998665</td>\n",
       "        </tr>\n",
       "        <tr>\n",
       "            <td>4   </td> <td>4004032</td> <td>4043323</td>\n",
       "        </tr>\n",
       "        <tr>\n",
       "            <td>5   </td> <td>4004576</td> <td>4028281</td>\n",
       "        </tr>\n",
       "        <tr>\n",
       "            <td>6   </td> <td>4133372</td> <td>4017227</td>\n",
       "        </tr>\n",
       "        <tr>\n",
       "            <td>7   </td> <td>4152666</td> <td>4022319</td>\n",
       "        </tr>\n",
       "        <tr>\n",
       "            <td>8   </td> <td>4118349</td> <td>4066194</td>\n",
       "        </tr>\n",
       "        <tr>\n",
       "            <td>9   </td> <td>4106068</td> <td>4061874</td>\n",
       "        </tr>\n",
       "    </tbody>\n",
       "</table>\n",
       "<p>... (91 rows omitted)</p>"
      ],
      "text/plain": [
       "AGE  | 2014    | 2019\n",
       "0    | 3954787 | 3783052\n",
       "1    | 3948891 | 3829599\n",
       "2    | 3958711 | 3922044\n",
       "3    | 4005928 | 3998665\n",
       "4    | 4004032 | 4043323\n",
       "5    | 4004576 | 4028281\n",
       "6    | 4133372 | 4017227\n",
       "7    | 4152666 | 4022319\n",
       "8    | 4118349 | 4066194\n",
       "9    | 4106068 | 4061874\n",
       "... (91 rows omitted)"
      ]
     },
     "execution_count": 27,
     "metadata": {},
     "output_type": "execute_result"
    }
   ],
   "source": [
    "everyone"
   ]
  },
  {
   "cell_type": "code",
   "execution_count": 28,
   "metadata": {},
   "outputs": [
    {
     "data": {
      "image/png": "[encoded data removed]",
      "text/plain": [
       "<Figure size 432x432 with 1 Axes>"
      ]
     },
     "metadata": {},
     "output_type": "display_data"
    }
   ],
   "source": [
    "everyone.plot('AGE', '2014')"
   ]
  },
  {
   "cell_type": "code",
   "execution_count": 29,
   "metadata": {},
   "outputs": [],
   "source": [
    "# ^^ That plot should be labeled! Here are 3 ways to label it:"
   ]
  },
  {
   "cell_type": "code",
   "execution_count": 30,
   "metadata": {},
   "outputs": [
    {
     "data": {
      "image/png": "[encoded data removed]",
      "text/plain": [
       "<Figure size 432x432 with 1 Axes>"
      ]
     },
     "metadata": {},
     "output_type": "display_data"
    }
   ],
   "source": [
    "# US Population  <--- Just add a comment\n",
    "\n",
    "everyone.plot('AGE', '2014')"
   ]
  },
  {
   "cell_type": "code",
   "execution_count": null,
   "metadata": {},
   "outputs": [],
   "source": []
  },
  {
   "cell_type": "code",
   "execution_count": 31,
   "metadata": {},
   "outputs": [
    {
     "name": "stdout",
     "output_type": "stream",
     "text": [
      "US Population\n"
     ]
    },
    {
     "data": {
      "image/png": "[encoded data removed]",
      "text/plain": [
       "<Figure size 432x432 with 1 Axes>"
      ]
     },
     "metadata": {},
     "output_type": "display_data"
    }
   ],
   "source": [
    "everyone.plot('AGE', '2014')\n",
    "print('US Population')  # <--- Print out what it is"
   ]
  },
  {
   "cell_type": "code",
   "execution_count": null,
   "metadata": {},
   "outputs": [],
   "source": []
  },
  {
   "cell_type": "code",
   "execution_count": 32,
   "metadata": {},
   "outputs": [
    {
     "data": {
      "image/png": "[encoded data removed]",
      "text/plain": [
       "<Figure size 432x432 with 1 Axes>"
      ]
     },
     "metadata": {},
     "output_type": "display_data"
    }
   ],
   "source": [
    "everyone.plot('AGE', '2014')\n",
    "plots.title('US Population');    # <--- OPTIONAL; not needed for DS1"
   ]
  },
  {
   "cell_type": "code",
   "execution_count": 33,
   "metadata": {},
   "outputs": [
    {
     "data": {
      "image/png": "[encoded data removed]",
      "text/plain": [
       "<Figure size 432x432 with 1 Axes>"
      ]
     },
     "metadata": {},
     "output_type": "display_data"
    }
   ],
   "source": [
    "# Age distribution for two different years\n",
    "everyone.plot('AGE')"
   ]
  },
  {
   "cell_type": "markdown",
   "metadata": {},
   "source": [
    "## Males and Females in 2019 ##"
   ]
  },
  {
   "cell_type": "code",
   "execution_count": 34,
   "metadata": {},
   "outputs": [],
   "source": [
    "# Let's compare male and female counts per age\n",
    "males = no_999.where('SEX', 1).drop('SEX')\n",
    "females = no_999.where('SEX', 2).drop('SEX')"
   ]
  },
  {
   "cell_type": "code",
   "execution_count": 35,
   "metadata": {},
   "outputs": [
    {
     "data": {
      "text/html": [
       "<table border=\"1\" class=\"dataframe\">\n",
       "    <thead>\n",
       "        <tr>\n",
       "            <th>Age</th> <th>Males</th> <th>Females</th>\n",
       "        </tr>\n",
       "    </thead>\n",
       "    <tbody>\n",
       "        <tr>\n",
       "            <td>0   </td> <td>1935117</td> <td>1847935</td>\n",
       "        </tr>\n",
       "        <tr>\n",
       "            <td>1   </td> <td>1958585</td> <td>1871014</td>\n",
       "        </tr>\n",
       "        <tr>\n",
       "            <td>2   </td> <td>2005544</td> <td>1916500</td>\n",
       "        </tr>\n",
       "        <tr>\n",
       "            <td>3   </td> <td>2043010</td> <td>1955655</td>\n",
       "        </tr>\n",
       "        <tr>\n",
       "            <td>4   </td> <td>2066951</td> <td>1976372</td>\n",
       "        </tr>\n",
       "        <tr>\n",
       "            <td>5   </td> <td>2061200</td> <td>1967081</td>\n",
       "        </tr>\n",
       "        <tr>\n",
       "            <td>6   </td> <td>2052956</td> <td>1964271</td>\n",
       "        </tr>\n",
       "        <tr>\n",
       "            <td>7   </td> <td>2055735</td> <td>1966584</td>\n",
       "        </tr>\n",
       "        <tr>\n",
       "            <td>8   </td> <td>2079723</td> <td>1986471</td>\n",
       "        </tr>\n",
       "        <tr>\n",
       "            <td>9   </td> <td>2073148</td> <td>1988726</td>\n",
       "        </tr>\n",
       "    </tbody>\n",
       "</table>\n",
       "<p>... (91 rows omitted)</p>"
      ],
      "text/plain": [
       "Age  | Males   | Females\n",
       "0    | 1935117 | 1847935\n",
       "1    | 1958585 | 1871014\n",
       "2    | 2005544 | 1916500\n",
       "3    | 2043010 | 1955655\n",
       "4    | 2066951 | 1976372\n",
       "5    | 2061200 | 1967081\n",
       "6    | 2052956 | 1964271\n",
       "7    | 2055735 | 1966584\n",
       "8    | 2079723 | 1986471\n",
       "9    | 2073148 | 1988726\n",
       "... (91 rows omitted)"
      ]
     },
     "execution_count": 35,
     "metadata": {},
     "output_type": "execute_result"
    }
   ],
   "source": [
    "pop_2019 = Table().with_columns(\n",
    "    'Age', males.column('AGE'),\n",
    "    'Males', males.column('2019'),\n",
    "    'Females', females.column('2019')\n",
    ")\n",
    "pop_2019"
   ]
  },
  {
   "cell_type": "code",
   "execution_count": 36,
   "metadata": {},
   "outputs": [
    {
     "data": {
      "image/png": "[encoded data removed]",
      "text/plain": [
       "<Figure size 432x432 with 1 Axes>"
      ]
     },
     "metadata": {},
     "output_type": "display_data"
    }
   ],
   "source": [
    "pop_2019.plot('Age')"
   ]
  },
  {
   "cell_type": "code",
   "execution_count": 37,
   "metadata": {},
   "outputs": [
    {
     "data": {
      "text/plain": [
       "array([48.84772929, 48.85665575, 48.86482661, 48.90769794, 48.87989409,\n",
       "       48.83177216, 48.89619133, 48.891796  , 48.85332574, 48.96079987,\n",
       "       48.98279709, 48.9638626 , 48.91584353, 48.91319525, 48.95759569,\n",
       "       48.99435008, 49.0132324 , 49.00202176, 48.95504446, 48.85543937,\n",
       "       48.86882703, 48.87982978, 48.93202059, 48.82680386, 48.75770556,\n",
       "       48.75912579, 48.69284051, 48.8521968 , 49.12023409, 49.23570746,\n",
       "       49.27026013, 49.32986637, 49.3410954 , 49.39558621, 49.56983336,\n",
       "       49.77550276, 49.88230838, 49.98809984, 50.07964091, 49.90289454,\n",
       "       50.14599374, 50.21453868, 50.37201166, 50.35627549, 50.26558532,\n",
       "       50.48105622, 50.6527532 , 50.58644103, 50.62378332, 50.44245948,\n",
       "       50.55924807, 50.63152682, 50.80644073, 50.81350976, 50.89171017,\n",
       "       51.13603295, 51.27000222, 51.3678543 , 51.52798838, 51.46621264,\n",
       "       51.73196183, 51.88924675, 52.0955001 , 52.30730655, 52.43632704,\n",
       "       52.7518302 , 52.90614966, 53.01219217, 53.24642988, 53.25131448,\n",
       "       53.38673971, 53.44342011, 53.51884397, 53.96008367, 54.26079774,\n",
       "       54.58325259, 54.83740042, 55.26879898, 55.82505287, 56.16506939,\n",
       "       56.37174824, 57.03456976, 57.64532067, 58.28968285, 59.11738345,\n",
       "       59.77286992, 60.62480885, 61.50518087, 62.42365712, 63.41893324,\n",
       "       64.35435374, 65.54994734, 66.5833475 , 67.7618966 , 69.01243771,\n",
       "       70.06364506, 70.7575748 , 72.11996341, 72.67208358, 74.44856803,\n",
       "       76.60333725])"
      ]
     },
     "execution_count": 37,
     "metadata": {},
     "output_type": "execute_result"
    }
   ],
   "source": [
    "# Calculate the percent female for each age\n",
    "total = pop_2019.column('Males') + pop_2019.column('Females')\n",
    "pct_female = pop_2019.column('Females') / total * 100\n",
    "pct_female"
   ]
  },
  {
   "cell_type": "code",
   "execution_count": 38,
   "metadata": {},
   "outputs": [
    {
     "data": {
      "text/plain": [
       "array([48.848, 48.857, 48.865, 48.908, 48.88 , 48.832, 48.896, 48.892,\n",
       "       48.853, 48.961, 48.983, 48.964, 48.916, 48.913, 48.958, 48.994,\n",
       "       49.013, 49.002, 48.955, 48.855, 48.869, 48.88 , 48.932, 48.827,\n",
       "       48.758, 48.759, 48.693, 48.852, 49.12 , 49.236, 49.27 , 49.33 ,\n",
       "       49.341, 49.396, 49.57 , 49.776, 49.882, 49.988, 50.08 , 49.903,\n",
       "       50.146, 50.215, 50.372, 50.356, 50.266, 50.481, 50.653, 50.586,\n",
       "       50.624, 50.442, 50.559, 50.632, 50.806, 50.814, 50.892, 51.136,\n",
       "       51.27 , 51.368, 51.528, 51.466, 51.732, 51.889, 52.096, 52.307,\n",
       "       52.436, 52.752, 52.906, 53.012, 53.246, 53.251, 53.387, 53.443,\n",
       "       53.519, 53.96 , 54.261, 54.583, 54.837, 55.269, 55.825, 56.165,\n",
       "       56.372, 57.035, 57.645, 58.29 , 59.117, 59.773, 60.625, 61.505,\n",
       "       62.424, 63.419, 64.354, 65.55 , 66.583, 67.762, 69.012, 70.064,\n",
       "       70.758, 72.12 , 72.672, 74.449, 76.603])"
      ]
     },
     "execution_count": 38,
     "metadata": {},
     "output_type": "execute_result"
    }
   ],
   "source": [
    "# Round it to 3 so that it's easier to read\n",
    "pct_female = np.round(pct_female, 3)\n",
    "pct_female"
   ]
  },
  {
   "cell_type": "code",
   "execution_count": 39,
   "metadata": {},
   "outputs": [
    {
     "data": {
      "text/html": [
       "<table border=\"1\" class=\"dataframe\">\n",
       "    <thead>\n",
       "        <tr>\n",
       "            <th>Age</th> <th>Males</th> <th>Females</th> <th>Percent female</th>\n",
       "        </tr>\n",
       "    </thead>\n",
       "    <tbody>\n",
       "        <tr>\n",
       "            <td>0   </td> <td>1935117</td> <td>1847935</td> <td>48.848        </td>\n",
       "        </tr>\n",
       "        <tr>\n",
       "            <td>1   </td> <td>1958585</td> <td>1871014</td> <td>48.857        </td>\n",
       "        </tr>\n",
       "        <tr>\n",
       "            <td>2   </td> <td>2005544</td> <td>1916500</td> <td>48.865        </td>\n",
       "        </tr>\n",
       "        <tr>\n",
       "            <td>3   </td> <td>2043010</td> <td>1955655</td> <td>48.908        </td>\n",
       "        </tr>\n",
       "        <tr>\n",
       "            <td>4   </td> <td>2066951</td> <td>1976372</td> <td>48.88         </td>\n",
       "        </tr>\n",
       "        <tr>\n",
       "            <td>5   </td> <td>2061200</td> <td>1967081</td> <td>48.832        </td>\n",
       "        </tr>\n",
       "        <tr>\n",
       "            <td>6   </td> <td>2052956</td> <td>1964271</td> <td>48.896        </td>\n",
       "        </tr>\n",
       "        <tr>\n",
       "            <td>7   </td> <td>2055735</td> <td>1966584</td> <td>48.892        </td>\n",
       "        </tr>\n",
       "        <tr>\n",
       "            <td>8   </td> <td>2079723</td> <td>1986471</td> <td>48.853        </td>\n",
       "        </tr>\n",
       "        <tr>\n",
       "            <td>9   </td> <td>2073148</td> <td>1988726</td> <td>48.961        </td>\n",
       "        </tr>\n",
       "    </tbody>\n",
       "</table>\n",
       "<p>... (91 rows omitted)</p>"
      ],
      "text/plain": [
       "Age  | Males   | Females | Percent female\n",
       "0    | 1935117 | 1847935 | 48.848\n",
       "1    | 1958585 | 1871014 | 48.857\n",
       "2    | 2005544 | 1916500 | 48.865\n",
       "3    | 2043010 | 1955655 | 48.908\n",
       "4    | 2066951 | 1976372 | 48.88\n",
       "5    | 2061200 | 1967081 | 48.832\n",
       "6    | 2052956 | 1964271 | 48.896\n",
       "7    | 2055735 | 1966584 | 48.892\n",
       "8    | 2079723 | 1986471 | 48.853\n",
       "9    | 2073148 | 1988726 | 48.961\n",
       "... (91 rows omitted)"
      ]
     },
     "execution_count": 39,
     "metadata": {},
     "output_type": "execute_result"
    }
   ],
   "source": [
    "# Add female percent to our table\n",
    "pop_2019 = pop_2019.with_column('Percent female', pct_female)\n",
    "pop_2019"
   ]
  },
  {
   "cell_type": "code",
   "execution_count": 40,
   "metadata": {},
   "outputs": [
    {
     "data": {
      "image/png": "[encoded data removed]",
      "text/plain": [
       "<Figure size 432x432 with 1 Axes>"
      ]
     },
     "metadata": {},
     "output_type": "display_data"
    }
   ],
   "source": [
    "pop_2019.plot('Age', 'Percent female')"
   ]
  },
  {
   "cell_type": "code",
   "execution_count": 41,
   "metadata": {},
   "outputs": [
    {
     "data": {
      "image/png": "[encoded data removed]",
      "text/plain": [
       "<Figure size 432x432 with 1 Axes>"
      ]
     },
     "metadata": {},
     "output_type": "display_data"
    }
   ],
   "source": [
    "# ^^ Look at the y-axis! Trend is not as dramatic as you might think\n",
    "pop_2019.plot('Age', 'Percent female')\n",
    "plots.ylim(0, 100);  # Optional for DS 1"
   ]
  },
  {
   "cell_type": "markdown",
   "metadata": {},
   "source": [
    "## Scatter Plots ##"
   ]
  },
  {
   "cell_type": "code",
   "execution_count": 42,
   "metadata": {},
   "outputs": [
    {
     "data": {
      "text/html": [
       "<table border=\"1\" class=\"dataframe\">\n",
       "    <thead>\n",
       "        <tr>\n",
       "            <th>Actor</th> <th>Total Gross</th> <th>Number of Movies</th> <th>Average per Movie</th> <th>#1 Movie</th> <th>Gross</th>\n",
       "        </tr>\n",
       "    </thead>\n",
       "    <tbody>\n",
       "        <tr>\n",
       "            <td>Harrison Ford     </td> <td>4871.7     </td> <td>41              </td> <td>118.8            </td> <td>Star Wars: The Force Awakens</td> <td>936.7</td>\n",
       "        </tr>\n",
       "        <tr>\n",
       "            <td>Samuel L. Jackson </td> <td>4772.8     </td> <td>69              </td> <td>69.2             </td> <td>The Avengers                </td> <td>623.4</td>\n",
       "        </tr>\n",
       "        <tr>\n",
       "            <td>Morgan Freeman    </td> <td>4468.3     </td> <td>61              </td> <td>73.3             </td> <td>The Dark Knight             </td> <td>534.9</td>\n",
       "        </tr>\n",
       "        <tr>\n",
       "            <td>Tom Hanks         </td> <td>4340.8     </td> <td>44              </td> <td>98.7             </td> <td>Toy Story 3                 </td> <td>415  </td>\n",
       "        </tr>\n",
       "        <tr>\n",
       "            <td>Robert Downey, Jr.</td> <td>3947.3     </td> <td>53              </td> <td>74.5             </td> <td>The Avengers                </td> <td>623.4</td>\n",
       "        </tr>\n",
       "        <tr>\n",
       "            <td>Eddie Murphy      </td> <td>3810.4     </td> <td>38              </td> <td>100.3            </td> <td>Shrek 2                     </td> <td>441.2</td>\n",
       "        </tr>\n",
       "        <tr>\n",
       "            <td>Tom Cruise        </td> <td>3587.2     </td> <td>36              </td> <td>99.6             </td> <td>War of the Worlds           </td> <td>234.3</td>\n",
       "        </tr>\n",
       "        <tr>\n",
       "            <td>Johnny Depp       </td> <td>3368.6     </td> <td>45              </td> <td>74.9             </td> <td>Dead Man's Chest            </td> <td>423.3</td>\n",
       "        </tr>\n",
       "        <tr>\n",
       "            <td>Michael Caine     </td> <td>3351.5     </td> <td>58              </td> <td>57.8             </td> <td>The Dark Knight             </td> <td>534.9</td>\n",
       "        </tr>\n",
       "        <tr>\n",
       "            <td>Scarlett Johansson</td> <td>3341.2     </td> <td>37              </td> <td>90.3             </td> <td>The Avengers                </td> <td>623.4</td>\n",
       "        </tr>\n",
       "    </tbody>\n",
       "</table>\n",
       "<p>... (40 rows omitted)</p>"
      ],
      "text/plain": [
       "Actor              | Total Gross | Number of Movies | Average per Movie | #1 Movie                     | Gross\n",
       "Harrison Ford      | 4871.7      | 41               | 118.8             | Star Wars: The Force Awakens | 936.7\n",
       "Samuel L. Jackson  | 4772.8      | 69               | 69.2              | The Avengers                 | 623.4\n",
       "Morgan Freeman     | 4468.3      | 61               | 73.3              | The Dark Knight              | 534.9\n",
       "Tom Hanks          | 4340.8      | 44               | 98.7              | Toy Story 3                  | 415\n",
       "Robert Downey, Jr. | 3947.3      | 53               | 74.5              | The Avengers                 | 623.4\n",
       "Eddie Murphy       | 3810.4      | 38               | 100.3             | Shrek 2                      | 441.2\n",
       "Tom Cruise         | 3587.2      | 36               | 99.6              | War of the Worlds            | 234.3\n",
       "Johnny Depp        | 3368.6      | 45               | 74.9              | Dead Man's Chest             | 423.3\n",
       "Michael Caine      | 3351.5      | 58               | 57.8              | The Dark Knight              | 534.9\n",
       "Scarlett Johansson | 3341.2      | 37               | 90.3              | The Avengers                 | 623.4\n",
       "... (40 rows omitted)"
      ]
     },
     "execution_count": 42,
     "metadata": {},
     "output_type": "execute_result"
    }
   ],
   "source": [
    "# Actors and their highest grossing movies\n",
    "actors = Table.read_table('data/actors.csv')\n",
    "actors"
   ]
  },
  {
   "cell_type": "code",
   "execution_count": 43,
   "metadata": {},
   "outputs": [
    {
     "data": {
      "image/png": "[encoded data removed]",
      "text/plain": [
       "<Figure size 360x360 with 1 Axes>"
      ]
     },
     "metadata": {},
     "output_type": "display_data"
    }
   ],
   "source": [
    "actors.scatter('Number of Movies', 'Total Gross')"
   ]
  },
  {
   "cell_type": "code",
   "execution_count": 44,
   "metadata": {},
   "outputs": [
    {
     "name": "stdout",
     "output_type": "stream",
     "text": [
      "Help on function scatter in module datascience.tables:\n",
      "\n",
      "scatter(self, column_for_x, select=None, overlay=True, fit_line=False, group=None, labels=None, sizes=None, width=None, height=None, s=20, **vargs)\n",
      "    Creates scatterplots, optionally adding a line of best fit. Redirects to ``Table#iscatter``\n",
      "    if interactive plots are enabled with ``Table#interactive_plots``\n",
      "    \n",
      "    args:\n",
      "        ``column_for_x`` (``str``): the column to use for the x-axis values\n",
      "            and label of the scatter plots.\n",
      "    \n",
      "    kwargs:\n",
      "        ``overlay`` (``bool``): if true, creates a chart with one color\n",
      "            per data column; if false, each plot will be displayed separately.\n",
      "    \n",
      "        ``fit_line`` (``bool``): draw a line of best fit for each set of points.\n",
      "    \n",
      "        ``vargs``: additional arguments that get passed into `plt.scatter`.\n",
      "            see http://matplotlib.org/api/pyplot_api.html#matplotlib.pyplot.scatter\n",
      "            for additional arguments that can be passed into vargs. these\n",
      "            include: `marker` and `norm`, to name a couple.\n",
      "    \n",
      "        ``group``: a column of categories to be used for coloring dots per\n",
      "            each category grouping.\n",
      "    \n",
      "        ``labels``: a column of text labels to annotate dots.\n",
      "    \n",
      "        ``sizes``:  a column of values to set the relative areas of dots.\n",
      "    \n",
      "        ``s``: size of dots. if sizes is also provided, then dots will be\n",
      "            in the range 0 to 2 * s.\n",
      "    \n",
      "        ``colors``: (deprecated) A synonym for ``group``. Retained\n",
      "            temporarily for backwards compatibility. This argument\n",
      "            will be removed in future releases.\n",
      "    \n",
      "        ``show`` (``bool``): whether to show the figure if using interactive plots; if false, \n",
      "            the figure is returned instead\n",
      "    \n",
      "    Raises:\n",
      "        ValueError -- Every column, ``column_for_x`` or ``select``, must be numerical\n",
      "    \n",
      "    Returns:\n",
      "        Scatter plot of values of ``column_for_x`` plotted against\n",
      "        values for all other columns in self. Each plot uses the values in\n",
      "        `column_for_x` for horizontal positions. One plot is produced for\n",
      "        all other columns in self as y (or for the columns designated by\n",
      "        `select`).\n",
      "    \n",
      "    \n",
      "    >>> table = Table().with_columns(\n",
      "    ...     'x', make_array(9, 3, 3, 1),\n",
      "    ...     'y', make_array(1, 2, 2, 10),\n",
      "    ...     'z', make_array(3, 4, 5, 6))\n",
      "    >>> table\n",
      "    x    | y    | z\n",
      "    9    | 1    | 3\n",
      "    3    | 2    | 4\n",
      "    3    | 2    | 5\n",
      "    1    | 10   | 6\n",
      "    >>> table.scatter('x') # doctest: +SKIP\n",
      "    <scatterplot of values in y and z on x>\n",
      "    \n",
      "    >>> table.scatter('x', overlay=False) # doctest: +SKIP\n",
      "    <scatterplot of values in y on x>\n",
      "    <scatterplot of values in z on x>\n",
      "    \n",
      "    >>> table.scatter('x', fit_line=True) # doctest: +SKIP\n",
      "    <scatterplot of values in y and z on x with lines of best fit>\n",
      "\n"
     ]
    }
   ],
   "source": [
    "help(Table.scatter)"
   ]
  },
  {
   "cell_type": "code",
   "execution_count": 45,
   "metadata": {},
   "outputs": [
    {
     "data": {
      "image/png": "[encoded data removed]",
      "text/plain": [
       "<Figure size 360x360 with 1 Axes>"
      ]
     },
     "metadata": {},
     "output_type": "display_data"
    }
   ],
   "source": [
    "actors.scatter('Number of Movies', 'Average per Movie')"
   ]
  },
  {
   "cell_type": "code",
   "execution_count": 46,
   "metadata": {},
   "outputs": [
    {
     "data": {
      "text/html": [
       "<table border=\"1\" class=\"dataframe\">\n",
       "    <thead>\n",
       "        <tr>\n",
       "            <th>Actor</th> <th>Total Gross</th> <th>Number of Movies</th> <th>Average per Movie</th> <th>#1 Movie</th> <th>Gross</th>\n",
       "        </tr>\n",
       "    </thead>\n",
       "    <tbody>\n",
       "        <tr>\n",
       "            <td>Anthony Daniels</td> <td>3162.9     </td> <td>7               </td> <td>451.8            </td> <td>Star Wars: The Force Awakens</td> <td>936.7</td>\n",
       "        </tr>\n",
       "    </tbody>\n",
       "</table>"
      ],
      "text/plain": [
       "Actor           | Total Gross | Number of Movies | Average per Movie | #1 Movie                     | Gross\n",
       "Anthony Daniels | 3162.9      | 7                | 451.8             | Star Wars: The Force Awakens | 936.7"
      ]
     },
     "execution_count": 46,
     "metadata": {},
     "output_type": "execute_result"
    }
   ],
   "source": [
    "actors.where('Average per Movie', are.above(400))"
   ]
  },
  {
   "cell_type": "code",
   "execution_count": 47,
   "metadata": {},
   "outputs": [
    {
     "data": {
      "text/html": [
       "<table border=\"1\" class=\"dataframe\">\n",
       "    <thead>\n",
       "        <tr>\n",
       "            <th>Actor</th> <th>Total Gross</th> <th>Number of Movies</th> <th>Average per Movie</th> <th>#1 Movie</th> <th>Gross</th>\n",
       "        </tr>\n",
       "    </thead>\n",
       "    <tbody>\n",
       "        <tr>\n",
       "            <td>Harrison Ford     </td> <td>4871.7     </td> <td>41              </td> <td>118.8            </td> <td>Star Wars: The Force Awakens</td> <td>936.7</td>\n",
       "        </tr>\n",
       "        <tr>\n",
       "            <td>Samuel L. Jackson </td> <td>4772.8     </td> <td>69              </td> <td>69.2             </td> <td>The Avengers                </td> <td>623.4</td>\n",
       "        </tr>\n",
       "        <tr>\n",
       "            <td>Morgan Freeman    </td> <td>4468.3     </td> <td>61              </td> <td>73.3             </td> <td>The Dark Knight             </td> <td>534.9</td>\n",
       "        </tr>\n",
       "        <tr>\n",
       "            <td>Tom Hanks         </td> <td>4340.8     </td> <td>44              </td> <td>98.7             </td> <td>Toy Story 3                 </td> <td>415  </td>\n",
       "        </tr>\n",
       "        <tr>\n",
       "            <td>Robert Downey, Jr.</td> <td>3947.3     </td> <td>53              </td> <td>74.5             </td> <td>The Avengers                </td> <td>623.4</td>\n",
       "        </tr>\n",
       "        <tr>\n",
       "            <td>Eddie Murphy      </td> <td>3810.4     </td> <td>38              </td> <td>100.3            </td> <td>Shrek 2                     </td> <td>441.2</td>\n",
       "        </tr>\n",
       "        <tr>\n",
       "            <td>Tom Cruise        </td> <td>3587.2     </td> <td>36              </td> <td>99.6             </td> <td>War of the Worlds           </td> <td>234.3</td>\n",
       "        </tr>\n",
       "        <tr>\n",
       "            <td>Johnny Depp       </td> <td>3368.6     </td> <td>45              </td> <td>74.9             </td> <td>Dead Man's Chest            </td> <td>423.3</td>\n",
       "        </tr>\n",
       "        <tr>\n",
       "            <td>Michael Caine     </td> <td>3351.5     </td> <td>58              </td> <td>57.8             </td> <td>The Dark Knight             </td> <td>534.9</td>\n",
       "        </tr>\n",
       "        <tr>\n",
       "            <td>Scarlett Johansson</td> <td>3341.2     </td> <td>37              </td> <td>90.3             </td> <td>The Avengers                </td> <td>623.4</td>\n",
       "        </tr>\n",
       "    </tbody>\n",
       "</table>\n",
       "<p>... (40 rows omitted)</p>"
      ],
      "text/plain": [
       "Actor              | Total Gross | Number of Movies | Average per Movie | #1 Movie                     | Gross\n",
       "Harrison Ford      | 4871.7      | 41               | 118.8             | Star Wars: The Force Awakens | 936.7\n",
       "Samuel L. Jackson  | 4772.8      | 69               | 69.2              | The Avengers                 | 623.4\n",
       "Morgan Freeman     | 4468.3      | 61               | 73.3              | The Dark Knight              | 534.9\n",
       "Tom Hanks          | 4340.8      | 44               | 98.7              | Toy Story 3                  | 415\n",
       "Robert Downey, Jr. | 3947.3      | 53               | 74.5              | The Avengers                 | 623.4\n",
       "Eddie Murphy       | 3810.4      | 38               | 100.3             | Shrek 2                      | 441.2\n",
       "Tom Cruise         | 3587.2      | 36               | 99.6              | War of the Worlds            | 234.3\n",
       "Johnny Depp        | 3368.6      | 45               | 74.9              | Dead Man's Chest             | 423.3\n",
       "Michael Caine      | 3351.5      | 58               | 57.8              | The Dark Knight              | 534.9\n",
       "Scarlett Johansson | 3341.2      | 37               | 90.3              | The Avengers                 | 623.4\n",
       "... (40 rows omitted)"
      ]
     },
     "execution_count": 47,
     "metadata": {},
     "output_type": "execute_result"
    }
   ],
   "source": [
    "actors.sort('Total Gross', descending = True)"
   ]
  },
  {
   "cell_type": "markdown",
   "metadata": {},
   "source": [
    "## Bar Charts ##"
   ]
  },
  {
   "cell_type": "code",
   "execution_count": 48,
   "metadata": {
    "scrolled": true
   },
   "outputs": [
    {
     "data": {
      "text/html": [
       "<table border=\"1\" class=\"dataframe\">\n",
       "    <thead>\n",
       "        <tr>\n",
       "            <th>Title</th> <th>Studio</th> <th>Gross</th> <th>Gross (Adjusted)</th> <th>Year</th>\n",
       "        </tr>\n",
       "    </thead>\n",
       "    <tbody>\n",
       "        <tr>\n",
       "            <td>Gone with the Wind              </td> <td>MGM            </td> <td>198676459</td> <td>1796176700      </td> <td>1939</td>\n",
       "        </tr>\n",
       "        <tr>\n",
       "            <td>Star Wars                       </td> <td>Fox            </td> <td>460998007</td> <td>1583483200      </td> <td>1977</td>\n",
       "        </tr>\n",
       "        <tr>\n",
       "            <td>The Sound of Music              </td> <td>Fox            </td> <td>158671368</td> <td>1266072700      </td> <td>1965</td>\n",
       "        </tr>\n",
       "        <tr>\n",
       "            <td>E.T.: The Extra-Terrestrial     </td> <td>Universal      </td> <td>435110554</td> <td>1261085000      </td> <td>1982</td>\n",
       "        </tr>\n",
       "        <tr>\n",
       "            <td>Titanic                         </td> <td>Paramount      </td> <td>658672302</td> <td>1204368000      </td> <td>1997</td>\n",
       "        </tr>\n",
       "        <tr>\n",
       "            <td>The Ten Commandments            </td> <td>Paramount      </td> <td>65500000 </td> <td>1164590000      </td> <td>1956</td>\n",
       "        </tr>\n",
       "        <tr>\n",
       "            <td>Jaws                            </td> <td>Universal      </td> <td>260000000</td> <td>1138620700      </td> <td>1975</td>\n",
       "        </tr>\n",
       "        <tr>\n",
       "            <td>Doctor Zhivago                  </td> <td>MGM            </td> <td>111721910</td> <td>1103564200      </td> <td>1965</td>\n",
       "        </tr>\n",
       "        <tr>\n",
       "            <td>The Exorcist                    </td> <td>Warner Brothers</td> <td>232906145</td> <td>983226600       </td> <td>1973</td>\n",
       "        </tr>\n",
       "        <tr>\n",
       "            <td>Snow White and the Seven Dwarves</td> <td>Disney         </td> <td>184925486</td> <td>969010000       </td> <td>1937</td>\n",
       "        </tr>\n",
       "    </tbody>\n",
       "</table>\n",
       "<p>... (190 rows omitted)</p>"
      ],
      "text/plain": [
       "Title                            | Studio          | Gross     | Gross (Adjusted) | Year\n",
       "Gone with the Wind               | MGM             | 198676459 | 1796176700       | 1939\n",
       "Star Wars                        | Fox             | 460998007 | 1583483200       | 1977\n",
       "The Sound of Music               | Fox             | 158671368 | 1266072700       | 1965\n",
       "E.T.: The Extra-Terrestrial      | Universal       | 435110554 | 1261085000       | 1982\n",
       "Titanic                          | Paramount       | 658672302 | 1204368000       | 1997\n",
       "The Ten Commandments             | Paramount       | 65500000  | 1164590000       | 1956\n",
       "Jaws                             | Universal       | 260000000 | 1138620700       | 1975\n",
       "Doctor Zhivago                   | MGM             | 111721910 | 1103564200       | 1965\n",
       "The Exorcist                     | Warner Brothers | 232906145 | 983226600        | 1973\n",
       "Snow White and the Seven Dwarves | Disney          | 184925486 | 969010000        | 1937\n",
       "... (190 rows omitted)"
      ]
     },
     "execution_count": 48,
     "metadata": {},
     "output_type": "execute_result"
    }
   ],
   "source": [
    "# Highest grossing movies as of 2017\n",
    "top_movies = Table.read_table('data/top_movies_2017.csv')\n",
    "top_movies"
   ]
  },
  {
   "cell_type": "code",
   "execution_count": 49,
   "metadata": {},
   "outputs": [
    {
     "data": {
      "text/html": [
       "<table border=\"1\" class=\"dataframe\">\n",
       "    <thead>\n",
       "        <tr>\n",
       "            <th>Title</th> <th>Studio</th> <th>Gross</th> <th>Gross (Adjusted)</th> <th>Year</th>\n",
       "        </tr>\n",
       "    </thead>\n",
       "    <tbody>\n",
       "        <tr>\n",
       "            <td>Gone with the Wind              </td> <td>MGM            </td> <td>198676459</td> <td>1796176700      </td> <td>1939</td>\n",
       "        </tr>\n",
       "        <tr>\n",
       "            <td>Star Wars                       </td> <td>Fox            </td> <td>460998007</td> <td>1583483200      </td> <td>1977</td>\n",
       "        </tr>\n",
       "        <tr>\n",
       "            <td>The Sound of Music              </td> <td>Fox            </td> <td>158671368</td> <td>1266072700      </td> <td>1965</td>\n",
       "        </tr>\n",
       "        <tr>\n",
       "            <td>E.T.: The Extra-Terrestrial     </td> <td>Universal      </td> <td>435110554</td> <td>1261085000      </td> <td>1982</td>\n",
       "        </tr>\n",
       "        <tr>\n",
       "            <td>Titanic                         </td> <td>Paramount      </td> <td>658672302</td> <td>1204368000      </td> <td>1997</td>\n",
       "        </tr>\n",
       "        <tr>\n",
       "            <td>The Ten Commandments            </td> <td>Paramount      </td> <td>65500000 </td> <td>1164590000      </td> <td>1956</td>\n",
       "        </tr>\n",
       "        <tr>\n",
       "            <td>Jaws                            </td> <td>Universal      </td> <td>260000000</td> <td>1138620700      </td> <td>1975</td>\n",
       "        </tr>\n",
       "        <tr>\n",
       "            <td>Doctor Zhivago                  </td> <td>MGM            </td> <td>111721910</td> <td>1103564200      </td> <td>1965</td>\n",
       "        </tr>\n",
       "        <tr>\n",
       "            <td>The Exorcist                    </td> <td>Warner Brothers</td> <td>232906145</td> <td>983226600       </td> <td>1973</td>\n",
       "        </tr>\n",
       "        <tr>\n",
       "            <td>Snow White and the Seven Dwarves</td> <td>Disney         </td> <td>184925486</td> <td>969010000       </td> <td>1937</td>\n",
       "        </tr>\n",
       "    </tbody>\n",
       "</table>"
      ],
      "text/plain": [
       "Title                            | Studio          | Gross     | Gross (Adjusted) | Year\n",
       "Gone with the Wind               | MGM             | 198676459 | 1796176700       | 1939\n",
       "Star Wars                        | Fox             | 460998007 | 1583483200       | 1977\n",
       "The Sound of Music               | Fox             | 158671368 | 1266072700       | 1965\n",
       "E.T.: The Extra-Terrestrial      | Universal       | 435110554 | 1261085000       | 1982\n",
       "Titanic                          | Paramount       | 658672302 | 1204368000       | 1997\n",
       "The Ten Commandments             | Paramount       | 65500000  | 1164590000       | 1956\n",
       "Jaws                             | Universal       | 260000000 | 1138620700       | 1975\n",
       "Doctor Zhivago                   | MGM             | 111721910 | 1103564200       | 1965\n",
       "The Exorcist                     | Warner Brothers | 232906145 | 983226600        | 1973\n",
       "Snow White and the Seven Dwarves | Disney          | 184925486 | 969010000        | 1937"
      ]
     },
     "execution_count": 49,
     "metadata": {},
     "output_type": "execute_result"
    }
   ],
   "source": [
    "top10_adjusted = top_movies.take(np.arange(10))\n",
    "top10_adjusted"
   ]
  },
  {
   "cell_type": "code",
   "execution_count": 50,
   "metadata": {},
   "outputs": [
    {
     "name": "stdout",
     "output_type": "stream",
     "text": [
      "Help on function take in module datascience.tables:\n",
      "\n",
      "take(self)\n",
      "    Return a new Table with selected rows taken by index.\n",
      "    \n",
      "    Args:\n",
      "        ``row_indices_or_slice`` (integer or array of integers):\n",
      "        The row index, list of row indices or a slice of row indices to\n",
      "        be selected.\n",
      "    \n",
      "    Returns:\n",
      "        A new instance of ``Table`` with selected rows in order\n",
      "        corresponding to ``row_indices_or_slice``.\n",
      "    \n",
      "    Raises:\n",
      "        ``IndexError``, if any ``row_indices_or_slice`` is out of bounds\n",
      "        with respect to column length.\n",
      "    \n",
      "    >>> grades = Table().with_columns('letter grade',\n",
      "    ...     make_array('A+', 'A', 'A-', 'B+', 'B', 'B-'),\n",
      "    ...     'gpa', make_array(4, 4, 3.7, 3.3, 3, 2.7))\n",
      "    >>> grades\n",
      "    letter grade | gpa\n",
      "    A+           | 4\n",
      "    A            | 4\n",
      "    A-           | 3.7\n",
      "    B+           | 3.3\n",
      "    B            | 3\n",
      "    B-           | 2.7\n",
      "    >>> grades.take(0)\n",
      "    letter grade | gpa\n",
      "    A+           | 4\n",
      "    >>> grades.take(-1)\n",
      "    letter grade | gpa\n",
      "    B-           | 2.7\n",
      "    >>> grades.take(make_array(2, 1, 0))\n",
      "    letter grade | gpa\n",
      "    A-           | 3.7\n",
      "    A            | 4\n",
      "    A+           | 4\n",
      "    >>> grades.take[:3]\n",
      "    letter grade | gpa\n",
      "    A+           | 4\n",
      "    A            | 4\n",
      "    A-           | 3.7\n",
      "    >>> grades.take(np.arange(0,3))\n",
      "    letter grade | gpa\n",
      "    A+           | 4\n",
      "    A            | 4\n",
      "    A-           | 3.7\n",
      "    >>> grades.take(0, 2)\n",
      "    letter grade | gpa\n",
      "    A+           | 4\n",
      "    A-           | 3.7\n",
      "    >>> grades.take(10)\n",
      "    Traceback (most recent call last):\n",
      "        ...\n",
      "    IndexError: index 10 is out of bounds for axis 0 with size 6\n",
      "\n"
     ]
    }
   ],
   "source": [
    "help(Table.take)"
   ]
  },
  {
   "cell_type": "code",
   "execution_count": 51,
   "metadata": {},
   "outputs": [
    {
     "data": {
      "text/html": [
       "<table border=\"1\" class=\"dataframe\">\n",
       "    <thead>\n",
       "        <tr>\n",
       "            <th>Title</th> <th>Studio</th> <th>Gross</th> <th>Gross (Adjusted)</th> <th>Year</th> <th>Millions</th>\n",
       "        </tr>\n",
       "    </thead>\n",
       "    <tbody>\n",
       "        <tr>\n",
       "            <td>Gone with the Wind              </td> <td>MGM            </td> <td>198676459</td> <td>1796176700      </td> <td>1939</td> <td>1796.18 </td>\n",
       "        </tr>\n",
       "        <tr>\n",
       "            <td>Star Wars                       </td> <td>Fox            </td> <td>460998007</td> <td>1583483200      </td> <td>1977</td> <td>1583.48 </td>\n",
       "        </tr>\n",
       "        <tr>\n",
       "            <td>The Sound of Music              </td> <td>Fox            </td> <td>158671368</td> <td>1266072700      </td> <td>1965</td> <td>1266.07 </td>\n",
       "        </tr>\n",
       "        <tr>\n",
       "            <td>E.T.: The Extra-Terrestrial     </td> <td>Universal      </td> <td>435110554</td> <td>1261085000      </td> <td>1982</td> <td>1261.09 </td>\n",
       "        </tr>\n",
       "        <tr>\n",
       "            <td>Titanic                         </td> <td>Paramount      </td> <td>658672302</td> <td>1204368000      </td> <td>1997</td> <td>1204.37 </td>\n",
       "        </tr>\n",
       "        <tr>\n",
       "            <td>The Ten Commandments            </td> <td>Paramount      </td> <td>65500000 </td> <td>1164590000      </td> <td>1956</td> <td>1164.59 </td>\n",
       "        </tr>\n",
       "        <tr>\n",
       "            <td>Jaws                            </td> <td>Universal      </td> <td>260000000</td> <td>1138620700      </td> <td>1975</td> <td>1138.62 </td>\n",
       "        </tr>\n",
       "        <tr>\n",
       "            <td>Doctor Zhivago                  </td> <td>MGM            </td> <td>111721910</td> <td>1103564200      </td> <td>1965</td> <td>1103.56 </td>\n",
       "        </tr>\n",
       "        <tr>\n",
       "            <td>The Exorcist                    </td> <td>Warner Brothers</td> <td>232906145</td> <td>983226600       </td> <td>1973</td> <td>983.227 </td>\n",
       "        </tr>\n",
       "        <tr>\n",
       "            <td>Snow White and the Seven Dwarves</td> <td>Disney         </td> <td>184925486</td> <td>969010000       </td> <td>1937</td> <td>969.01  </td>\n",
       "        </tr>\n",
       "    </tbody>\n",
       "</table>"
      ],
      "text/plain": [
       "Title                            | Studio          | Gross     | Gross (Adjusted) | Year | Millions\n",
       "Gone with the Wind               | MGM             | 198676459 | 1796176700       | 1939 | 1796.18\n",
       "Star Wars                        | Fox             | 460998007 | 1583483200       | 1977 | 1583.48\n",
       "The Sound of Music               | Fox             | 158671368 | 1266072700       | 1965 | 1266.07\n",
       "E.T.: The Extra-Terrestrial      | Universal       | 435110554 | 1261085000       | 1982 | 1261.09\n",
       "Titanic                          | Paramount       | 658672302 | 1204368000       | 1997 | 1204.37\n",
       "The Ten Commandments             | Paramount       | 65500000  | 1164590000       | 1956 | 1164.59\n",
       "Jaws                             | Universal       | 260000000 | 1138620700       | 1975 | 1138.62\n",
       "Doctor Zhivago                   | MGM             | 111721910 | 1103564200       | 1965 | 1103.56\n",
       "The Exorcist                     | Warner Brothers | 232906145 | 983226600        | 1973 | 983.227\n",
       "Snow White and the Seven Dwarves | Disney          | 184925486 | 969010000        | 1937 | 969.01"
      ]
     },
     "execution_count": 51,
     "metadata": {},
     "output_type": "execute_result"
    }
   ],
   "source": [
    "# Convert to millions of dollars for readability\n",
    "millions = np.round(top10_adjusted.column('Gross (Adjusted)') / 1000000, 3)\n",
    "top10_adjusted = top10_adjusted.with_column('Millions', millions)\n",
    "top10_adjusted"
   ]
  },
  {
   "cell_type": "code",
   "execution_count": 52,
   "metadata": {},
   "outputs": [
    {
     "data": {
      "image/png": "[encoded data removed]",
      "text/plain": [
       "<Figure size 432x432 with 1 Axes>"
      ]
     },
     "metadata": {},
     "output_type": "display_data"
    }
   ],
   "source": [
    "# A line plot doesn't make sense here: don't do this!\n",
    "top10_adjusted.plot('Year', 'Millions')"
   ]
  },
  {
   "cell_type": "code",
   "execution_count": 53,
   "metadata": {
    "scrolled": true
   },
   "outputs": [
    {
     "data": {
      "image/png": "[encoded data removed]",
      "text/plain": [
       "<Figure size 432x360 with 1 Axes>"
      ]
     },
     "metadata": {},
     "output_type": "display_data"
    }
   ],
   "source": [
    "top10_adjusted.barh('Title', 'Millions')"
   ]
  },
  {
   "cell_type": "code",
   "execution_count": 74,
   "metadata": {},
   "outputs": [
    {
     "data": {
      "image/png": "[encoded data removed]",
      "text/plain": [
       "<Figure size 432x360 with 1 Axes>"
      ]
     },
     "metadata": {},
     "output_type": "display_data"
    }
   ],
   "source": [
    "# Generate the chart shown in the slides:\n",
    "# bar chart of age (# years since release) for the 10 highest grossing movies (non-adjusted)\n",
    "\n",
    "# 1.find top 10 highest grossing movies (non-adjusted), sort\n",
    "first_ten_rows = np.arange(10) # array = (0, 1,2,3,4,5,6,7,8,9)\n",
    "first_ten_rows\n",
    "top_10_gross_movies = top_movies.sort('Gross', descending = True).take(first_ten_rows)\n",
    "# 2.create a new array, to fill in a new column, called ages\n",
    "# 2022 - year movie came out\n",
    "year_array = top_10_gross_movies.column('Year')\n",
    "ages_array = 2022 - year_array\n",
    "ages_array\n",
    "top_10_gross_movies_ages = top_10_gross_movies.with_column('Ages', ages_array)\n",
    "top_10_gross_movies_ages\n",
    "# 3.chart a bar chart, using .barh('Title','Ages')\n",
    "top_10_gross_movies_sortages = top_10_gross_movies_ages.sort('Ages', descending = True)\n",
    "top_10_gross_movies_sortages\n",
    "top_10_gross_movies_sortages.barh('Title', 'Ages')\n"
   ]
  },
  {
   "cell_type": "code",
   "execution_count": 75,
   "metadata": {},
   "outputs": [
    {
     "name": "stdout",
     "output_type": "stream",
     "text": [
      "Help on function barh in module datascience.tables:\n",
      "\n",
      "barh(self, column_for_categories=None, select=None, overlay=True, width=None, **vargs)\n",
      "    Plot horizontal bar charts for the table. Redirects to ``Table#ibarh`` if interactive plots\n",
      "    are enabled with ``Table#interactive_plots``\n",
      "    \n",
      "    Args:\n",
      "        ``column_for_categories`` (``str``): A column containing y-axis categories\n",
      "            used to create buckets for bar chart.\n",
      "    \n",
      "    Kwargs:\n",
      "        overlay (bool): create a chart with one color per data column;\n",
      "            if False, each will be displayed separately.\n",
      "        show (bool): whether to show the figure if using interactive plots; if false, the \n",
      "            figure is returned instead\n",
      "        vargs: Additional arguments that get passed into `plt.barh`.\n",
      "            See http://matplotlib.org/api/pyplot_api.html#matplotlib.pyplot.barh\n",
      "            for additional arguments that can be passed into vargs.\n",
      "    \n",
      "    Raises:\n",
      "        ValueError -- Every selected except column for ``column_for_categories``\n",
      "            must be numerical.\n",
      "    \n",
      "    Returns:\n",
      "        Horizontal bar graph with buckets specified by ``column_for_categories``.\n",
      "        Each plot is labeled using the values in ``column_for_categories``\n",
      "        and one plot is produced for every other column (or for the columns\n",
      "        designated by ``select``).\n",
      "    \n",
      "    >>> t = Table().with_columns(\n",
      "    ...     'Furniture', make_array('chairs', 'tables', 'desks'),\n",
      "    ...     'Count', make_array(6, 1, 2),\n",
      "    ...     'Price', make_array(10, 20, 30)\n",
      "    ...     )\n",
      "    >>> t\n",
      "    Furniture | Count | Price\n",
      "    chairs    | 6     | 10\n",
      "    tables    | 1     | 20\n",
      "    desks     | 2     | 30\n",
      "    >>> furniture_table.barh('Furniture') # doctest: +SKIP\n",
      "    <bar graph with furniture as categories and bars for count and price>\n",
      "    >>> furniture_table.barh('Furniture', 'Price') # doctest: +SKIP\n",
      "    <bar graph with furniture as categories and bars for price>\n",
      "    >>> furniture_table.barh('Furniture', make_array(1, 2)) # doctest: +SKIP\n",
      "    <bar graph with furniture as categories and bars for count and price>\n",
      "\n"
     ]
    }
   ],
   "source": [
    "help(Table.barh)"
   ]
  },
  {
   "cell_type": "code",
   "execution_count": null,
   "metadata": {},
   "outputs": [],
   "source": []
  }
 ],
 "metadata": {
  "anaconda-cloud": {},
  "kernelspec": {
   "display_name": "Python 3",
   "language": "python",
   "name": "python3"
  },
  "language_info": {
   "codemirror_mode": {
    "name": "ipython",
    "version": 3
   },
   "file_extension": ".py",
   "mimetype": "text/x-python",
   "name": "python",
   "nbconvert_exporter": "python",
   "pygments_lexer": "ipython3",
   "version": "3.7.6"
  },
  "toc": {
   "base_numbering": 1,
   "nav_menu": {},
   "number_sections": false,
   "sideBar": true,
   "skip_h1_title": false,
   "title_cell": "Table of Contents",
   "title_sidebar": "Contents",
   "toc_cell": false,
   "toc_position": {},
   "toc_section_display": true,
   "toc_window_display": false
  }
 },
 "nbformat": 4,
 "nbformat_minor": 1
}
