{
 "cells": [
  {
   "cell_type": "code",
   "execution_count": 2,
   "metadata": {},
   "outputs": [],
   "source": [
    "from datascience import *\n",
    "import numpy as np\n",
    "import warnings\n",
    "warnings.filterwarnings(\"ignore\")\n",
    "\n",
    "%matplotlib inline\n",
    "import matplotlib.pyplot as plots\n",
    "plots.style.use('fivethirtyeight')\n",
    "plots.rcParams[\"patch.force_edgecolor\"] = True"
   ]
  },
  {
   "cell_type": "markdown",
   "metadata": {},
   "source": [
    "## Week 4: Lecture 08 ##"
   ]
  },
  {
   "cell_type": "markdown",
   "metadata": {},
   "source": [
    "## Categorical Distribution ##"
   ]
  },
  {
   "cell_type": "code",
   "execution_count": 3,
   "metadata": {},
   "outputs": [
    {
     "data": {
      "text/html": [
       "<table border=\"1\" class=\"dataframe\">\n",
       "    <thead>\n",
       "        <tr>\n",
       "            <th>Title</th> <th>Studio</th> <th>Gross</th> <th>Gross (Adjusted)</th> <th>Year</th>\n",
       "        </tr>\n",
       "    </thead>\n",
       "    <tbody>\n",
       "        <tr>\n",
       "            <td>Gone with the Wind              </td> <td>MGM            </td> <td>198676459</td> <td>1796176700      </td> <td>1939</td>\n",
       "        </tr>\n",
       "        <tr>\n",
       "            <td>Star Wars                       </td> <td>Fox            </td> <td>460998007</td> <td>1583483200      </td> <td>1977</td>\n",
       "        </tr>\n",
       "        <tr>\n",
       "            <td>The Sound of Music              </td> <td>Fox            </td> <td>158671368</td> <td>1266072700      </td> <td>1965</td>\n",
       "        </tr>\n",
       "        <tr>\n",
       "            <td>E.T.: The Extra-Terrestrial     </td> <td>Universal      </td> <td>435110554</td> <td>1261085000      </td> <td>1982</td>\n",
       "        </tr>\n",
       "        <tr>\n",
       "            <td>Titanic                         </td> <td>Paramount      </td> <td>658672302</td> <td>1204368000      </td> <td>1997</td>\n",
       "        </tr>\n",
       "        <tr>\n",
       "            <td>The Ten Commandments            </td> <td>Paramount      </td> <td>65500000 </td> <td>1164590000      </td> <td>1956</td>\n",
       "        </tr>\n",
       "        <tr>\n",
       "            <td>Jaws                            </td> <td>Universal      </td> <td>260000000</td> <td>1138620700      </td> <td>1975</td>\n",
       "        </tr>\n",
       "        <tr>\n",
       "            <td>Doctor Zhivago                  </td> <td>MGM            </td> <td>111721910</td> <td>1103564200      </td> <td>1965</td>\n",
       "        </tr>\n",
       "        <tr>\n",
       "            <td>The Exorcist                    </td> <td>Warner Brothers</td> <td>232906145</td> <td>983226600       </td> <td>1973</td>\n",
       "        </tr>\n",
       "        <tr>\n",
       "            <td>Snow White and the Seven Dwarves</td> <td>Disney         </td> <td>184925486</td> <td>969010000       </td> <td>1937</td>\n",
       "        </tr>\n",
       "    </tbody>\n",
       "</table>\n",
       "<p>... (190 rows omitted)</p>"
      ],
      "text/plain": [
       "Title                            | Studio          | Gross     | Gross (Adjusted) | Year\n",
       "Gone with the Wind               | MGM             | 198676459 | 1796176700       | 1939\n",
       "Star Wars                        | Fox             | 460998007 | 1583483200       | 1977\n",
       "The Sound of Music               | Fox             | 158671368 | 1266072700       | 1965\n",
       "E.T.: The Extra-Terrestrial      | Universal       | 435110554 | 1261085000       | 1982\n",
       "Titanic                          | Paramount       | 658672302 | 1204368000       | 1997\n",
       "The Ten Commandments             | Paramount       | 65500000  | 1164590000       | 1956\n",
       "Jaws                             | Universal       | 260000000 | 1138620700       | 1975\n",
       "Doctor Zhivago                   | MGM             | 111721910 | 1103564200       | 1965\n",
       "The Exorcist                     | Warner Brothers | 232906145 | 983226600        | 1973\n",
       "Snow White and the Seven Dwarves | Disney          | 184925486 | 969010000        | 1937\n",
       "... (190 rows omitted)"
      ]
     },
     "execution_count": 3,
     "metadata": {},
     "output_type": "execute_result"
    }
   ],
   "source": [
    "top_movies = Table.read_table('data/top_movies_2017.csv')\n",
    "top_movies"
   ]
  },
  {
   "cell_type": "code",
   "execution_count": 4,
   "metadata": {},
   "outputs": [
    {
     "data": {
      "image/png": "[encoded data removed]",
      "text/plain": [
       "<Figure size 432x360 with 1 Axes>"
      ]
     },
     "metadata": {},
     "output_type": "display_data"
    }
   ],
   "source": [
    "top_movies = top_movies.with_column('Millions', np.round(top_movies.column('Gross (Adjusted)')/1000000,3))\n",
    "\n",
    "top_movies.take(np.arange(10)).barh('Title', 'Millions')\n",
    "#top_movies"
   ]
  },
  {
   "cell_type": "code",
   "execution_count": 5,
   "metadata": {},
   "outputs": [
    {
     "data": {
      "text/html": [
       "<table border=\"1\" class=\"dataframe\">\n",
       "    <thead>\n",
       "        <tr>\n",
       "            <th>Studio</th>\n",
       "        </tr>\n",
       "    </thead>\n",
       "    <tbody>\n",
       "        <tr>\n",
       "            <td>MGM            </td>\n",
       "        </tr>\n",
       "        <tr>\n",
       "            <td>Fox            </td>\n",
       "        </tr>\n",
       "        <tr>\n",
       "            <td>Fox            </td>\n",
       "        </tr>\n",
       "        <tr>\n",
       "            <td>Universal      </td>\n",
       "        </tr>\n",
       "        <tr>\n",
       "            <td>Paramount      </td>\n",
       "        </tr>\n",
       "        <tr>\n",
       "            <td>Paramount      </td>\n",
       "        </tr>\n",
       "        <tr>\n",
       "            <td>Universal      </td>\n",
       "        </tr>\n",
       "        <tr>\n",
       "            <td>MGM            </td>\n",
       "        </tr>\n",
       "        <tr>\n",
       "            <td>Warner Brothers</td>\n",
       "        </tr>\n",
       "        <tr>\n",
       "            <td>Disney         </td>\n",
       "        </tr>\n",
       "    </tbody>\n",
       "</table>\n",
       "<p>... (190 rows omitted)</p>"
      ],
      "text/plain": [
       "Studio\n",
       "MGM\n",
       "Fox\n",
       "Fox\n",
       "Universal\n",
       "Paramount\n",
       "Paramount\n",
       "Universal\n",
       "MGM\n",
       "Warner Brothers\n",
       "Disney\n",
       "... (190 rows omitted)"
      ]
     },
     "execution_count": 5,
     "metadata": {},
     "output_type": "execute_result"
    }
   ],
   "source": [
    "studios = top_movies.select('Studio')\n",
    "studios"
   ]
  },
  {
   "cell_type": "code",
   "execution_count": 6,
   "metadata": {},
   "outputs": [],
   "source": [
    "studio_distribution = studios.group('Studio')"
   ]
  },
  {
   "cell_type": "code",
   "execution_count": 7,
   "metadata": {},
   "outputs": [
    {
     "data": {
      "text/html": [
       "<table border=\"1\" class=\"dataframe\">\n",
       "    <thead>\n",
       "        <tr>\n",
       "            <th>Studio</th> <th>count</th>\n",
       "        </tr>\n",
       "    </thead>\n",
       "    <tbody>\n",
       "        <tr>\n",
       "            <td>AVCO       </td> <td>1    </td>\n",
       "        </tr>\n",
       "        <tr>\n",
       "            <td>Buena Vista</td> <td>35   </td>\n",
       "        </tr>\n",
       "        <tr>\n",
       "            <td>Columbia   </td> <td>9    </td>\n",
       "        </tr>\n",
       "        <tr>\n",
       "            <td>Disney     </td> <td>11   </td>\n",
       "        </tr>\n",
       "        <tr>\n",
       "            <td>Dreamworks </td> <td>3    </td>\n",
       "        </tr>\n",
       "        <tr>\n",
       "            <td>Fox        </td> <td>24   </td>\n",
       "        </tr>\n",
       "        <tr>\n",
       "            <td>IFC        </td> <td>1    </td>\n",
       "        </tr>\n",
       "        <tr>\n",
       "            <td>Lionsgate  </td> <td>3    </td>\n",
       "        </tr>\n",
       "        <tr>\n",
       "            <td>MGM        </td> <td>7    </td>\n",
       "        </tr>\n",
       "        <tr>\n",
       "            <td>Metro      </td> <td>1    </td>\n",
       "        </tr>\n",
       "    </tbody>\n",
       "</table>\n",
       "<p>... (13 rows omitted)</p>"
      ],
      "text/plain": [
       "Studio      | count\n",
       "AVCO        | 1\n",
       "Buena Vista | 35\n",
       "Columbia    | 9\n",
       "Disney      | 11\n",
       "Dreamworks  | 3\n",
       "Fox         | 24\n",
       "IFC         | 1\n",
       "Lionsgate   | 3\n",
       "MGM         | 7\n",
       "Metro       | 1\n",
       "... (13 rows omitted)"
      ]
     },
     "execution_count": 7,
     "metadata": {},
     "output_type": "execute_result"
    }
   ],
   "source": [
    "studio_distribution"
   ]
  },
  {
   "cell_type": "code",
   "execution_count": 8,
   "metadata": {},
   "outputs": [
    {
     "data": {
      "text/plain": [
       "200"
      ]
     },
     "execution_count": 8,
     "metadata": {},
     "output_type": "execute_result"
    }
   ],
   "source": [
    "sum(studio_distribution.column('count'))"
   ]
  },
  {
   "cell_type": "code",
   "execution_count": 9,
   "metadata": {},
   "outputs": [
    {
     "data": {
      "text/plain": [
       "200"
      ]
     },
     "execution_count": 9,
     "metadata": {},
     "output_type": "execute_result"
    }
   ],
   "source": [
    "top_movies.num_rows"
   ]
  },
  {
   "cell_type": "markdown",
   "metadata": {},
   "source": [
    "## Bar Charts ##"
   ]
  },
  {
   "cell_type": "code",
   "execution_count": 10,
   "metadata": {},
   "outputs": [
    {
     "data": {
      "image/png": "[encoded data removed]",
      "text/plain": [
       "<Figure size 432x828 with 1 Axes>"
      ]
     },
     "metadata": {},
     "output_type": "display_data"
    }
   ],
   "source": [
    "studio_distribution.barh('Studio')"
   ]
  },
  {
   "cell_type": "code",
   "execution_count": 11,
   "metadata": {},
   "outputs": [
    {
     "data": {
      "image/png": "[encoded data removed]",
      "text/plain": [
       "<Figure size 432x828 with 1 Axes>"
      ]
     },
     "metadata": {},
     "output_type": "display_data"
    }
   ],
   "source": [
    "studio_distribution.sort('count', descending=True).barh('Studio')"
   ]
  },
  {
   "cell_type": "code",
   "execution_count": 12,
   "metadata": {},
   "outputs": [
    {
     "data": {
      "text/html": [
       "<table border=\"1\" class=\"dataframe\">\n",
       "    <thead>\n",
       "        <tr>\n",
       "            <th>Studio</th> <th>count</th>\n",
       "        </tr>\n",
       "    </thead>\n",
       "    <tbody>\n",
       "        <tr>\n",
       "            <td>Buena Vista    </td> <td>35   </td>\n",
       "        </tr>\n",
       "        <tr>\n",
       "            <td>Warner Brothers</td> <td>29   </td>\n",
       "        </tr>\n",
       "        <tr>\n",
       "            <td>Paramount      </td> <td>25   </td>\n",
       "        </tr>\n",
       "        <tr>\n",
       "            <td>Fox            </td> <td>24   </td>\n",
       "        </tr>\n",
       "        <tr>\n",
       "            <td>Universal      </td> <td>23   </td>\n",
       "        </tr>\n",
       "        <tr>\n",
       "            <td>Disney         </td> <td>11   </td>\n",
       "        </tr>\n",
       "        <tr>\n",
       "            <td>Columbia       </td> <td>9    </td>\n",
       "        </tr>\n",
       "        <tr>\n",
       "            <td>MGM            </td> <td>7    </td>\n",
       "        </tr>\n",
       "        <tr>\n",
       "            <td>United Artists </td> <td>6    </td>\n",
       "        </tr>\n",
       "        <tr>\n",
       "            <td>Newline        </td> <td>5    </td>\n",
       "        </tr>\n",
       "    </tbody>\n",
       "</table>\n",
       "<p>... (13 rows omitted)</p>"
      ],
      "text/plain": [
       "Studio          | count\n",
       "Buena Vista     | 35\n",
       "Warner Brothers | 29\n",
       "Paramount       | 25\n",
       "Fox             | 24\n",
       "Universal       | 23\n",
       "Disney          | 11\n",
       "Columbia        | 9\n",
       "MGM             | 7\n",
       "United Artists  | 6\n",
       "Newline         | 5\n",
       "... (13 rows omitted)"
      ]
     },
     "execution_count": 12,
     "metadata": {},
     "output_type": "execute_result"
    }
   ],
   "source": [
    "studio_distribution.sort('count', descending=True)"
   ]
  },
  {
   "cell_type": "markdown",
   "metadata": {},
   "source": [
    "## Numerical Distribution ##"
   ]
  },
  {
   "cell_type": "code",
   "execution_count": 13,
   "metadata": {},
   "outputs": [
    {
     "data": {
      "text/plain": [
       "array([ 83,  45,  57,  40,  25,  66,  47,  57,  49,  85,   7,  61,  42,\n",
       "        63,  13,  39,  29,  23,  28,  49,  41,  55,  81,   7,  50,  28,\n",
       "        58,  44,  10,  57,  14,  55,  63,  38,  18,  53,  52,  20,  26,\n",
       "        32,  82,  59,  38,  58,  52,  49,  69,  16,  66,  80,  48,  33,\n",
       "        77,  19,  19,  48,   6,  72,  18,  70,  58,  44,  18,  17,  37,\n",
       "        20,  10,  23,  44,  40,  45,   5,   6,  61,  21,  67,  45,  60,\n",
       "        47,  46,  76,  50,  21,  26,  25,  65,  13,  59,  62,  47,  52,\n",
       "        38,   7,  20,  29,  30,  12,  32,   9,  76,  10,  19,  69,  68,\n",
       "        25,  33,  21,   9,  15,   9,  31,  81,  22,  36,  11,  23,  21,\n",
       "        15,   9,   6,  19,  15,  36, 101,  24,   5,  48,  69,  38,  31,\n",
       "        17,  17,  15,  20,  29,  68,  14,  11,  18,  14,  27,   5,  32,\n",
       "        40,  54,  34,   6,  55,   7,   8,  43,  24,  62,  40,  15,  37,\n",
       "        27,   6,  32,  48,  12,  18,  22,  30,   6,  35,  20,   8,   7,\n",
       "        26,   8,   7,  45,  41,  23,  13,  19,  18,  54,  22,  21,  27,\n",
       "        52,  35,   6,  25,  31,  35,  12,  13,  30,  20,  41,  13,  50,\n",
       "        42,   6,  29,   6,  34])"
      ]
     },
     "execution_count": 13,
     "metadata": {},
     "output_type": "execute_result"
    }
   ],
   "source": [
    "ages = 2022 - top_movies.column('Year')\n",
    "# ages: what is this data type? ARRAY\n",
    "top_movies = top_movies.with_column('Age', ages)\n",
    "ages"
   ]
  },
  {
   "cell_type": "code",
   "execution_count": 27,
   "metadata": {},
   "outputs": [
    {
     "data": {
      "text/html": [
       "<table border=\"1\" class=\"dataframe\">\n",
       "    <thead>\n",
       "        <tr>\n",
       "            <th>Title</th> <th>Studio</th> <th>Gross</th> <th>Gross (Adjusted)</th> <th>Year</th> <th>Millions</th> <th>Age</th>\n",
       "        </tr>\n",
       "    </thead>\n",
       "    <tbody>\n",
       "    </tbody>\n",
       "</table>"
      ],
      "text/plain": [
       "Title | Studio | Gross | Gross (Adjusted) | Year | Millions | Age"
      ]
     },
     "execution_count": 27,
     "metadata": {},
     "output_type": "execute_result"
    }
   ],
   "source": [
    "top_movies.where('Age',97)"
   ]
  },
  {
   "cell_type": "markdown",
   "metadata": {},
   "source": [
    "## Binning ##"
   ]
  },
  {
   "cell_type": "code",
   "execution_count": 18,
   "metadata": {},
   "outputs": [
    {
     "data": {
      "text/plain": [
       "(5, 101)"
      ]
     },
     "execution_count": 18,
     "metadata": {},
     "output_type": "execute_result"
    }
   ],
   "source": [
    "min(ages), max(ages)"
   ]
  },
  {
   "cell_type": "code",
   "execution_count": 19,
   "metadata": {},
   "outputs": [
    {
     "data": {
      "text/plain": [
       "array([  0,   5,  10,  15,  25,  40,  65, 100])"
      ]
     },
     "execution_count": 19,
     "metadata": {},
     "output_type": "execute_result"
    }
   ],
   "source": [
    "my_bins = make_array(0, 5, 10, 15, 25, 40, 65, 100)\n",
    "my_bins"
   ]
  },
  {
   "cell_type": "code",
   "execution_count": 28,
   "metadata": {},
   "outputs": [
    {
     "data": {
      "text/html": [
       "<table border=\"1\" class=\"dataframe\">\n",
       "    <thead>\n",
       "        <tr>\n",
       "            <th>bin</th> <th>Age count</th>\n",
       "        </tr>\n",
       "    </thead>\n",
       "    <tbody>\n",
       "        <tr>\n",
       "            <td>0   </td> <td>0        </td>\n",
       "        </tr>\n",
       "        <tr>\n",
       "            <td>5   </td> <td>25       </td>\n",
       "        </tr>\n",
       "        <tr>\n",
       "            <td>10  </td> <td>16       </td>\n",
       "        </tr>\n",
       "        <tr>\n",
       "            <td>15  </td> <td>40       </td>\n",
       "        </tr>\n",
       "        <tr>\n",
       "            <td>25  </td> <td>42       </td>\n",
       "        </tr>\n",
       "        <tr>\n",
       "            <td>40  </td> <td>56       </td>\n",
       "        </tr>\n",
       "        <tr>\n",
       "            <td>65  </td> <td>20       </td>\n",
       "        </tr>\n",
       "        <tr>\n",
       "            <td>100 </td> <td>0        </td>\n",
       "        </tr>\n",
       "    </tbody>\n",
       "</table>"
      ],
      "text/plain": [
       "bin  | Age count\n",
       "0    | 0\n",
       "5    | 25\n",
       "10   | 16\n",
       "15   | 40\n",
       "25   | 42\n",
       "40   | 56\n",
       "65   | 20\n",
       "100  | 0"
      ]
     },
     "execution_count": 28,
     "metadata": {},
     "output_type": "execute_result"
    }
   ],
   "source": [
    "binned_data = top_movies.bin('Age', bins = my_bins)\n",
    "type(binned_data) #the data type?\n",
    "#sum(binned_data.column('Age count'))\n",
    "binned_data\n",
    "# what does the 8th row in my binned_data table represent?"
   ]
  },
  {
   "cell_type": "code",
   "execution_count": 17,
   "metadata": {},
   "outputs": [],
   "source": [
    "# There are 0 movies that are 0-4 years old, in our top_movies_2017 database.\n",
    "# There are 25 movies that are 5-9 years old.\n",
    "\n",
    "# There are 0 movies that are 100 years old."
   ]
  },
  {
   "cell_type": "code",
   "execution_count": 18,
   "metadata": {},
   "outputs": [
    {
     "data": {
      "text/plain": [
       "200"
      ]
     },
     "execution_count": 18,
     "metadata": {},
     "output_type": "execute_result"
    }
   ],
   "source": [
    "sum(binned_data.column('Age count'))"
   ]
  },
  {
   "cell_type": "code",
   "execution_count": 34,
   "metadata": {},
   "outputs": [
    {
     "data": {
      "text/html": [
       "<table border=\"1\" class=\"dataframe\">\n",
       "    <thead>\n",
       "        <tr>\n",
       "            <th>bin</th> <th>Age count</th>\n",
       "        </tr>\n",
       "    </thead>\n",
       "    <tbody>\n",
       "        <tr>\n",
       "            <td>0   </td> <td>0        </td>\n",
       "        </tr>\n",
       "        <tr>\n",
       "            <td>5   </td> <td>25       </td>\n",
       "        </tr>\n",
       "        <tr>\n",
       "            <td>10  </td> <td>16       </td>\n",
       "        </tr>\n",
       "        <tr>\n",
       "            <td>15  </td> <td>40       </td>\n",
       "        </tr>\n",
       "        <tr>\n",
       "            <td>25  </td> <td>42       </td>\n",
       "        </tr>\n",
       "        <tr>\n",
       "            <td>40  </td> <td>56       </td>\n",
       "        </tr>\n",
       "        <tr>\n",
       "            <td>65  </td> <td>21       </td>\n",
       "        </tr>\n",
       "        <tr>\n",
       "            <td>101 </td> <td>0        </td>\n",
       "        </tr>\n",
       "    </tbody>\n",
       "</table>"
      ],
      "text/plain": [
       "bin  | Age count\n",
       "0    | 0\n",
       "5    | 25\n",
       "10   | 16\n",
       "15   | 40\n",
       "25   | 42\n",
       "40   | 56\n",
       "65   | 21\n",
       "101  | 0"
      ]
     },
     "execution_count": 34,
     "metadata": {},
     "output_type": "execute_result"
    }
   ],
   "source": [
    "my_bins = make_array(0, 5, 10, 15, 25, 40, 65, 101)\n",
    "my_bins\n",
    "new_bins = top_movies.bin('Age', bins = my_bins)\n",
    "# how would you interpret the last row below?\n",
    "# in a sentence:\n",
    "\n",
    "new_bins"
   ]
  },
  {
   "cell_type": "code",
   "execution_count": 35,
   "metadata": {},
   "outputs": [
    {
     "data": {
      "text/plain": [
       "200"
      ]
     },
     "execution_count": 35,
     "metadata": {},
     "output_type": "execute_result"
    }
   ],
   "source": [
    "25+16+40+42+56+21"
   ]
  },
  {
   "cell_type": "code",
   "execution_count": 20,
   "metadata": {},
   "outputs": [
    {
     "data": {
      "text/html": [
       "<table border=\"1\" class=\"dataframe\">\n",
       "    <thead>\n",
       "        <tr>\n",
       "            <th>bin</th> <th>Age count</th>\n",
       "        </tr>\n",
       "    </thead>\n",
       "    <tbody>\n",
       "        <tr>\n",
       "            <td>0   </td> <td>85       </td>\n",
       "        </tr>\n",
       "        <tr>\n",
       "            <td>25  </td> <td>69       </td>\n",
       "        </tr>\n",
       "        <tr>\n",
       "            <td>50  </td> <td>0        </td>\n",
       "        </tr>\n",
       "    </tbody>\n",
       "</table>"
      ],
      "text/plain": [
       "bin  | Age count\n",
       "0    | 85\n",
       "25   | 69\n",
       "50   | 0"
      ]
     },
     "execution_count": 20,
     "metadata": {},
     "output_type": "execute_result"
    }
   ],
   "source": [
    "top_movies.bin('Age', bins = np.arange(0, 60, 25))\n",
    "# np.arange(0,60,25) = (0, 25, 50)\n",
    "# how many bins? 2"
   ]
  },
  {
   "cell_type": "code",
   "execution_count": 21,
   "metadata": {},
   "outputs": [
    {
     "data": {
      "text/html": [
       "<table border=\"1\" class=\"dataframe\">\n",
       "    <thead>\n",
       "        <tr>\n",
       "            <th>Title</th> <th>Studio</th> <th>Gross</th> <th>Gross (Adjusted)</th> <th>Year</th> <th>Millions</th> <th>Age</th>\n",
       "        </tr>\n",
       "    </thead>\n",
       "    <tbody>\n",
       "        <tr>\n",
       "            <td>The Godfather         </td> <td>Paramount      </td> <td>134966411</td> <td>701621600       </td> <td>1972</td> <td>701.622 </td> <td>49  </td>\n",
       "        </tr>\n",
       "        <tr>\n",
       "            <td>The Poseidon Adventure</td> <td>Fox            </td> <td>84563118 </td> <td>488078400       </td> <td>1972</td> <td>488.078 </td> <td>49  </td>\n",
       "        </tr>\n",
       "        <tr>\n",
       "            <td>What's Up, Doc?       </td> <td>Warner Brothers</td> <td>66000000 </td> <td>345141200       </td> <td>1972</td> <td>345.141 </td> <td>49  </td>\n",
       "        </tr>\n",
       "    </tbody>\n",
       "</table>"
      ],
      "text/plain": [
       "Title                  | Studio          | Gross     | Gross (Adjusted) | Year | Millions | Age\n",
       "The Godfather          | Paramount       | 134966411 | 701621600        | 1972 | 701.622  | 49\n",
       "The Poseidon Adventure | Fox             | 84563118  | 488078400        | 1972 | 488.078  | 49\n",
       "What's Up, Doc?        | Warner Brothers | 66000000  | 345141200        | 1972 | 345.141  | 49"
      ]
     },
     "execution_count": 21,
     "metadata": {},
     "output_type": "execute_result"
    }
   ],
   "source": [
    "top_movies.where('Age', 49)"
   ]
  },
  {
   "cell_type": "markdown",
   "metadata": {},
   "source": [
    "## Histograms ##"
   ]
  },
  {
   "cell_type": "code",
   "execution_count": 22,
   "metadata": {},
   "outputs": [
    {
     "data": {
      "text/plain": [
       "array([  0,   5,  10,  15,  25,  40,  65, 100])"
      ]
     },
     "execution_count": 22,
     "metadata": {},
     "output_type": "execute_result"
    }
   ],
   "source": [
    "my_bins"
   ]
  },
  {
   "cell_type": "code",
   "execution_count": 23,
   "metadata": {},
   "outputs": [
    {
     "data": {
      "text/html": [
       "<table border=\"1\" class=\"dataframe\">\n",
       "    <thead>\n",
       "        <tr>\n",
       "            <th>bin</th> <th>Age count</th>\n",
       "        </tr>\n",
       "    </thead>\n",
       "    <tbody>\n",
       "        <tr>\n",
       "            <td>0   </td> <td>3        </td>\n",
       "        </tr>\n",
       "        <tr>\n",
       "            <td>5   </td> <td>25       </td>\n",
       "        </tr>\n",
       "        <tr>\n",
       "            <td>10  </td> <td>18       </td>\n",
       "        </tr>\n",
       "        <tr>\n",
       "            <td>15  </td> <td>39       </td>\n",
       "        </tr>\n",
       "        <tr>\n",
       "            <td>25  </td> <td>42       </td>\n",
       "        </tr>\n",
       "        <tr>\n",
       "            <td>40  </td> <td>53       </td>\n",
       "        </tr>\n",
       "        <tr>\n",
       "            <td>65  </td> <td>20       </td>\n",
       "        </tr>\n",
       "        <tr>\n",
       "            <td>100 </td> <td>0        </td>\n",
       "        </tr>\n",
       "    </tbody>\n",
       "</table>"
      ],
      "text/plain": [
       "bin  | Age count\n",
       "0    | 3\n",
       "5    | 25\n",
       "10   | 18\n",
       "15   | 39\n",
       "25   | 42\n",
       "40   | 53\n",
       "65   | 20\n",
       "100  | 0"
      ]
     },
     "execution_count": 23,
     "metadata": {},
     "output_type": "execute_result"
    }
   ],
   "source": [
    "binned_data"
   ]
  },
  {
   "cell_type": "code",
   "execution_count": 24,
   "metadata": {},
   "outputs": [
    {
     "data": {
      "image/png": "[encoded data removed]",
      "text/plain": [
       "<Figure size 432x288 with 1 Axes>"
      ]
     },
     "metadata": {},
     "output_type": "display_data"
    }
   ],
   "source": [
    "# Let's make our first histogram!\n",
    "top_movies.hist('Age', bins = my_bins, unit = 'Year')"
   ]
  },
  {
   "cell_type": "code",
   "execution_count": 25,
   "metadata": {},
   "outputs": [
    {
     "data": {
      "image/png": "[encoded data removed]",
      "text/plain": [
       "<Figure size 432x288 with 1 Axes>"
      ]
     },
     "metadata": {},
     "output_type": "display_data"
    }
   ],
   "source": [
    "# Let's try equally spaced bins instead.\n",
    "top_movies.hist('Age', bins = np.arange(0, 110, 10), unit = 'Year')"
   ]
  },
  {
   "cell_type": "code",
   "execution_count": 26,
   "metadata": {},
   "outputs": [
    {
     "data": {
      "image/png": "[encoded data removed]",
      "text/plain": [
       "<Figure size 432x288 with 1 Axes>"
      ]
     },
     "metadata": {},
     "output_type": "display_data"
    }
   ],
   "source": [
    "# Let's try not specifying any bins!\n",
    "top_movies.hist('Age', unit='Year')"
   ]
  },
  {
   "cell_type": "code",
   "execution_count": 27,
   "metadata": {},
   "outputs": [],
   "source": [
    "# Add a column containing what percent of movies are in each bin\n",
    "binned_data = binned_data.with_column(\n",
    "    'Percent', 100*binned_data.column('Age count')/200)"
   ]
  },
  {
   "cell_type": "code",
   "execution_count": 28,
   "metadata": {},
   "outputs": [
    {
     "data": {
      "text/html": [
       "<table border=\"1\" class=\"dataframe\">\n",
       "    <thead>\n",
       "        <tr>\n",
       "            <th>bin</th> <th>Age count</th> <th>Percent</th>\n",
       "        </tr>\n",
       "    </thead>\n",
       "    <tbody>\n",
       "        <tr>\n",
       "            <td>0   </td> <td>3        </td> <td>1.5    </td>\n",
       "        </tr>\n",
       "        <tr>\n",
       "            <td>5   </td> <td>25       </td> <td>12.5   </td>\n",
       "        </tr>\n",
       "        <tr>\n",
       "            <td>10  </td> <td>18       </td> <td>9      </td>\n",
       "        </tr>\n",
       "        <tr>\n",
       "            <td>15  </td> <td>39       </td> <td>19.5   </td>\n",
       "        </tr>\n",
       "        <tr>\n",
       "            <td>25  </td> <td>42       </td> <td>21     </td>\n",
       "        </tr>\n",
       "        <tr>\n",
       "            <td>40  </td> <td>53       </td> <td>26.5   </td>\n",
       "        </tr>\n",
       "        <tr>\n",
       "            <td>65  </td> <td>20       </td> <td>10     </td>\n",
       "        </tr>\n",
       "        <tr>\n",
       "            <td>100 </td> <td>0        </td> <td>0      </td>\n",
       "        </tr>\n",
       "    </tbody>\n",
       "</table>"
      ],
      "text/plain": [
       "bin  | Age count | Percent\n",
       "0    | 3         | 1.5\n",
       "5    | 25        | 12.5\n",
       "10   | 18        | 9\n",
       "15   | 39        | 19.5\n",
       "25   | 42        | 21\n",
       "40   | 53        | 26.5\n",
       "65   | 20        | 10\n",
       "100  | 0         | 0"
      ]
     },
     "execution_count": 28,
     "metadata": {},
     "output_type": "execute_result"
    }
   ],
   "source": [
    "binned_data"
   ]
  },
  {
   "cell_type": "markdown",
   "metadata": {},
   "source": [
    "## Height ##\n",
    "\n",
    "### Question: What is the height of the [40, 65] bin?"
   ]
  },
  {
   "cell_type": "code",
   "execution_count": 29,
   "metadata": {},
   "outputs": [],
   "source": [
    "# Step 1: Calculate % of movies in the [40, 65) bin\n",
    "percent = binned_data.where('bin', 40).column('Percent').item(0)"
   ]
  },
  {
   "cell_type": "code",
   "execution_count": 30,
   "metadata": {},
   "outputs": [],
   "source": [
    "# Step 2: Calculate the width of the 40-65 bin\n",
    "width = 65 - 40"
   ]
  },
  {
   "cell_type": "code",
   "execution_count": 31,
   "metadata": {},
   "outputs": [
    {
     "data": {
      "text/plain": [
       "1.06"
      ]
     },
     "execution_count": 31,
     "metadata": {},
     "output_type": "execute_result"
    }
   ],
   "source": [
    "# Step 3: Area of rectangle = height * width\n",
    "#         --> height = percent / width\n",
    "height = percent / width\n",
    "height"
   ]
  },
  {
   "cell_type": "markdown",
   "metadata": {},
   "source": [
    "### What are the heights of the rest of the bins?"
   ]
  },
  {
   "cell_type": "code",
   "execution_count": 32,
   "metadata": {},
   "outputs": [],
   "source": [
    "# Get the bin lefts\n",
    "bin_lefts = binned_data.take(np.arange(binned_data.num_rows - 1))"
   ]
  },
  {
   "cell_type": "code",
   "execution_count": 33,
   "metadata": {},
   "outputs": [],
   "source": [
    "# Get the bin widths\n",
    "bin_widths = np.diff(binned_data.column('bin'))\n",
    "bin_lefts = bin_lefts.with_column('Width', bin_widths)"
   ]
  },
  {
   "cell_type": "code",
   "execution_count": 34,
   "metadata": {},
   "outputs": [],
   "source": [
    "# Get the bin heights\n",
    "bin_heights = bin_lefts.column('Percent') / bin_widths # percent/widths\n",
    "bin_lefts = bin_lefts.with_column('Height', bin_heights)"
   ]
  },
  {
   "cell_type": "code",
   "execution_count": 35,
   "metadata": {},
   "outputs": [
    {
     "data": {
      "text/html": [
       "<table border=\"1\" class=\"dataframe\">\n",
       "    <thead>\n",
       "        <tr>\n",
       "            <th>bin</th> <th>Age count</th> <th>Percent</th> <th>Width</th> <th>Height</th>\n",
       "        </tr>\n",
       "    </thead>\n",
       "    <tbody>\n",
       "        <tr>\n",
       "            <td>0   </td> <td>3        </td> <td>1.5    </td> <td>5    </td> <td>0.3     </td>\n",
       "        </tr>\n",
       "        <tr>\n",
       "            <td>5   </td> <td>25       </td> <td>12.5   </td> <td>5    </td> <td>2.5     </td>\n",
       "        </tr>\n",
       "        <tr>\n",
       "            <td>10  </td> <td>18       </td> <td>9      </td> <td>5    </td> <td>1.8     </td>\n",
       "        </tr>\n",
       "        <tr>\n",
       "            <td>15  </td> <td>39       </td> <td>19.5   </td> <td>10   </td> <td>1.95    </td>\n",
       "        </tr>\n",
       "        <tr>\n",
       "            <td>25  </td> <td>42       </td> <td>21     </td> <td>15   </td> <td>1.4     </td>\n",
       "        </tr>\n",
       "        <tr>\n",
       "            <td>40  </td> <td>53       </td> <td>26.5   </td> <td>25   </td> <td>1.06    </td>\n",
       "        </tr>\n",
       "        <tr>\n",
       "            <td>65  </td> <td>20       </td> <td>10     </td> <td>35   </td> <td>0.285714</td>\n",
       "        </tr>\n",
       "    </tbody>\n",
       "</table>"
      ],
      "text/plain": [
       "bin  | Age count | Percent | Width | Height\n",
       "0    | 3         | 1.5     | 5     | 0.3\n",
       "5    | 25        | 12.5    | 5     | 2.5\n",
       "10   | 18        | 9       | 5     | 1.8\n",
       "15   | 39        | 19.5    | 10    | 1.95\n",
       "25   | 42        | 21      | 15    | 1.4\n",
       "40   | 53        | 26.5    | 25    | 1.06\n",
       "65   | 20        | 10      | 35    | 0.285714"
      ]
     },
     "execution_count": 35,
     "metadata": {},
     "output_type": "execute_result"
    }
   ],
   "source": [
    "bin_lefts"
   ]
  },
  {
   "cell_type": "code",
   "execution_count": 36,
   "metadata": {},
   "outputs": [
    {
     "data": {
      "image/png": "[encoded data removed]",
      "text/plain": [
       "<Figure size 432x288 with 1 Axes>"
      ]
     },
     "metadata": {},
     "output_type": "display_data"
    }
   ],
   "source": [
    "top_movies.hist('Age', bins = my_bins, unit = 'Year')"
   ]
  }
 ],
 "metadata": {
  "anaconda-cloud": {},
  "kernelspec": {
   "display_name": "Python 3",
   "language": "python",
   "name": "python3"
  },
  "language_info": {
   "codemirror_mode": {
    "name": "ipython",
    "version": 3
   },
   "file_extension": ".py",
   "mimetype": "text/x-python",
   "name": "python",
   "nbconvert_exporter": "python",
   "pygments_lexer": "ipython3",
   "version": "3.7.6"
  },
  "toc": {
   "base_numbering": 1,
   "nav_menu": {},
   "number_sections": false,
   "sideBar": true,
   "skip_h1_title": false,
   "title_cell": "Table of Contents",
   "title_sidebar": "Contents",
   "toc_cell": false,
   "toc_position": {},
   "toc_section_display": true,
   "toc_window_display": false
  }
 },
 "nbformat": 4,
 "nbformat_minor": 1
}
